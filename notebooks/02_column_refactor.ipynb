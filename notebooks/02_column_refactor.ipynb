{
 "cells": [
  {
   "cell_type": "markdown",
   "id": "5dc44585-27cb-4946-96a5-e4b4b6c929db",
   "metadata": {},
   "source": [
    "**Previous book**: <a href='./01_initial_inspection.ipynb'>[Intial Inspection]</a>"
   ]
  },
  {
   "cell_type": "markdown",
   "id": "471cf1a8-0527-41cb-ac53-2373c7bb80ee",
   "metadata": {},
   "source": [
    "## Part 2: Column refactoring\n",
    "**NOTE**: This notebook expects <code>stage1_cleaned.csv</code> from the <code>01_initial_inspection.ipynb</code> notebook!\n",
    "\n",
    "\n",
    "In the next stage of cleaning, we will restructure the columns of the dataset to improve its organisation and readability while keeping the underlying information intact. This process will divide existing columns into multiple new columns, and rename columns to better describe their contents.\n",
    "\n",
    "**Input:** <code>/data/interim/stage1_cleaned.csv</code>\n",
    "<br>\n",
    "**Output:** <code>/data/interim/stage2_refactored.csv</code>\n",
    "### Initial imports\n",
    "To start, we need to import the modified dataset from the previous stage, <code>stage1_cleaned.csv</code> found in the <code>interrim</code> folder."
   ]
  },
  {
   "cell_type": "code",
   "execution_count": 1,
   "id": "1223c1c8-1e38-4791-b6ad-2aebbccc539d",
   "metadata": {},
   "outputs": [
    {
     "data": {
      "text/html": [
       "<div>\n",
       "<style scoped>\n",
       "    .dataframe tbody tr th:only-of-type {\n",
       "        vertical-align: middle;\n",
       "    }\n",
       "\n",
       "    .dataframe tbody tr th {\n",
       "        vertical-align: top;\n",
       "    }\n",
       "\n",
       "    .dataframe thead th {\n",
       "        text-align: right;\n",
       "    }\n",
       "</style>\n",
       "<table border=\"1\" class=\"dataframe\">\n",
       "  <thead>\n",
       "    <tr style=\"text-align: right;\">\n",
       "      <th></th>\n",
       "      <th>MOVIES</th>\n",
       "      <th>YEAR</th>\n",
       "      <th>GENRE</th>\n",
       "      <th>RATING</th>\n",
       "      <th>ONE-LINE</th>\n",
       "      <th>STARS</th>\n",
       "      <th>VOTES</th>\n",
       "      <th>RunTime</th>\n",
       "      <th>Gross</th>\n",
       "    </tr>\n",
       "  </thead>\n",
       "  <tbody>\n",
       "    <tr>\n",
       "      <th>0</th>\n",
       "      <td>Blood Red Sky</td>\n",
       "      <td>(2021)</td>\n",
       "      <td>Action, Horror, Thriller</td>\n",
       "      <td>6.1</td>\n",
       "      <td>A woman with a mysterious illness is forced in...</td>\n",
       "      <td>Director:Peter Thorwarth|     Stars:Peri Baume...</td>\n",
       "      <td>21062</td>\n",
       "      <td>121</td>\n",
       "      <td>NaN</td>\n",
       "    </tr>\n",
       "    <tr>\n",
       "      <th>1</th>\n",
       "      <td>Masters of the Universe: Revelation</td>\n",
       "      <td>(2021– )</td>\n",
       "      <td>Animation, Action, Adventure</td>\n",
       "      <td>5.0</td>\n",
       "      <td>The war for Eternia begins again in what may b...</td>\n",
       "      <td>Stars:Chris Wood, Sarah Michelle Gellar, Lena ...</td>\n",
       "      <td>17870</td>\n",
       "      <td>25</td>\n",
       "      <td>NaN</td>\n",
       "    </tr>\n",
       "    <tr>\n",
       "      <th>2</th>\n",
       "      <td>The Walking Dead</td>\n",
       "      <td>(2010–2022)</td>\n",
       "      <td>Drama, Horror, Thriller</td>\n",
       "      <td>8.2</td>\n",
       "      <td>Sheriff Deputy Rick Grimes wakes up from a com...</td>\n",
       "      <td>Stars:Andrew Lincoln, Norman Reedus, Melissa M...</td>\n",
       "      <td>885805</td>\n",
       "      <td>44</td>\n",
       "      <td>NaN</td>\n",
       "    </tr>\n",
       "    <tr>\n",
       "      <th>3</th>\n",
       "      <td>Rick and Morty</td>\n",
       "      <td>(2013– )</td>\n",
       "      <td>Animation, Adventure, Comedy</td>\n",
       "      <td>9.2</td>\n",
       "      <td>An animated series that follows the exploits o...</td>\n",
       "      <td>Stars:Justin Roiland, Chris Parnell, Spencer G...</td>\n",
       "      <td>414849</td>\n",
       "      <td>23</td>\n",
       "      <td>NaN</td>\n",
       "    </tr>\n",
       "    <tr>\n",
       "      <th>4</th>\n",
       "      <td>Army of Thieves</td>\n",
       "      <td>(2021)</td>\n",
       "      <td>Action, Crime, Horror</td>\n",
       "      <td>NaN</td>\n",
       "      <td>A prequel, set before the events of Army of th...</td>\n",
       "      <td>Director:Matthias Schweighöfer|     Stars:Matt...</td>\n",
       "      <td>&lt;NA&gt;</td>\n",
       "      <td>&lt;NA&gt;</td>\n",
       "      <td>NaN</td>\n",
       "    </tr>\n",
       "  </tbody>\n",
       "</table>\n",
       "</div>"
      ],
      "text/plain": [
       "                                MOVIES         YEAR  \\\n",
       "0                        Blood Red Sky       (2021)   \n",
       "1  Masters of the Universe: Revelation     (2021– )   \n",
       "2                     The Walking Dead  (2010–2022)   \n",
       "3                       Rick and Morty     (2013– )   \n",
       "4                      Army of Thieves       (2021)   \n",
       "\n",
       "                          GENRE  RATING  \\\n",
       "0      Action, Horror, Thriller     6.1   \n",
       "1  Animation, Action, Adventure     5.0   \n",
       "2       Drama, Horror, Thriller     8.2   \n",
       "3  Animation, Adventure, Comedy     9.2   \n",
       "4         Action, Crime, Horror     NaN   \n",
       "\n",
       "                                            ONE-LINE  \\\n",
       "0  A woman with a mysterious illness is forced in...   \n",
       "1  The war for Eternia begins again in what may b...   \n",
       "2  Sheriff Deputy Rick Grimes wakes up from a com...   \n",
       "3  An animated series that follows the exploits o...   \n",
       "4  A prequel, set before the events of Army of th...   \n",
       "\n",
       "                                               STARS   VOTES  RunTime  Gross  \n",
       "0  Director:Peter Thorwarth|     Stars:Peri Baume...   21062      121    NaN  \n",
       "1  Stars:Chris Wood, Sarah Michelle Gellar, Lena ...   17870       25    NaN  \n",
       "2  Stars:Andrew Lincoln, Norman Reedus, Melissa M...  885805       44    NaN  \n",
       "3  Stars:Justin Roiland, Chris Parnell, Spencer G...  414849       23    NaN  \n",
       "4  Director:Matthias Schweighöfer|     Stars:Matt...    <NA>     <NA>    NaN  "
      ]
     },
     "execution_count": 1,
     "metadata": {},
     "output_type": "execute_result"
    }
   ],
   "source": [
    "import numpy as np\n",
    "import pandas as pd\n",
    "import re\n",
    "\n",
    "# Ensure int type columns import as int (this happens because missing values are interpreted as floats)\n",
    "df = pd.read_csv(\"../data/interim/stage1_cleaned.csv\",dtype={\"VOTES\": \"Int64\",\"RunTime\": \"Int64\"})\n",
    "df.head()"
   ]
  },
  {
   "cell_type": "markdown",
   "id": "0627e33b-f2af-4067-a7be-d5757a2cb7bf",
   "metadata": {},
   "source": [
    "### Refactoring\n",
    "This next step of cleaning is more transformative, restructuring the underlying data while trying to preserve as much information as possible.\n",
    "</p>\n",
    "<b>Regular Expressions</b>, or Regex, are a powerful tool here. Regex can be used to match a certain series of characters in a larger string. \n",
    "The following regex function can match a specific string of characters in a column, and extract the information and assign it to a different column:"
   ]
  },
  {
   "cell_type": "code",
   "execution_count": 2,
   "id": "b5abc8c4-5c2a-438e-8292-b91635f79133",
   "metadata": {},
   "outputs": [],
   "source": [
    "def regex_extract(df, new_column, old_column, regex_pattern):\n",
    "    df[new_column] = df[old_column].str.extract(regex_pattern)"
   ]
  },
  {
   "cell_type": "markdown",
   "id": "35b9a597-b8ad-4e4f-bf36-6d0463ff6756",
   "metadata": {},
   "source": [
    "#### YEAR\n",
    "As shown earlier, the <code>YEAR</code> column contains three pieces of information, when a production was released, when it ended (if applicable) and what type of production it was.\n",
    "\n",
    "Using the <code>regex_extract</code> function to extract each piece of information: "
   ]
  },
  {
   "cell_type": "code",
   "execution_count": 3,
   "id": "34213b9f-4f2b-4457-983d-58fbb0922118",
   "metadata": {},
   "outputs": [],
   "source": [
    "regex_extract(df, \"start_year\", \"YEAR\", r\"\\((\\d{4})\")\n",
    "regex_extract(df, \"end_year\", \"YEAR\", r\"\\(\\d{4}–(.*)\\)\")"
   ]
  },
  {
   "cell_type": "code",
   "execution_count": 4,
   "id": "c13e1ac6-e2ca-46c3-b86b-732025c90ed3",
   "metadata": {},
   "outputs": [
    {
     "data": {
      "text/plain": [
       "start_year\n",
       "2020    1676\n",
       "2019    1334\n",
       "2018    1074\n",
       "2021     987\n",
       "2017     835\n",
       "2016     579\n",
       "2015     426\n",
       "2014     360\n",
       "2013     263\n",
       "2012     188\n",
       "Name: count, dtype: int64"
      ]
     },
     "execution_count": 4,
     "metadata": {},
     "output_type": "execute_result"
    }
   ],
   "source": [
    "df[\"start_year\"].value_counts().head(10)"
   ]
  },
  {
   "cell_type": "markdown",
   "id": "da9e2dc8-5803-4233-be93-b419c968c738",
   "metadata": {},
   "source": [
    "Any row with a single blank space (not a missing value) does not have an end year, and is considered to be 'ongoing' (i.e. not yet finished):"
   ]
  },
  {
   "cell_type": "code",
   "execution_count": 5,
   "id": "5ad30e81-00fb-4eb8-9c93-2b45cd8236d6",
   "metadata": {},
   "outputs": [],
   "source": [
    "df.loc[df[\"end_year\"] == \" \", \"end_year\"] = \"Ongoing\""
   ]
  },
  {
   "cell_type": "code",
   "execution_count": 6,
   "id": "dcd9cf80-4f75-4a07-a1e9-2a93e318592f",
   "metadata": {},
   "outputs": [
    {
     "data": {
      "text/plain": [
       "end_year\n",
       "Ongoing    2911\n",
       "2020        446\n",
       "2021        208\n",
       "2019        143\n",
       "2012         94\n",
       "2018         84\n",
       "2008         78\n",
       "2013         72\n",
       "2014         57\n",
       "2017         57\n",
       "Name: count, dtype: int64"
      ]
     },
     "execution_count": 6,
     "metadata": {},
     "output_type": "execute_result"
    }
   ],
   "source": [
    "df[\"end_year\"].value_counts().head(10)"
   ]
  },
  {
   "cell_type": "markdown",
   "id": "f66e8db4-9fe4-45c3-a5f0-7a21187e4118",
   "metadata": {},
   "source": [
    "Most of the records for <code>end_year</code> are <code>Ongoing</code>. However, as this dataset is from 2021, the information is not up-to-date. It is necessary to consult an external source in a future stage of this project."
   ]
  },
  {
   "cell_type": "markdown",
   "id": "234fc757-0804-43f0-b59a-86ed7b37e215",
   "metadata": {},
   "source": [
    "The last piece of information in the <code>YEAR</code> column is the production type. This can be extracted using the <code>apply</code> method of pandas."
   ]
  },
  {
   "cell_type": "code",
   "execution_count": 7,
   "id": "4703fac0-50d8-4110-87c5-1bae8a026830",
   "metadata": {},
   "outputs": [],
   "source": [
    "def production_type(entry):\n",
    "    try:\n",
    "        entry_string = re.findall(r\"([^\\W\\d]+(?:\\s[^\\W\\d]+)?)\", entry)\n",
    "        return entry_string[0]\n",
    "    # IndexError - no matches found\n",
    "    # TypeError - no string returned\n",
    "    except (IndexError, TypeError):\n",
    "        return np.nan\n",
    "\n",
    "df[\"production_type\"] = df[\"YEAR\"].apply(production_type)"
   ]
  },
  {
   "cell_type": "markdown",
   "id": "5ffa9b30-f4fd-4b91-9e12-6032a8c4cb97",
   "metadata": {},
   "source": [
    "All the information in the <code>YEAR</code> column is preserved in new columns, and so is now redundant. Drop the redundant column:"
   ]
  },
  {
   "cell_type": "code",
   "execution_count": 8,
   "id": "d2d64e37-07f0-462e-89ef-24f879c50d36",
   "metadata": {},
   "outputs": [],
   "source": [
    "df = df.drop(\"YEAR\", axis=1)"
   ]
  },
  {
   "cell_type": "markdown",
   "id": "a6547af2-b385-4447-ad95-75cf1f1d12bd",
   "metadata": {},
   "source": [
    "#### STARS\n",
    "As shown previously, the <code>STARS</code> column contains semi-structured data unsuitable for a table in a relational database. Extract the actors into an <code>actors</code> column and convert to a list:"
   ]
  },
  {
   "cell_type": "code",
   "execution_count": 9,
   "id": "db2ac152-7454-4f68-94d7-318e5743e193",
   "metadata": {},
   "outputs": [],
   "source": [
    "regex_extract(df, \"actors\", \"STARS\", r\"(?:Star[s]?:)(.+)\")"
   ]
  },
  {
   "cell_type": "markdown",
   "id": "79da6017-8b12-4ce7-a13a-782917574260",
   "metadata": {},
   "source": [
    "Do the same for directors:"
   ]
  },
  {
   "cell_type": "code",
   "execution_count": 10,
   "id": "3bd1cced-26a6-4d90-8f5e-2b8a2a176979",
   "metadata": {},
   "outputs": [],
   "source": [
    "regex_extract(df, \"director\", \"STARS\", \"(?:Director[s]?:)([^|]+)\")"
   ]
  },
  {
   "cell_type": "markdown",
   "id": "689ed3d0-959a-45e4-a6eb-a7afad192ef0",
   "metadata": {},
   "source": [
    "With all the information extracted from the <code>STARS</code> column, it can be safely dropped:"
   ]
  },
  {
   "cell_type": "code",
   "execution_count": 11,
   "id": "a52eb33c-b1d9-4ae6-8d39-1c047b6f9411",
   "metadata": {},
   "outputs": [],
   "source": [
    "df = df.drop(\"STARS\", axis=1)"
   ]
  },
  {
   "cell_type": "markdown",
   "id": "799e5021-a76a-4792-acfd-5478032cf607",
   "metadata": {},
   "source": [
    "### Renaming and reordering\n",
    "Rename the columns to be both descriptive and consistently formatted:"
   ]
  },
  {
   "cell_type": "code",
   "execution_count": 12,
   "id": "1f96f54e-56d1-4242-bbba-3bf07310bc8f",
   "metadata": {},
   "outputs": [],
   "source": [
    "new_names = {\n",
    "    \"MOVIES\": \"title\",\n",
    "    \"GENRE\": \"genre\",\n",
    "    \"RATING\": \"rating\",\n",
    "    \"ONE-LINE\": \"summary\",\n",
    "    \"VOTES\": \"votes\",\n",
    "    \"RunTime\": \"run_time\",\n",
    "    \"Gross\": \"gross\"\n",
    "}\n",
    "\n",
    "df = df.rename(new_names, axis=1)"
   ]
  },
  {
   "cell_type": "markdown",
   "id": "6625817b-977c-4ed8-b960-4b680f72ce53",
   "metadata": {},
   "source": [
    "Finally, reordering the columns into a more logical order:"
   ]
  },
  {
   "cell_type": "code",
   "execution_count": 13,
   "id": "e6bb8195-27bc-4b48-927b-9a0f82a59ad1",
   "metadata": {},
   "outputs": [],
   "source": [
    "ordered_columns = [\n",
    "    \"title\",\n",
    "    \"start_year\",\n",
    "    \"end_year\",\n",
    "    \"genre\",\n",
    "    \"summary\",\n",
    "    \"rating\",\n",
    "    \"votes\",\n",
    "    \"run_time\",\n",
    "    \"gross\",\n",
    "    \"production_type\",\n",
    "    \"actors\",\n",
    "    \"director\"\n",
    "]\n",
    "\n",
    "df = df.loc[:, ordered_columns]"
   ]
  },
  {
   "cell_type": "markdown",
   "id": "d30bb95f-e756-4485-bfbb-c8fb9e016fe0",
   "metadata": {},
   "source": [
    "### Refactoring summary\n",
    "Re-examine the head of the data frame to check the changes:"
   ]
  },
  {
   "cell_type": "code",
   "execution_count": 14,
   "id": "388e8338-b6d5-4956-84cd-1c71796cfd75",
   "metadata": {},
   "outputs": [
    {
     "data": {
      "text/html": [
       "<div>\n",
       "<style scoped>\n",
       "    .dataframe tbody tr th:only-of-type {\n",
       "        vertical-align: middle;\n",
       "    }\n",
       "\n",
       "    .dataframe tbody tr th {\n",
       "        vertical-align: top;\n",
       "    }\n",
       "\n",
       "    .dataframe thead th {\n",
       "        text-align: right;\n",
       "    }\n",
       "</style>\n",
       "<table border=\"1\" class=\"dataframe\">\n",
       "  <thead>\n",
       "    <tr style=\"text-align: right;\">\n",
       "      <th></th>\n",
       "      <th>title</th>\n",
       "      <th>start_year</th>\n",
       "      <th>end_year</th>\n",
       "      <th>genre</th>\n",
       "      <th>summary</th>\n",
       "      <th>rating</th>\n",
       "      <th>votes</th>\n",
       "      <th>run_time</th>\n",
       "      <th>gross</th>\n",
       "      <th>production_type</th>\n",
       "      <th>actors</th>\n",
       "      <th>director</th>\n",
       "    </tr>\n",
       "  </thead>\n",
       "  <tbody>\n",
       "    <tr>\n",
       "      <th>0</th>\n",
       "      <td>Blood Red Sky</td>\n",
       "      <td>2021</td>\n",
       "      <td>NaN</td>\n",
       "      <td>Action, Horror, Thriller</td>\n",
       "      <td>A woman with a mysterious illness is forced in...</td>\n",
       "      <td>6.1</td>\n",
       "      <td>21062</td>\n",
       "      <td>121</td>\n",
       "      <td>NaN</td>\n",
       "      <td>NaN</td>\n",
       "      <td>Peri Baumeister, Carl Anton Koch, Alexander Sc...</td>\n",
       "      <td>Peter Thorwarth</td>\n",
       "    </tr>\n",
       "    <tr>\n",
       "      <th>1</th>\n",
       "      <td>Masters of the Universe: Revelation</td>\n",
       "      <td>2021</td>\n",
       "      <td>Ongoing</td>\n",
       "      <td>Animation, Action, Adventure</td>\n",
       "      <td>The war for Eternia begins again in what may b...</td>\n",
       "      <td>5.0</td>\n",
       "      <td>17870</td>\n",
       "      <td>25</td>\n",
       "      <td>NaN</td>\n",
       "      <td>NaN</td>\n",
       "      <td>Chris Wood, Sarah Michelle Gellar, Lena Headey...</td>\n",
       "      <td>NaN</td>\n",
       "    </tr>\n",
       "    <tr>\n",
       "      <th>2</th>\n",
       "      <td>The Walking Dead</td>\n",
       "      <td>2010</td>\n",
       "      <td>2022</td>\n",
       "      <td>Drama, Horror, Thriller</td>\n",
       "      <td>Sheriff Deputy Rick Grimes wakes up from a com...</td>\n",
       "      <td>8.2</td>\n",
       "      <td>885805</td>\n",
       "      <td>44</td>\n",
       "      <td>NaN</td>\n",
       "      <td>NaN</td>\n",
       "      <td>Andrew Lincoln, Norman Reedus, Melissa McBride...</td>\n",
       "      <td>NaN</td>\n",
       "    </tr>\n",
       "    <tr>\n",
       "      <th>3</th>\n",
       "      <td>Rick and Morty</td>\n",
       "      <td>2013</td>\n",
       "      <td>Ongoing</td>\n",
       "      <td>Animation, Adventure, Comedy</td>\n",
       "      <td>An animated series that follows the exploits o...</td>\n",
       "      <td>9.2</td>\n",
       "      <td>414849</td>\n",
       "      <td>23</td>\n",
       "      <td>NaN</td>\n",
       "      <td>NaN</td>\n",
       "      <td>Justin Roiland, Chris Parnell, Spencer Grammer...</td>\n",
       "      <td>NaN</td>\n",
       "    </tr>\n",
       "    <tr>\n",
       "      <th>4</th>\n",
       "      <td>Army of Thieves</td>\n",
       "      <td>2021</td>\n",
       "      <td>NaN</td>\n",
       "      <td>Action, Crime, Horror</td>\n",
       "      <td>A prequel, set before the events of Army of th...</td>\n",
       "      <td>NaN</td>\n",
       "      <td>&lt;NA&gt;</td>\n",
       "      <td>&lt;NA&gt;</td>\n",
       "      <td>NaN</td>\n",
       "      <td>NaN</td>\n",
       "      <td>Matthias Schweighöfer, Nathalie Emmanuel, Ruby...</td>\n",
       "      <td>Matthias Schweighöfer</td>\n",
       "    </tr>\n",
       "  </tbody>\n",
       "</table>\n",
       "</div>"
      ],
      "text/plain": [
       "                                 title start_year end_year  \\\n",
       "0                        Blood Red Sky       2021      NaN   \n",
       "1  Masters of the Universe: Revelation       2021  Ongoing   \n",
       "2                     The Walking Dead       2010     2022   \n",
       "3                       Rick and Morty       2013  Ongoing   \n",
       "4                      Army of Thieves       2021      NaN   \n",
       "\n",
       "                          genre  \\\n",
       "0      Action, Horror, Thriller   \n",
       "1  Animation, Action, Adventure   \n",
       "2       Drama, Horror, Thriller   \n",
       "3  Animation, Adventure, Comedy   \n",
       "4         Action, Crime, Horror   \n",
       "\n",
       "                                             summary  rating   votes  \\\n",
       "0  A woman with a mysterious illness is forced in...     6.1   21062   \n",
       "1  The war for Eternia begins again in what may b...     5.0   17870   \n",
       "2  Sheriff Deputy Rick Grimes wakes up from a com...     8.2  885805   \n",
       "3  An animated series that follows the exploits o...     9.2  414849   \n",
       "4  A prequel, set before the events of Army of th...     NaN    <NA>   \n",
       "\n",
       "   run_time  gross production_type  \\\n",
       "0       121    NaN             NaN   \n",
       "1        25    NaN             NaN   \n",
       "2        44    NaN             NaN   \n",
       "3        23    NaN             NaN   \n",
       "4      <NA>    NaN             NaN   \n",
       "\n",
       "                                              actors               director  \n",
       "0  Peri Baumeister, Carl Anton Koch, Alexander Sc...        Peter Thorwarth  \n",
       "1  Chris Wood, Sarah Michelle Gellar, Lena Headey...                    NaN  \n",
       "2  Andrew Lincoln, Norman Reedus, Melissa McBride...                    NaN  \n",
       "3  Justin Roiland, Chris Parnell, Spencer Grammer...                    NaN  \n",
       "4  Matthias Schweighöfer, Nathalie Emmanuel, Ruby...  Matthias Schweighöfer  "
      ]
     },
     "execution_count": 14,
     "metadata": {},
     "output_type": "execute_result"
    }
   ],
   "source": [
    "df.head()"
   ]
  },
  {
   "cell_type": "markdown",
   "id": "f5d96f18-056d-4ef5-8641-32111ff36d5b",
   "metadata": {},
   "source": [
    "In this part, the following changes were made to the data:\n",
    "<ul>\n",
    "    <li>Start and end years extracted from the <code>YEAR</code> column.</li>\n",
    "    <li>Created a column for the type of production also extracted from the <code>YEAR</code> column.</li>\n",
    "    <li>Actors and directors extracted from the <code>STARS</code> column.</li>\n",
    "    <li>Columns were renamed and reordered to be in a more logical order</li>\n",
    "</ul>"
   ]
  },
  {
   "cell_type": "markdown",
   "id": "525b2c12-3ece-43b5-b27f-aa05efc06d1a",
   "metadata": {},
   "source": [
    "At this point, the data is clean, the columns are of the correct data type, cell contents are correctly formatted and most of the original data is retained. It may now be used with minimal changes in a new project.\n",
    "</p>\n",
    "Exporting the current dataframe as a CSV file named <code>stage2_refactored.csv</code>:"
   ]
  },
  {
   "cell_type": "code",
   "execution_count": 15,
   "id": "e917ebb3-4334-45ab-9f36-c1aa3c7c398e",
   "metadata": {},
   "outputs": [],
   "source": [
    "df.to_csv(\"../data/interim/stage2_refactored.csv\", index=False)"
   ]
  },
  {
   "cell_type": "markdown",
   "id": "3c239bc5-5554-44d4-b98d-ef5076fbc5f5",
   "metadata": {},
   "source": [
    "This file will be used as the starting point for the next part, <i>data subsetting</i>, where we focus on a specific type of production."
   ]
  },
  {
   "cell_type": "markdown",
   "id": "3d37a48b-2235-4e26-9afb-668a006afa18",
   "metadata": {},
   "source": [
    "### Navigation\n",
    "**Previous book**: <a href='./01_initial_inspection.ipynb'>[Intial Inspection]</a>\n",
    "\n",
    "**Next book**: <a href='./03_data_subsetting.ipynb'>[Data Subsetting]</a>"
   ]
  }
 ],
 "metadata": {
  "kernelspec": {
   "display_name": "Python 3 (ipykernel)",
   "language": "python",
   "name": "python3"
  },
  "language_info": {
   "codemirror_mode": {
    "name": "ipython",
    "version": 3
   },
   "file_extension": ".py",
   "mimetype": "text/x-python",
   "name": "python",
   "nbconvert_exporter": "python",
   "pygments_lexer": "ipython3",
   "version": "3.10.11"
  }
 },
 "nbformat": 4,
 "nbformat_minor": 5
}
