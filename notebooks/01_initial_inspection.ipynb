{
 "cells": [
  {
   "cell_type": "markdown",
   "id": "e5b83593-53db-4300-9fba-a482ada908c3",
   "metadata": {},
   "source": [
    "# TV Data cleaning with Python \n",
    "This project involves cleaning the <code>MOVIES</code> dataset from <a href=\"https://www.kaggle.com/datasets/bharatnatrayn/movies-dataset-for-feature-extracion-prediction/data\">Kaggle</a>. Per its description, the data was scrapped from <a href=\"https://www.imdb.com/\">IMDb</a> some time in 2021 using Beautiful Soup. It contains top Netflix movies and television serials.\n",
    "\n",
    "This project will be presented across multiple notebooks with each one focused on a distinct part of the cleaning pipeline.\n",
    "\n",
    "## Part 1: Inspection\n",
    "In the first part, we will load the data and inspect its structure, making small changes as necessary, such as removing whitespace and dropping duplicate rows.\n",
    "\n",
    "\n",
    "**Input:** <code>/data/raw/movies.csv</code>\n",
    "<br>\n",
    "**Output:** <code>/data/interim/stage1_cleaned.csv</code>\n",
    "\n",
    "### High level \n",
    "\n",
    "For the intitial inspection, import the data (and relevant packages) and check the structure and data types, then identify columns with missing values. The first step is to load the dataset with pandas aliased as <code>pd</code> and examine the first few rows of data with the <code>head</code> method:"
   ]
  },
  {
   "cell_type": "code",
   "execution_count": 1,
   "id": "f88157fa-0cd7-4d7f-bbee-c50c822d2d20",
   "metadata": {},
   "outputs": [
    {
     "data": {
      "text/html": [
       "<div>\n",
       "<style scoped>\n",
       "    .dataframe tbody tr th:only-of-type {\n",
       "        vertical-align: middle;\n",
       "    }\n",
       "\n",
       "    .dataframe tbody tr th {\n",
       "        vertical-align: top;\n",
       "    }\n",
       "\n",
       "    .dataframe thead th {\n",
       "        text-align: right;\n",
       "    }\n",
       "</style>\n",
       "<table border=\"1\" class=\"dataframe\">\n",
       "  <thead>\n",
       "    <tr style=\"text-align: right;\">\n",
       "      <th></th>\n",
       "      <th>MOVIES</th>\n",
       "      <th>YEAR</th>\n",
       "      <th>GENRE</th>\n",
       "      <th>RATING</th>\n",
       "      <th>ONE-LINE</th>\n",
       "      <th>STARS</th>\n",
       "      <th>VOTES</th>\n",
       "      <th>RunTime</th>\n",
       "      <th>Gross</th>\n",
       "    </tr>\n",
       "  </thead>\n",
       "  <tbody>\n",
       "    <tr>\n",
       "      <th>0</th>\n",
       "      <td>Blood Red Sky</td>\n",
       "      <td>(2021)</td>\n",
       "      <td>\\nAction, Horror, Thriller</td>\n",
       "      <td>6.1</td>\n",
       "      <td>\\nA woman with a mysterious illness is forced ...</td>\n",
       "      <td>\\n    Director:\\nPeter Thorwarth\\n| \\n    Star...</td>\n",
       "      <td>21,062</td>\n",
       "      <td>121.0</td>\n",
       "      <td>NaN</td>\n",
       "    </tr>\n",
       "    <tr>\n",
       "      <th>1</th>\n",
       "      <td>Masters of the Universe: Revelation</td>\n",
       "      <td>(2021– )</td>\n",
       "      <td>\\nAnimation, Action, Adventure</td>\n",
       "      <td>5.0</td>\n",
       "      <td>\\nThe war for Eternia begins again in what may...</td>\n",
       "      <td>\\n            \\n    Stars:\\nChris Wood, \\nSara...</td>\n",
       "      <td>17,870</td>\n",
       "      <td>25.0</td>\n",
       "      <td>NaN</td>\n",
       "    </tr>\n",
       "    <tr>\n",
       "      <th>2</th>\n",
       "      <td>The Walking Dead</td>\n",
       "      <td>(2010–2022)</td>\n",
       "      <td>\\nDrama, Horror, Thriller</td>\n",
       "      <td>8.2</td>\n",
       "      <td>\\nSheriff Deputy Rick Grimes wakes up from a c...</td>\n",
       "      <td>\\n            \\n    Stars:\\nAndrew Lincoln, \\n...</td>\n",
       "      <td>885,805</td>\n",
       "      <td>44.0</td>\n",
       "      <td>NaN</td>\n",
       "    </tr>\n",
       "    <tr>\n",
       "      <th>3</th>\n",
       "      <td>Rick and Morty</td>\n",
       "      <td>(2013– )</td>\n",
       "      <td>\\nAnimation, Adventure, Comedy</td>\n",
       "      <td>9.2</td>\n",
       "      <td>\\nAn animated series that follows the exploits...</td>\n",
       "      <td>\\n            \\n    Stars:\\nJustin Roiland, \\n...</td>\n",
       "      <td>414,849</td>\n",
       "      <td>23.0</td>\n",
       "      <td>NaN</td>\n",
       "    </tr>\n",
       "    <tr>\n",
       "      <th>4</th>\n",
       "      <td>Army of Thieves</td>\n",
       "      <td>(2021)</td>\n",
       "      <td>\\nAction, Crime, Horror</td>\n",
       "      <td>NaN</td>\n",
       "      <td>\\nA prequel, set before the events of Army of ...</td>\n",
       "      <td>\\n    Director:\\nMatthias Schweighöfer\\n| \\n  ...</td>\n",
       "      <td>NaN</td>\n",
       "      <td>NaN</td>\n",
       "      <td>NaN</td>\n",
       "    </tr>\n",
       "  </tbody>\n",
       "</table>\n",
       "</div>"
      ],
      "text/plain": [
       "                                MOVIES         YEAR  \\\n",
       "0                        Blood Red Sky       (2021)   \n",
       "1  Masters of the Universe: Revelation     (2021– )   \n",
       "2                     The Walking Dead  (2010–2022)   \n",
       "3                       Rick and Morty     (2013– )   \n",
       "4                      Army of Thieves       (2021)   \n",
       "\n",
       "                                        GENRE  RATING  \\\n",
       "0      \\nAction, Horror, Thriller                 6.1   \n",
       "1  \\nAnimation, Action, Adventure                 5.0   \n",
       "2       \\nDrama, Horror, Thriller                 8.2   \n",
       "3  \\nAnimation, Adventure, Comedy                 9.2   \n",
       "4         \\nAction, Crime, Horror                 NaN   \n",
       "\n",
       "                                            ONE-LINE  \\\n",
       "0  \\nA woman with a mysterious illness is forced ...   \n",
       "1  \\nThe war for Eternia begins again in what may...   \n",
       "2  \\nSheriff Deputy Rick Grimes wakes up from a c...   \n",
       "3  \\nAn animated series that follows the exploits...   \n",
       "4  \\nA prequel, set before the events of Army of ...   \n",
       "\n",
       "                                               STARS    VOTES  RunTime Gross  \n",
       "0  \\n    Director:\\nPeter Thorwarth\\n| \\n    Star...   21,062    121.0   NaN  \n",
       "1  \\n            \\n    Stars:\\nChris Wood, \\nSara...   17,870     25.0   NaN  \n",
       "2  \\n            \\n    Stars:\\nAndrew Lincoln, \\n...  885,805     44.0   NaN  \n",
       "3  \\n            \\n    Stars:\\nJustin Roiland, \\n...  414,849     23.0   NaN  \n",
       "4  \\n    Director:\\nMatthias Schweighöfer\\n| \\n  ...      NaN      NaN   NaN  "
      ]
     },
     "execution_count": 1,
     "metadata": {},
     "output_type": "execute_result"
    }
   ],
   "source": [
    "import numpy as np\n",
    "import pandas as pd\n",
    "import missingno as msno\n",
    "\n",
    "df = pd.read_csv(\"../data/raw/movies.csv\")\n",
    "df.head()"
   ]
  },
  {
   "cell_type": "markdown",
   "id": "e22b991c-10e1-491c-a99f-eee38b41941d",
   "metadata": {},
   "source": [
    "The data has been imported correctly as shown above. Check the dimensions of the dataset:"
   ]
  },
  {
   "cell_type": "code",
   "execution_count": 2,
   "id": "a46b17ee-7259-43a4-ae95-95ea79c203fb",
   "metadata": {},
   "outputs": [
    {
     "data": {
      "text/plain": [
       "(9999, 9)"
      ]
     },
     "execution_count": 2,
     "metadata": {},
     "output_type": "execute_result"
    }
   ],
   "source": [
    "df.shape"
   ]
  },
  {
   "cell_type": "markdown",
   "id": "55f3f3f6-f4ac-423d-8302-6ca024d82252",
   "metadata": {},
   "source": [
    "Check for missing values:"
   ]
  },
  {
   "cell_type": "code",
   "execution_count": 3,
   "id": "a282ef56-c961-4c91-a79a-789c55750d86",
   "metadata": {},
   "outputs": [
    {
     "data": {
      "text/plain": [
       "MOVIES         0\n",
       "YEAR         644\n",
       "GENRE         80\n",
       "RATING      1820\n",
       "ONE-LINE       0\n",
       "STARS          0\n",
       "VOTES       1820\n",
       "RunTime     2958\n",
       "Gross       9539\n",
       "dtype: int64"
      ]
     },
     "execution_count": 3,
     "metadata": {},
     "output_type": "execute_result"
    }
   ],
   "source": [
    "df.isna().sum()"
   ]
  },
  {
   "cell_type": "markdown",
   "id": "6ed8ac81-6d6e-4da6-b8f4-a9c069b718bf",
   "metadata": {},
   "source": [
    "Missing values shown visually:"
   ]
  },
  {
   "cell_type": "code",
   "execution_count": 4,
   "id": "0f35f6bd-1fa1-4d33-8df9-90ca2a30ca8c",
   "metadata": {},
   "outputs": [
    {
     "data": {
      "text/plain": [
       "<Axes: >"
      ]
     },
     "execution_count": 4,
     "metadata": {},
     "output_type": "execute_result"
    },
    {
     "data": {
      "image/png": "[encoded data removed]",
      "text/plain": [
       "<Figure size 2500x1000 with 2 Axes>"
      ]
     },
     "metadata": {},
     "output_type": "display_data"
    }
   ],
   "source": [
    "msno.matrix(df)"
   ]
  },
  {
   "cell_type": "markdown",
   "id": "bb963cd9-b9db-4767-8ad1-35a390e3256a",
   "metadata": {},
   "source": [
    "The majority of missing values are in the <code>Gross</code> column. Check how many records are missing at least 2 values (using <code>shape</code> attribute to find rows):"
   ]
  },
  {
   "cell_type": "code",
   "execution_count": 5,
   "id": "fb030907-7d4e-4221-8422-52e945193f7d",
   "metadata": {},
   "outputs": [
    {
     "data": {
      "text/plain": [
       "3220"
      ]
     },
     "execution_count": 5,
     "metadata": {},
     "output_type": "execute_result"
    }
   ],
   "source": [
    "df[df.isna().sum(axis=1) > 1].shape[0]"
   ]
  },
  {
   "cell_type": "markdown",
   "id": "ba0c5b26-e1e3-4e93-9875-c9dfe7a876e1",
   "metadata": {},
   "source": [
    "Next inspect the dataset on a per column basis. What are their data types?"
   ]
  },
  {
   "cell_type": "code",
   "execution_count": 6,
   "id": "696cda20-2eae-4f95-80dd-fedb05a811ed",
   "metadata": {},
   "outputs": [
    {
     "name": "stdout",
     "output_type": "stream",
     "text": [
      "<class 'pandas.core.frame.DataFrame'>\n",
      "RangeIndex: 9999 entries, 0 to 9998\n",
      "Data columns (total 9 columns):\n",
      " #   Column    Non-Null Count  Dtype  \n",
      "---  ------    --------------  -----  \n",
      " 0   MOVIES    9999 non-null   object \n",
      " 1   YEAR      9355 non-null   object \n",
      " 2   GENRE     9919 non-null   object \n",
      " 3   RATING    8179 non-null   float64\n",
      " 4   ONE-LINE  9999 non-null   object \n",
      " 5   STARS     9999 non-null   object \n",
      " 6   VOTES     8179 non-null   object \n",
      " 7   RunTime   7041 non-null   float64\n",
      " 8   Gross     460 non-null    object \n",
      "dtypes: float64(2), object(7)\n",
      "memory usage: 703.2+ KB\n"
     ]
    }
   ],
   "source": [
    "df.info()"
   ]
  },
  {
   "cell_type": "markdown",
   "id": "55218b79-9afa-4069-87ce-ad9d2224ba90",
   "metadata": {},
   "source": [
    "### Columns\n",
    "In this section, we will inspect each column for problems. Fixing the obvious problems and coercing data to the right data types as we go."
   ]
  },
  {
   "cell_type": "markdown",
   "id": "82769998-ce0a-4522-8ceb-20b1f78d443b",
   "metadata": {},
   "source": [
    "#### MOVIES\n",
    "There are no missing values in the <code>MOVIES</code> column, but there may be duplicated records.\n",
    "\n",
    "Check for duplicated records:"
   ]
  },
  {
   "cell_type": "code",
   "execution_count": 7,
   "id": "d324f34a-c644-41be-9c98-7bbeb62ba0cd",
   "metadata": {},
   "outputs": [
    {
     "data": {
      "text/plain": [
       "3601"
      ]
     },
     "execution_count": 7,
     "metadata": {},
     "output_type": "execute_result"
    }
   ],
   "source": [
    "df[df.duplicated([\"MOVIES\"], keep=False)].shape[0]"
   ]
  },
  {
   "cell_type": "markdown",
   "id": "afe8be7c-b837-42cd-ad47-cd406816ce41",
   "metadata": {},
   "source": [
    "As shown above, 3601 records have titles that are duplicated. Some productions may share titles without being related in any other way. It also appears as if multiple records of TV serials exist. These likely correspond to different individual episodes of the same serial. \n",
    "</p>\n",
    "When scraping data, it is possible that some whitespace is included in the titles, so there are possibly more duplicates. Removing the whitespace:"
   ]
  },
  {
   "cell_type": "code",
   "execution_count": 8,
   "id": "dd53c63c-1128-4bd8-a8b2-7167ddc3c38f",
   "metadata": {},
   "outputs": [],
   "source": [
    "df[\"MOVIES\"] = df[\"MOVIES\"].str.strip()"
   ]
  },
  {
   "cell_type": "markdown",
   "id": "ae2cfe30-569e-48d1-93b6-e30a39bfa9ec",
   "metadata": {},
   "source": [
    "Checking for duplicates after stripping white spaces:"
   ]
  },
  {
   "cell_type": "code",
   "execution_count": 9,
   "id": "526fd389-b4a9-4fd1-9678-33d6942f40d4",
   "metadata": {},
   "outputs": [
    {
     "data": {
      "text/plain": [
       "4031"
      ]
     },
     "execution_count": 9,
     "metadata": {},
     "output_type": "execute_result"
    }
   ],
   "source": [
    "df[df.duplicated([\"MOVIES\"], keep=False)].shape[0]"
   ]
  },
  {
   "cell_type": "markdown",
   "id": "8aec7afe-4de3-4e2f-ac9d-d54f992ca6a5",
   "metadata": {},
   "source": [
    "Removing white space has revealed more duplicated records (4031). How many duplicates are full duplicates?"
   ]
  },
  {
   "cell_type": "code",
   "execution_count": 10,
   "id": "ccdb86fb-ab00-456e-85ff-900876f466af",
   "metadata": {},
   "outputs": [
    {
     "data": {
      "text/plain": [
       "548"
      ]
     },
     "execution_count": 10,
     "metadata": {},
     "output_type": "execute_result"
    }
   ],
   "source": [
    "df[df.duplicated(keep=False)].shape[0]"
   ]
  },
  {
   "cell_type": "markdown",
   "id": "5a9e3b12-5dc5-4d29-80b1-103acb347818",
   "metadata": {},
   "source": [
    "Ideally, there should only be one row for each production. However, there may be information about one production spread across multiple rows (such as in the case of episodes of a TV serial). However, any full duplicates can be dropped without risk. This will reduce the memory footprint of the dataset without losing any information."
   ]
  },
  {
   "cell_type": "code",
   "execution_count": 11,
   "id": "ed39502b-69a0-44ac-bbd6-c50b8dc9e404",
   "metadata": {},
   "outputs": [],
   "source": [
    "df = df.drop_duplicates(ignore_index=True)"
   ]
  },
  {
   "cell_type": "markdown",
   "id": "4aab6343-9f51-4ddc-99f5-3cc7d712293d",
   "metadata": {},
   "source": [
    "How many records were full duplicates?"
   ]
  },
  {
   "cell_type": "code",
   "execution_count": 12,
   "id": "c9638a2c-ca1c-415d-86a8-e20e657183f0",
   "metadata": {},
   "outputs": [
    {
     "data": {
      "text/plain": [
       "9568"
      ]
     },
     "execution_count": 12,
     "metadata": {},
     "output_type": "execute_result"
    }
   ],
   "source": [
    "df.shape[0]"
   ]
  },
  {
   "cell_type": "markdown",
   "id": "759741a1-35f5-4279-b916-1e448a70194f",
   "metadata": {},
   "source": [
    "431 full duplicates were removed.\n",
    "</p>\n",
    "Finally, the title, <code>MOVIES</code>, should be changed to something more suitable like <code>title</code>. All columns will be renamed in a single operation after the inspection."
   ]
  },
  {
   "cell_type": "markdown",
   "id": "b4eba50f-3e5b-4570-83e3-91f11c4970a7",
   "metadata": {},
   "source": [
    "#### YEAR\n",
    "As previously discovered, the <code>YEAR</code> column contains string data. Examine the format of the column by returning the most common entries:"
   ]
  },
  {
   "cell_type": "code",
   "execution_count": 13,
   "id": "ef30fa92-10d4-49fe-a749-b3828e5705ea",
   "metadata": {},
   "outputs": [
    {
     "data": {
      "text/plain": [
       "YEAR\n",
       "(2020– )             876\n",
       "(2020)               637\n",
       "(2021– )             558\n",
       "(2019)               544\n",
       "(2019– )             463\n",
       "(2018)               397\n",
       "(2021)               384\n",
       "(2017)               366\n",
       "(2018– )             339\n",
       "(2016)               291\n",
       "(2015)               209\n",
       "(2017– )             169\n",
       "(2019–2020)          163\n",
       "(2014)               154\n",
       "(2013)               149\n",
       "(2018–2020)          142\n",
       "(2012)               101\n",
       "(2016– )              81\n",
       "(2017 TV Special)     81\n",
       "(2015– )              79\n",
       "Name: count, dtype: int64"
      ]
     },
     "execution_count": 13,
     "metadata": {},
     "output_type": "execute_result"
    }
   ],
   "source": [
    "df[\"YEAR\"].value_counts().head(20)"
   ]
  },
  {
   "cell_type": "markdown",
   "id": "928f2ecd-c774-446b-9eb2-f52229affd47",
   "metadata": {},
   "source": [
    "The <code>YEAR</code> contains different information depending on the type of media the record is describing. It is formatted as follows:\n",
    "<ul>\n",
    "    <li><code>(release_year)</code> - productions with a single release (such as movies)</li>\n",
    "    <li><code>(start_year-end_year)</code> - productions that ran between two separate years (a completed serial)</li>\n",
    "    <li><code>(start_year- )</code> - productions that started and are still running (an ongoing serial)</li>\n",
    "    <li><code>(release_year production_type)</code> - production with a release year with additional information not related to time of release</li>\n",
    "</ul>\n",
    "\n",
    "All the information in this column can be captured and extracted with regex patterns. New columns can be created to store information on <code>start_year</code>, <code>end_year</code> and <code>production_type</code>, and then the original <code>YEAR</code> column may be dropped from the cleaned data."
   ]
  },
  {
   "cell_type": "markdown",
   "id": "965748e4-2116-4113-9388-7b30e6ada577",
   "metadata": {},
   "source": [
    "#### GENRE\n",
    "The <code>GENRE</code> column also contains string data."
   ]
  },
  {
   "cell_type": "code",
   "execution_count": 14,
   "id": "cff89621-5c99-4026-b567-6e4cee29d51a",
   "metadata": {},
   "outputs": [
    {
     "data": {
      "text/plain": [
       "GENRE\n",
       "\\nComedy                                      837\n",
       "\\nAnimation, Action, Adventure                663\n",
       "\\nDrama                                       546\n",
       "\\nDocumentary                                 495\n",
       "\\nCrime, Drama, Mystery                       328\n",
       "Name: count, dtype: int64"
      ]
     },
     "execution_count": 14,
     "metadata": {},
     "output_type": "execute_result"
    }
   ],
   "source": [
    "df[\"GENRE\"].value_counts().head()"
   ]
  },
  {
   "cell_type": "markdown",
   "id": "3da8c423-4549-4d48-b4d9-bb69495b921e",
   "metadata": {},
   "source": [
    "<code>GENRE</code> contains a list in the form of a string of up to three genres for each record. \n",
    "Clean the new line <code>\\n</code> character from the string."
   ]
  },
  {
   "cell_type": "code",
   "execution_count": 15,
   "id": "1ab4b941-af72-42d6-9054-824bd0079371",
   "metadata": {},
   "outputs": [],
   "source": [
    "df[\"GENRE\"] = df[\"GENRE\"].str.replace(\"\\n\", \"\").str.strip()"
   ]
  },
  {
   "cell_type": "code",
   "execution_count": 16,
   "id": "9a6a7513-1cad-477f-a748-897623f9315f",
   "metadata": {},
   "outputs": [
    {
     "data": {
      "text/plain": [
       "GENRE\n",
       "Comedy                          837\n",
       "Animation, Action, Adventure    663\n",
       "Drama                           546\n",
       "Documentary                     495\n",
       "Crime, Drama, Mystery           328\n",
       "Name: count, dtype: int64"
      ]
     },
     "execution_count": 16,
     "metadata": {},
     "output_type": "execute_result"
    }
   ],
   "source": [
    "df[\"GENRE\"].value_counts().head()"
   ]
  },
  {
   "cell_type": "markdown",
   "id": "5614531c-3ed2-44a4-b494-4139c048911d",
   "metadata": {},
   "source": [
    "#### RATING\n",
    "The <code>RATING</code> column is the average user rating for the record on a scale between 1 and 10. There should be no values higher than 10 or lower than 1. Examine the values:"
   ]
  },
  {
   "cell_type": "code",
   "execution_count": 17,
   "id": "67458a57-753c-420c-a70e-6fb95374e812",
   "metadata": {},
   "outputs": [
    {
     "data": {
      "text/html": [
       "<div>\n",
       "<style scoped>\n",
       "    .dataframe tbody tr th:only-of-type {\n",
       "        vertical-align: middle;\n",
       "    }\n",
       "\n",
       "    .dataframe tbody tr th {\n",
       "        vertical-align: top;\n",
       "    }\n",
       "\n",
       "    .dataframe thead th {\n",
       "        text-align: right;\n",
       "    }\n",
       "</style>\n",
       "<table border=\"1\" class=\"dataframe\">\n",
       "  <thead>\n",
       "    <tr style=\"text-align: right;\">\n",
       "      <th></th>\n",
       "      <th>RATING</th>\n",
       "    </tr>\n",
       "  </thead>\n",
       "  <tbody>\n",
       "    <tr>\n",
       "      <th>count</th>\n",
       "      <td>8168.000000</td>\n",
       "    </tr>\n",
       "    <tr>\n",
       "      <th>mean</th>\n",
       "      <td>6.919699</td>\n",
       "    </tr>\n",
       "    <tr>\n",
       "      <th>std</th>\n",
       "      <td>1.219970</td>\n",
       "    </tr>\n",
       "    <tr>\n",
       "      <th>min</th>\n",
       "      <td>1.100000</td>\n",
       "    </tr>\n",
       "    <tr>\n",
       "      <th>25%</th>\n",
       "      <td>6.200000</td>\n",
       "    </tr>\n",
       "    <tr>\n",
       "      <th>50%</th>\n",
       "      <td>7.100000</td>\n",
       "    </tr>\n",
       "    <tr>\n",
       "      <th>75%</th>\n",
       "      <td>7.800000</td>\n",
       "    </tr>\n",
       "    <tr>\n",
       "      <th>max</th>\n",
       "      <td>9.900000</td>\n",
       "    </tr>\n",
       "  </tbody>\n",
       "</table>\n",
       "</div>"
      ],
      "text/plain": [
       "            RATING\n",
       "count  8168.000000\n",
       "mean      6.919699\n",
       "std       1.219970\n",
       "min       1.100000\n",
       "25%       6.200000\n",
       "50%       7.100000\n",
       "75%       7.800000\n",
       "max       9.900000"
      ]
     },
     "execution_count": 17,
     "metadata": {},
     "output_type": "execute_result"
    }
   ],
   "source": [
    "df[[\"RATING\"]].describe()"
   ]
  },
  {
   "cell_type": "markdown",
   "id": "1b51346e-e500-45de-af36-54f65eb6b8c5",
   "metadata": {},
   "source": [
    "Displayed as a histogram:"
   ]
  },
  {
   "cell_type": "code",
   "execution_count": 18,
   "id": "44bf9f19-f0fc-44f9-83b1-86e6cdb03ad2",
   "metadata": {},
   "outputs": [
    {
     "data": {
      "text/plain": [
       "array([[<Axes: title={'center': 'RATING'}>]], dtype=object)"
      ]
     },
     "execution_count": 18,
     "metadata": {},
     "output_type": "execute_result"
    },
    {
     "data": {
      "image/png": "[encoded data removed]",
      "text/plain": [
       "<Figure size 640x480 with 1 Axes>"
      ]
     },
     "metadata": {},
     "output_type": "display_data"
    }
   ],
   "source": [
    "df.hist(column=\"RATING\", color=\"black\", grid=False)"
   ]
  },
  {
   "cell_type": "markdown",
   "id": "a31549d2-deaa-4529-9d8a-7becee9cae3c",
   "metadata": {},
   "source": [
    "The data is within the expected limits with the majority being between 6 and 8.\n",
    "</p>\n",
    "Check that data is indeed of the type float:"
   ]
  },
  {
   "cell_type": "code",
   "execution_count": 19,
   "id": "4f5932d2-e56d-433c-a8a2-837954db23ee",
   "metadata": {},
   "outputs": [],
   "source": [
    "assert df[\"RATING\"].dtype == \"float\""
   ]
  },
  {
   "cell_type": "markdown",
   "id": "3913c1d4-3044-455e-9828-b0dd9ee8de6c",
   "metadata": {},
   "source": [
    "#### VOTES"
   ]
  },
  {
   "cell_type": "markdown",
   "id": "01edfc94-e9bc-42ff-bcf6-b2c269ddc3d3",
   "metadata": {},
   "source": [
    "The records in the <code>VOTES</code> column are strings. This is column is connected to the <code>RATING</code> column and shows the number of users who have rated a record."
   ]
  },
  {
   "cell_type": "code",
   "execution_count": 20,
   "id": "c3651da0-b0ea-4ea5-b574-8ffaa84a0b21",
   "metadata": {},
   "outputs": [
    {
     "data": {
      "text/plain": [
       "0     21,062\n",
       "1     17,870\n",
       "2    885,805\n",
       "Name: VOTES, dtype: object"
      ]
     },
     "execution_count": 20,
     "metadata": {},
     "output_type": "execute_result"
    }
   ],
   "source": [
    "df[\"VOTES\"].head(3)"
   ]
  },
  {
   "cell_type": "markdown",
   "id": "261e4c85-7f5b-4de1-a652-64e0553717d2",
   "metadata": {},
   "source": [
    "These are strings because the numbers are formatted to contain a <code>,</code> character"
   ]
  },
  {
   "cell_type": "code",
   "execution_count": 21,
   "id": "6aa5b8d6-d4c4-4284-b7fd-31485eecd6f6",
   "metadata": {},
   "outputs": [],
   "source": [
    "df[\"VOTES\"] = df[\"VOTES\"].str.replace(\",\", \"\")\n",
    "df[\"VOTES\"] = pd.to_numeric(df[\"VOTES\"], errors=\"coerce\").astype(\"Int64\")"
   ]
  },
  {
   "cell_type": "code",
   "execution_count": 22,
   "id": "c0e3591d-7f0d-4e1b-b42a-d301e0180358",
   "metadata": {},
   "outputs": [
    {
     "data": {
      "text/plain": [
       "0     21062\n",
       "1     17870\n",
       "2    885805\n",
       "Name: VOTES, dtype: Int64"
      ]
     },
     "execution_count": 22,
     "metadata": {},
     "output_type": "execute_result"
    }
   ],
   "source": [
    "df[\"VOTES\"].head(3)"
   ]
  },
  {
   "cell_type": "markdown",
   "id": "617ad103-c892-4ebf-8669-2bc5f6cea660",
   "metadata": {},
   "source": [
    "After coercing the data to integers, examine the distribution of values:"
   ]
  },
  {
   "cell_type": "code",
   "execution_count": 23,
   "id": "ccd66922-12e2-47d9-9e76-8ccc8440adc8",
   "metadata": {},
   "outputs": [
    {
     "data": {
      "text/html": [
       "<div>\n",
       "<style scoped>\n",
       "    .dataframe tbody tr th:only-of-type {\n",
       "        vertical-align: middle;\n",
       "    }\n",
       "\n",
       "    .dataframe tbody tr th {\n",
       "        vertical-align: top;\n",
       "    }\n",
       "\n",
       "    .dataframe thead th {\n",
       "        text-align: right;\n",
       "    }\n",
       "</style>\n",
       "<table border=\"1\" class=\"dataframe\">\n",
       "  <thead>\n",
       "    <tr style=\"text-align: right;\">\n",
       "      <th></th>\n",
       "      <th>VOTES</th>\n",
       "    </tr>\n",
       "  </thead>\n",
       "  <tbody>\n",
       "    <tr>\n",
       "      <th>count</th>\n",
       "      <td>8168.0</td>\n",
       "    </tr>\n",
       "    <tr>\n",
       "      <th>mean</th>\n",
       "      <td>15144.414422</td>\n",
       "    </tr>\n",
       "    <tr>\n",
       "      <th>std</th>\n",
       "      <td>70099.542612</td>\n",
       "    </tr>\n",
       "    <tr>\n",
       "      <th>min</th>\n",
       "      <td>5.0</td>\n",
       "    </tr>\n",
       "    <tr>\n",
       "      <th>25%</th>\n",
       "      <td>167.0</td>\n",
       "    </tr>\n",
       "    <tr>\n",
       "      <th>50%</th>\n",
       "      <td>792.5</td>\n",
       "    </tr>\n",
       "    <tr>\n",
       "      <th>75%</th>\n",
       "      <td>3780.75</td>\n",
       "    </tr>\n",
       "    <tr>\n",
       "      <th>max</th>\n",
       "      <td>1713028.0</td>\n",
       "    </tr>\n",
       "  </tbody>\n",
       "</table>\n",
       "</div>"
      ],
      "text/plain": [
       "              VOTES\n",
       "count        8168.0\n",
       "mean   15144.414422\n",
       "std    70099.542612\n",
       "min             5.0\n",
       "25%           167.0\n",
       "50%           792.5\n",
       "75%         3780.75\n",
       "max       1713028.0"
      ]
     },
     "execution_count": 23,
     "metadata": {},
     "output_type": "execute_result"
    }
   ],
   "source": [
    "df[[\"VOTES\"]].describe()"
   ]
  },
  {
   "cell_type": "code",
   "execution_count": 24,
   "id": "cb355f77-d5be-4ea2-904f-c04b8e89722d",
   "metadata": {},
   "outputs": [
    {
     "data": {
      "text/plain": [
       "array([[<Axes: title={'center': 'VOTES'}>]], dtype=object)"
      ]
     },
     "execution_count": 24,
     "metadata": {},
     "output_type": "execute_result"
    },
    {
     "data": {
      "image/png": "[encoded data removed]",
      "text/plain": [
       "<Figure size 640x480 with 1 Axes>"
      ]
     },
     "metadata": {},
     "output_type": "display_data"
    }
   ],
   "source": [
    "df.hist(column=\"VOTES\", color=\"black\", bins=5, grid=False)"
   ]
  },
  {
   "cell_type": "markdown",
   "id": "40ea37d8-5149-4710-8fe4-f97b0108c155",
   "metadata": {},
   "source": [
    "The distribution for votes is extremely skewed to the right with the median being 792.5 and the average being 15144. There are a few extreme outliers in the dataset. Examining which records are extreme:"
   ]
  },
  {
   "cell_type": "code",
   "execution_count": 25,
   "id": "ab2c6d6e-5e78-45a7-ba61-38439c58ec42",
   "metadata": {},
   "outputs": [
    {
     "data": {
      "text/html": [
       "<div>\n",
       "<style scoped>\n",
       "    .dataframe tbody tr th:only-of-type {\n",
       "        vertical-align: middle;\n",
       "    }\n",
       "\n",
       "    .dataframe tbody tr th {\n",
       "        vertical-align: top;\n",
       "    }\n",
       "\n",
       "    .dataframe thead th {\n",
       "        text-align: right;\n",
       "    }\n",
       "</style>\n",
       "<table border=\"1\" class=\"dataframe\">\n",
       "  <thead>\n",
       "    <tr style=\"text-align: right;\">\n",
       "      <th></th>\n",
       "      <th>MOVIES</th>\n",
       "      <th>YEAR</th>\n",
       "      <th>GENRE</th>\n",
       "      <th>RATING</th>\n",
       "      <th>ONE-LINE</th>\n",
       "      <th>STARS</th>\n",
       "      <th>VOTES</th>\n",
       "      <th>RunTime</th>\n",
       "      <th>Gross</th>\n",
       "    </tr>\n",
       "  </thead>\n",
       "  <tbody>\n",
       "    <tr>\n",
       "      <th>111</th>\n",
       "      <td>The Lord of the Rings: The Fellowship of the Ring</td>\n",
       "      <td>(2001)</td>\n",
       "      <td>Action, Adventure, Drama</td>\n",
       "      <td>8.8</td>\n",
       "      <td>\\nA meek Hobbit from the Shire and eight compa...</td>\n",
       "      <td>\\n    Director:\\nPeter Jackson\\n| \\n    Stars:...</td>\n",
       "      <td>1713028</td>\n",
       "      <td>178.0</td>\n",
       "      <td>$315.54M</td>\n",
       "    </tr>\n",
       "    <tr>\n",
       "      <th>193</th>\n",
       "      <td>The Lord of the Rings: The Return of the King</td>\n",
       "      <td>(2003)</td>\n",
       "      <td>Action, Adventure, Drama</td>\n",
       "      <td>8.9</td>\n",
       "      <td>\\nGandalf and Aragorn lead the World of Men ag...</td>\n",
       "      <td>\\n    Director:\\nPeter Jackson\\n| \\n    Stars:...</td>\n",
       "      <td>1691777</td>\n",
       "      <td>201.0</td>\n",
       "      <td>$377.85M</td>\n",
       "    </tr>\n",
       "    <tr>\n",
       "      <th>16</th>\n",
       "      <td>Breaking Bad</td>\n",
       "      <td>(2008–2013)</td>\n",
       "      <td>Crime, Drama, Thriller</td>\n",
       "      <td>9.4</td>\n",
       "      <td>\\nA high school chemistry teacher diagnosed wi...</td>\n",
       "      <td>\\n            \\n    Stars:\\nBryan Cranston, \\n...</td>\n",
       "      <td>1552311</td>\n",
       "      <td>49.0</td>\n",
       "      <td>NaN</td>\n",
       "    </tr>\n",
       "    <tr>\n",
       "      <th>260</th>\n",
       "      <td>The Lord of the Rings: The Two Towers</td>\n",
       "      <td>(2002)</td>\n",
       "      <td>Action, Adventure, Drama</td>\n",
       "      <td>8.7</td>\n",
       "      <td>\\nWhile Frodo and Sam edge closer to Mordor wi...</td>\n",
       "      <td>\\n    Director:\\nPeter Jackson\\n| \\n    Stars:...</td>\n",
       "      <td>1529752</td>\n",
       "      <td>179.0</td>\n",
       "      <td>$342.55M</td>\n",
       "    </tr>\n",
       "    <tr>\n",
       "      <th>132</th>\n",
       "      <td>The Departed</td>\n",
       "      <td>(2006)</td>\n",
       "      <td>Crime, Drama, Thriller</td>\n",
       "      <td>8.5</td>\n",
       "      <td>\\nAn undercover cop and a mole in the police a...</td>\n",
       "      <td>\\n    Director:\\nMartin Scorsese\\n| \\n    Star...</td>\n",
       "      <td>1227522</td>\n",
       "      <td>151.0</td>\n",
       "      <td>$132.38M</td>\n",
       "    </tr>\n",
       "    <tr>\n",
       "      <th>156</th>\n",
       "      <td>Kill Bill: Vol. 1</td>\n",
       "      <td>(2003)</td>\n",
       "      <td>Action, Crime, Drama</td>\n",
       "      <td>8.1</td>\n",
       "      <td>\\nAfter awakening from a four-year coma, a for...</td>\n",
       "      <td>\\n    Director:\\nQuentin Tarantino\\n| \\n    St...</td>\n",
       "      <td>1034554</td>\n",
       "      <td>111.0</td>\n",
       "      <td>$70.10M</td>\n",
       "    </tr>\n",
       "  </tbody>\n",
       "</table>\n",
       "</div>"
      ],
      "text/plain": [
       "                                                MOVIES         YEAR  \\\n",
       "111  The Lord of the Rings: The Fellowship of the Ring       (2001)   \n",
       "193      The Lord of the Rings: The Return of the King       (2003)   \n",
       "16                                        Breaking Bad  (2008–2013)   \n",
       "260              The Lord of the Rings: The Two Towers       (2002)   \n",
       "132                                       The Departed       (2006)   \n",
       "156                                  Kill Bill: Vol. 1       (2003)   \n",
       "\n",
       "                        GENRE  RATING  \\\n",
       "111  Action, Adventure, Drama     8.8   \n",
       "193  Action, Adventure, Drama     8.9   \n",
       "16     Crime, Drama, Thriller     9.4   \n",
       "260  Action, Adventure, Drama     8.7   \n",
       "132    Crime, Drama, Thriller     8.5   \n",
       "156      Action, Crime, Drama     8.1   \n",
       "\n",
       "                                              ONE-LINE  \\\n",
       "111  \\nA meek Hobbit from the Shire and eight compa...   \n",
       "193  \\nGandalf and Aragorn lead the World of Men ag...   \n",
       "16   \\nA high school chemistry teacher diagnosed wi...   \n",
       "260  \\nWhile Frodo and Sam edge closer to Mordor wi...   \n",
       "132  \\nAn undercover cop and a mole in the police a...   \n",
       "156  \\nAfter awakening from a four-year coma, a for...   \n",
       "\n",
       "                                                 STARS    VOTES  RunTime  \\\n",
       "111  \\n    Director:\\nPeter Jackson\\n| \\n    Stars:...  1713028    178.0   \n",
       "193  \\n    Director:\\nPeter Jackson\\n| \\n    Stars:...  1691777    201.0   \n",
       "16   \\n            \\n    Stars:\\nBryan Cranston, \\n...  1552311     49.0   \n",
       "260  \\n    Director:\\nPeter Jackson\\n| \\n    Stars:...  1529752    179.0   \n",
       "132  \\n    Director:\\nMartin Scorsese\\n| \\n    Star...  1227522    151.0   \n",
       "156  \\n    Director:\\nQuentin Tarantino\\n| \\n    St...  1034554    111.0   \n",
       "\n",
       "        Gross  \n",
       "111  $315.54M  \n",
       "193  $377.85M  \n",
       "16        NaN  \n",
       "260  $342.55M  \n",
       "132  $132.38M  \n",
       "156   $70.10M  "
      ]
     },
     "execution_count": 25,
     "metadata": {},
     "output_type": "execute_result"
    }
   ],
   "source": [
    "df[df[\"VOTES\"] > 1000000].sort_values(by=\"VOTES\", ascending=False)"
   ]
  },
  {
   "cell_type": "markdown",
   "id": "e8cd39a1-da76-4869-accd-f96b4d7e0a32",
   "metadata": {},
   "source": [
    "The five most popular productions are highly rated and were released over a decade before the data was scraped (the majority of the records in this dataset are within a few years of the scape date). Therefore these high values are reasonable."
   ]
  },
  {
   "cell_type": "markdown",
   "id": "1105fff2-144d-42f8-84cb-180bfc7c4247",
   "metadata": {},
   "source": [
    "#### ONE-LINE\n",
    "<code>ONE-LINE</code> is a short plot summary. As with <code>GENRE</code>, the new line character is present. There are also some additional characters left over from the scraping. Removing the unwanted characters:"
   ]
  },
  {
   "cell_type": "code",
   "execution_count": 26,
   "id": "85700aec-be59-4e9c-be87-b134b9ed708b",
   "metadata": {},
   "outputs": [],
   "source": [
    "df[\"ONE-LINE\"] = df[\"ONE-LINE\"].str.replace(\"\\n\", \"\").str.strip()\n",
    "df[\"ONE-LINE\"] = df[\"ONE-LINE\"].str.replace(\"See full summary\\xa0»\", \"\").str.strip()"
   ]
  },
  {
   "cell_type": "markdown",
   "id": "7002b668-5ef1-471d-9f17-e5becd8a1873",
   "metadata": {},
   "source": [
    "Check for repeated plots:"
   ]
  },
  {
   "cell_type": "code",
   "execution_count": 27,
   "id": "3e5c8445-5f69-4d83-9b40-b3918a81a5c9",
   "metadata": {},
   "outputs": [
    {
     "data": {
      "text/html": [
       "<div>\n",
       "<style scoped>\n",
       "    .dataframe tbody tr th:only-of-type {\n",
       "        vertical-align: middle;\n",
       "    }\n",
       "\n",
       "    .dataframe tbody tr th {\n",
       "        vertical-align: top;\n",
       "    }\n",
       "\n",
       "    .dataframe thead th {\n",
       "        text-align: right;\n",
       "    }\n",
       "</style>\n",
       "<table border=\"1\" class=\"dataframe\">\n",
       "  <thead>\n",
       "    <tr style=\"text-align: right;\">\n",
       "      <th></th>\n",
       "      <th>ONE-LINE</th>\n",
       "      <th>MOVIES</th>\n",
       "    </tr>\n",
       "  </thead>\n",
       "  <tbody>\n",
       "    <tr>\n",
       "      <th>1744</th>\n",
       "      <td>Add a Plot</td>\n",
       "      <td>846</td>\n",
       "    </tr>\n",
       "    <tr>\n",
       "      <th>5908</th>\n",
       "      <td>Plot under wraps.</td>\n",
       "      <td>7</td>\n",
       "    </tr>\n",
       "    <tr>\n",
       "      <th>5911</th>\n",
       "      <td>Plot unknown.</td>\n",
       "      <td>7</td>\n",
       "    </tr>\n",
       "    <tr>\n",
       "      <th>4299</th>\n",
       "      <td>Home for Christmas is back to save the holiday...</td>\n",
       "      <td>6</td>\n",
       "    </tr>\n",
       "    <tr>\n",
       "      <th>5903</th>\n",
       "      <td>Plot kept under wraps.</td>\n",
       "      <td>6</td>\n",
       "    </tr>\n",
       "    <tr>\n",
       "      <th>6729</th>\n",
       "      <td>The Buddis bounce, spin, glide - and giggle. -...</td>\n",
       "      <td>3</td>\n",
       "    </tr>\n",
       "    <tr>\n",
       "      <th>624</th>\n",
       "      <td>A gambling prodigy comes to an elite school ru...</td>\n",
       "      <td>2</td>\n",
       "    </tr>\n",
       "    <tr>\n",
       "      <th>7710</th>\n",
       "      <td>Tim's swift ascent is interrupted. Leya must a...</td>\n",
       "      <td>2</td>\n",
       "    </tr>\n",
       "    <tr>\n",
       "      <th>7144</th>\n",
       "      <td>The lives of an ambitious businesswoman, a cha...</td>\n",
       "      <td>2</td>\n",
       "    </tr>\n",
       "    <tr>\n",
       "      <th>5910</th>\n",
       "      <td>Plot under wraps. Adaptation of the Ubisoft game.</td>\n",
       "      <td>2</td>\n",
       "    </tr>\n",
       "    <tr>\n",
       "      <th>5821</th>\n",
       "      <td>Paris, 1897. Spirits are high at the \"Bazar de...</td>\n",
       "      <td>2</td>\n",
       "    </tr>\n",
       "    <tr>\n",
       "      <th>1124</th>\n",
       "      <td>A psychic middle school boy tries to live a no...</td>\n",
       "      <td>2</td>\n",
       "    </tr>\n",
       "    <tr>\n",
       "      <th>5572</th>\n",
       "      <td>NA.</td>\n",
       "      <td>2</td>\n",
       "    </tr>\n",
       "    <tr>\n",
       "      <th>3720</th>\n",
       "      <td>Famous feline Abatutu presents this charming c...</td>\n",
       "      <td>2</td>\n",
       "    </tr>\n",
       "    <tr>\n",
       "      <th>3408</th>\n",
       "      <td>Dexter's world is rocked when a rival serial m...</td>\n",
       "      <td>2</td>\n",
       "    </tr>\n",
       "    <tr>\n",
       "      <th>2344</th>\n",
       "      <td>An innocent toddler's boundless curiosity - an...</td>\n",
       "      <td>2</td>\n",
       "    </tr>\n",
       "    <tr>\n",
       "      <th>7802</th>\n",
       "      <td>Trolls, humans, gnomes and aliens alike all ma...</td>\n",
       "      <td>2</td>\n",
       "    </tr>\n",
       "  </tbody>\n",
       "</table>\n",
       "</div>"
      ],
      "text/plain": [
       "                                               ONE-LINE  MOVIES\n",
       "1744                                         Add a Plot     846\n",
       "5908                                  Plot under wraps.       7\n",
       "5911                                      Plot unknown.       7\n",
       "4299  Home for Christmas is back to save the holiday...       6\n",
       "5903                             Plot kept under wraps.       6\n",
       "6729  The Buddis bounce, spin, glide - and giggle. -...       3\n",
       "624   A gambling prodigy comes to an elite school ru...       2\n",
       "7710  Tim's swift ascent is interrupted. Leya must a...       2\n",
       "7144  The lives of an ambitious businesswoman, a cha...       2\n",
       "5910  Plot under wraps. Adaptation of the Ubisoft game.       2\n",
       "5821  Paris, 1897. Spirits are high at the \"Bazar de...       2\n",
       "1124  A psychic middle school boy tries to live a no...       2\n",
       "5572                                                NA.       2\n",
       "3720  Famous feline Abatutu presents this charming c...       2\n",
       "3408  Dexter's world is rocked when a rival serial m...       2\n",
       "2344  An innocent toddler's boundless curiosity - an...       2\n",
       "7802  Trolls, humans, gnomes and aliens alike all ma...       2"
      ]
     },
     "execution_count": 27,
     "metadata": {},
     "output_type": "execute_result"
    }
   ],
   "source": [
    "plot_grouped = df[[\"MOVIES\", \"ONE-LINE\"]]\n",
    "plot_grouped = plot_grouped.groupby(\"ONE-LINE\").count().reset_index()\n",
    "plot_grouped[plot_grouped[\"MOVIES\"] > 1].sort_values(\"MOVIES\", ascending=False)"
   ]
  },
  {
   "cell_type": "markdown",
   "id": "2251eda5-e7be-4dba-8227-a89e618a1252",
   "metadata": {},
   "source": [
    "Entries with \"Add a Plot\" are missing plots. Remove this and the uniformative placeholder plots:"
   ]
  },
  {
   "cell_type": "code",
   "execution_count": 28,
   "id": "978943d0-771a-4019-8b73-b7bcffe6cf2f",
   "metadata": {},
   "outputs": [],
   "source": [
    "df[\"ONE-LINE\"] = df[\"ONE-LINE\"].replace([\n",
    "    \"Add a Plot\",\n",
    "    \"Plot unknown.\",\n",
    "    \"Plot under wraps.\",\n",
    "    \"Plot kept under wraps.\",\n",
    "    \"NA.\",\n",
    "    \"Plot under wraps. Adaptation of the Ubisoft game.\"\n",
    "    ], np.nan)"
   ]
  },
  {
   "cell_type": "markdown",
   "id": "bd3a5c1c-4616-48e2-bb07-5e3eb4ec2420",
   "metadata": {},
   "source": [
    "#### STARS\n",
    "The <code>STARS</code> column is of string data type."
   ]
  },
  {
   "cell_type": "code",
   "execution_count": 29,
   "id": "e838bce5-1824-45c3-8da0-e7471552766d",
   "metadata": {},
   "outputs": [
    {
     "data": {
      "text/plain": [
       "0    \\n    Director:\\nPeter Thorwarth\\n| \\n    Star...\n",
       "1    \\n            \\n    Stars:\\nChris Wood, \\nSara...\n",
       "2    \\n            \\n    Stars:\\nAndrew Lincoln, \\n...\n",
       "3    \\n            \\n    Stars:\\nJustin Roiland, \\n...\n",
       "4    \\n    Director:\\nMatthias Schweighöfer\\n| \\n  ...\n",
       "Name: STARS, dtype: object"
      ]
     },
     "execution_count": 29,
     "metadata": {},
     "output_type": "execute_result"
    }
   ],
   "source": [
    "df[\"STARS\"].head()"
   ]
  },
  {
   "cell_type": "markdown",
   "id": "0ea553aa-c764-4af9-9199-33cb1ae04f41",
   "metadata": {},
   "source": [
    "As with the other text fields, some unwanted new line characters have been scraped."
   ]
  },
  {
   "cell_type": "code",
   "execution_count": 30,
   "id": "10cd4a11-7718-43a5-a51a-1f27ded9bebb",
   "metadata": {},
   "outputs": [],
   "source": [
    "df['STARS'] = df['STARS'].str.replace(\"\\n\", \"\").str.strip()"
   ]
  },
  {
   "cell_type": "code",
   "execution_count": 31,
   "id": "a045ff2f-c971-4c9a-8023-3984c7023e16",
   "metadata": {},
   "outputs": [
    {
     "data": {
      "text/plain": [
       "0    Director:Peter Thorwarth|     Stars:Peri Baume...\n",
       "1    Stars:Chris Wood, Sarah Michelle Gellar, Lena ...\n",
       "2    Stars:Andrew Lincoln, Norman Reedus, Melissa M...\n",
       "3    Stars:Justin Roiland, Chris Parnell, Spencer G...\n",
       "4    Director:Matthias Schweighöfer|     Stars:Matt...\n",
       "Name: STARS, dtype: object"
      ]
     },
     "execution_count": 31,
     "metadata": {},
     "output_type": "execute_result"
    }
   ],
   "source": [
    "df[\"STARS\"].head()"
   ]
  },
  {
   "cell_type": "markdown",
   "id": "11c8ca90-cc57-45f1-8fb1-1b8593364cb6",
   "metadata": {},
   "source": [
    "This column contains the directors and actors involved in this production. This data is only semi-structured and should be reorganized as part of the upcoming refactoring process. "
   ]
  },
  {
   "cell_type": "markdown",
   "id": "799f8243-cb9b-4ec3-aac1-7f8e9f4694df",
   "metadata": {},
   "source": [
    "#### RunTime\n",
    "The column <code>RunTime</code> describes how long each production is in minutes. It is of data type float. However, it makes more sense to be given as an integer."
   ]
  },
  {
   "cell_type": "code",
   "execution_count": 32,
   "id": "8f96a382-3951-409b-8a53-3cee36663918",
   "metadata": {},
   "outputs": [],
   "source": [
    "df[\"RunTime\"] = pd.to_numeric(df[\"RunTime\"]).astype(\"Int64\")"
   ]
  },
  {
   "cell_type": "markdown",
   "id": "b8f30425-2a46-44f0-9a04-6de645291072",
   "metadata": {},
   "source": [
    "Check the distribution of values:"
   ]
  },
  {
   "cell_type": "code",
   "execution_count": 33,
   "id": "607ba93d-7f3a-4869-b4bc-569fabab143a",
   "metadata": {},
   "outputs": [
    {
     "data": {
      "text/html": [
       "<div>\n",
       "<style scoped>\n",
       "    .dataframe tbody tr th:only-of-type {\n",
       "        vertical-align: middle;\n",
       "    }\n",
       "\n",
       "    .dataframe tbody tr th {\n",
       "        vertical-align: top;\n",
       "    }\n",
       "\n",
       "    .dataframe thead th {\n",
       "        text-align: right;\n",
       "    }\n",
       "</style>\n",
       "<table border=\"1\" class=\"dataframe\">\n",
       "  <thead>\n",
       "    <tr style=\"text-align: right;\">\n",
       "      <th></th>\n",
       "      <th>RunTime</th>\n",
       "    </tr>\n",
       "  </thead>\n",
       "  <tbody>\n",
       "    <tr>\n",
       "      <th>count</th>\n",
       "      <td>7008.0</td>\n",
       "    </tr>\n",
       "    <tr>\n",
       "      <th>mean</th>\n",
       "      <td>68.874144</td>\n",
       "    </tr>\n",
       "    <tr>\n",
       "      <th>std</th>\n",
       "      <td>47.27889</td>\n",
       "    </tr>\n",
       "    <tr>\n",
       "      <th>min</th>\n",
       "      <td>1.0</td>\n",
       "    </tr>\n",
       "    <tr>\n",
       "      <th>25%</th>\n",
       "      <td>37.0</td>\n",
       "    </tr>\n",
       "    <tr>\n",
       "      <th>50%</th>\n",
       "      <td>60.0</td>\n",
       "    </tr>\n",
       "    <tr>\n",
       "      <th>75%</th>\n",
       "      <td>95.0</td>\n",
       "    </tr>\n",
       "    <tr>\n",
       "      <th>max</th>\n",
       "      <td>853.0</td>\n",
       "    </tr>\n",
       "  </tbody>\n",
       "</table>\n",
       "</div>"
      ],
      "text/plain": [
       "         RunTime\n",
       "count     7008.0\n",
       "mean   68.874144\n",
       "std     47.27889\n",
       "min          1.0\n",
       "25%         37.0\n",
       "50%         60.0\n",
       "75%         95.0\n",
       "max        853.0"
      ]
     },
     "execution_count": 33,
     "metadata": {},
     "output_type": "execute_result"
    }
   ],
   "source": [
    "df[[\"RunTime\"]].describe()"
   ]
  },
  {
   "cell_type": "code",
   "execution_count": 34,
   "id": "3e3cfd19-4aec-40d9-9d34-c97e8ad2c522",
   "metadata": {},
   "outputs": [
    {
     "data": {
      "text/plain": [
       "array([[<Axes: title={'center': 'RunTime'}>]], dtype=object)"
      ]
     },
     "execution_count": 34,
     "metadata": {},
     "output_type": "execute_result"
    },
    {
     "data": {
      "image/png": "[encoded data removed]",
      "text/plain": [
       "<Figure size 640x480 with 1 Axes>"
      ]
     },
     "metadata": {},
     "output_type": "display_data"
    }
   ],
   "source": [
    "df.hist(column=\"RunTime\", color=\"black\", grid=False)"
   ]
  },
  {
   "cell_type": "markdown",
   "id": "91093899-d253-4c0a-99f5-b6880f80bdbf",
   "metadata": {},
   "source": [
    "Similar to <code>VOTES</code>, <code>RunTime</code> is also right skewed, but not nearly to the same extent. The mean is around 69 minutes whereas the median is 60 minutes with the majority of data falling into the believable range of under 95 minutes.  However, there appears to be some unrealistic values in the dataset that require further examination."
   ]
  },
  {
   "cell_type": "code",
   "execution_count": 35,
   "id": "b3ab5a18-e3f8-4f75-9dfa-cc72f6efdf30",
   "metadata": {},
   "outputs": [
    {
     "data": {
      "text/html": [
       "<div>\n",
       "<style scoped>\n",
       "    .dataframe tbody tr th:only-of-type {\n",
       "        vertical-align: middle;\n",
       "    }\n",
       "\n",
       "    .dataframe tbody tr th {\n",
       "        vertical-align: top;\n",
       "    }\n",
       "\n",
       "    .dataframe thead th {\n",
       "        text-align: right;\n",
       "    }\n",
       "</style>\n",
       "<table border=\"1\" class=\"dataframe\">\n",
       "  <thead>\n",
       "    <tr style=\"text-align: right;\">\n",
       "      <th></th>\n",
       "      <th>MOVIES</th>\n",
       "      <th>YEAR</th>\n",
       "      <th>GENRE</th>\n",
       "      <th>RATING</th>\n",
       "      <th>ONE-LINE</th>\n",
       "      <th>STARS</th>\n",
       "      <th>VOTES</th>\n",
       "      <th>RunTime</th>\n",
       "      <th>Gross</th>\n",
       "    </tr>\n",
       "  </thead>\n",
       "  <tbody>\n",
       "    <tr>\n",
       "      <th>1902</th>\n",
       "      <td>El tiempo entre costuras</td>\n",
       "      <td>(2013–2014)</td>\n",
       "      <td>Adventure, Drama, History</td>\n",
       "      <td>8.3</td>\n",
       "      <td>Sira Quiroga is a young Spanish dressmaker eng...</td>\n",
       "      <td>Stars:Adriana Ugarte, Mari Carmen Sánchez, Tri...</td>\n",
       "      <td>3876</td>\n",
       "      <td>853</td>\n",
       "      <td>NaN</td>\n",
       "    </tr>\n",
       "    <tr>\n",
       "      <th>1081</th>\n",
       "      <td>Soupçons</td>\n",
       "      <td>(2004–2018)</td>\n",
       "      <td>Documentary, Crime, Drama</td>\n",
       "      <td>7.9</td>\n",
       "      <td>The high-profile murder trial of American nove...</td>\n",
       "      <td>Stars:Michael Peterson, David Rudolf, Ron Guer...</td>\n",
       "      <td>20200</td>\n",
       "      <td>629</td>\n",
       "      <td>NaN</td>\n",
       "    </tr>\n",
       "    <tr>\n",
       "      <th>2498</th>\n",
       "      <td>The Innocence Files</td>\n",
       "      <td>(2020)</td>\n",
       "      <td>Documentary, Crime</td>\n",
       "      <td>8.0</td>\n",
       "      <td>Cases of wrongful conviction that the Innocenc...</td>\n",
       "      <td>Stars:Peter Neufeld, Barry Scheck, Michael Wes...</td>\n",
       "      <td>2335</td>\n",
       "      <td>573</td>\n",
       "      <td>NaN</td>\n",
       "    </tr>\n",
       "    <tr>\n",
       "      <th>201</th>\n",
       "      <td>The Haunting of Hill House</td>\n",
       "      <td>(2018)</td>\n",
       "      <td>Drama, Horror, Mystery</td>\n",
       "      <td>8.6</td>\n",
       "      <td>Flashing between past and present, a fractured...</td>\n",
       "      <td>Stars:Michiel Huisman, Carla Gugino, Henry Tho...</td>\n",
       "      <td>195117</td>\n",
       "      <td>572</td>\n",
       "      <td>NaN</td>\n",
       "    </tr>\n",
       "    <tr>\n",
       "      <th>820</th>\n",
       "      <td>Cosmos: A Spacetime Odyssey</td>\n",
       "      <td>(2014)</td>\n",
       "      <td>Documentary</td>\n",
       "      <td>9.3</td>\n",
       "      <td>An exploration of our discovery of the laws of...</td>\n",
       "      <td>Stars:Neil deGrasse Tyson, Stoney Emshwiller, ...</td>\n",
       "      <td>114386</td>\n",
       "      <td>557</td>\n",
       "      <td>NaN</td>\n",
       "    </tr>\n",
       "    <tr>\n",
       "      <th>...</th>\n",
       "      <td>...</td>\n",
       "      <td>...</td>\n",
       "      <td>...</td>\n",
       "      <td>...</td>\n",
       "      <td>...</td>\n",
       "      <td>...</td>\n",
       "      <td>...</td>\n",
       "      <td>...</td>\n",
       "      <td>...</td>\n",
       "    </tr>\n",
       "    <tr>\n",
       "      <th>743</th>\n",
       "      <td>The Ten Commandments</td>\n",
       "      <td>(1956)</td>\n",
       "      <td>Adventure, Drama</td>\n",
       "      <td>7.9</td>\n",
       "      <td>Moses, an Egyptian Prince, learns of his true ...</td>\n",
       "      <td>Director:Cecil B. DeMille|     Stars:Charlton ...</td>\n",
       "      <td>66532</td>\n",
       "      <td>220</td>\n",
       "      <td>$93.74M</td>\n",
       "    </tr>\n",
       "    <tr>\n",
       "      <th>1584</th>\n",
       "      <td>Crime Scene: The Vanishing at the Cecil Hotel</td>\n",
       "      <td>(2021)</td>\n",
       "      <td>Documentary, Crime, Mystery</td>\n",
       "      <td>5.9</td>\n",
       "      <td>College student and tourist Elisa Lam vanishes...</td>\n",
       "      <td>Stars:Tim Marcia, Amy Price, Josh Dean, Greg K...</td>\n",
       "      <td>15072</td>\n",
       "      <td>219</td>\n",
       "      <td>NaN</td>\n",
       "    </tr>\n",
       "    <tr>\n",
       "      <th>2247</th>\n",
       "      <td>The Pharmacist</td>\n",
       "      <td>(2020)</td>\n",
       "      <td>Documentary, Crime</td>\n",
       "      <td>7.7</td>\n",
       "      <td>In 1999, after losing his son in a drug-relate...</td>\n",
       "      <td></td>\n",
       "      <td>6140</td>\n",
       "      <td>217</td>\n",
       "      <td>NaN</td>\n",
       "    </tr>\n",
       "    <tr>\n",
       "      <th>394</th>\n",
       "      <td>Wet Hot American Summer: Ten Years Later</td>\n",
       "      <td>(2017)</td>\n",
       "      <td>Comedy</td>\n",
       "      <td>6.9</td>\n",
       "      <td>The campers and counselors of Camp Firewood me...</td>\n",
       "      <td>Stars:Nina Hellman, Marguerite Moreau, Zak Ort...</td>\n",
       "      <td>7784</td>\n",
       "      <td>216</td>\n",
       "      <td>NaN</td>\n",
       "    </tr>\n",
       "    <tr>\n",
       "      <th>2928</th>\n",
       "      <td>How to Fix a Drug Scandal</td>\n",
       "      <td>(2020)</td>\n",
       "      <td>Documentary, Crime</td>\n",
       "      <td>7.0</td>\n",
       "      <td>In 2013, Massachusetts State Police arrest 35-...</td>\n",
       "      <td>Stars:Scott Allen, Karl Kenzler, Daniel Marx, ...</td>\n",
       "      <td>2676</td>\n",
       "      <td>211</td>\n",
       "      <td>NaN</td>\n",
       "    </tr>\n",
       "  </tbody>\n",
       "</table>\n",
       "<p>83 rows × 9 columns</p>\n",
       "</div>"
      ],
      "text/plain": [
       "                                             MOVIES         YEAR  \\\n",
       "1902                       El tiempo entre costuras  (2013–2014)   \n",
       "1081                                       Soupçons  (2004–2018)   \n",
       "2498                            The Innocence Files       (2020)   \n",
       "201                      The Haunting of Hill House       (2018)   \n",
       "820                     Cosmos: A Spacetime Odyssey       (2014)   \n",
       "...                                             ...          ...   \n",
       "743                            The Ten Commandments       (1956)   \n",
       "1584  Crime Scene: The Vanishing at the Cecil Hotel       (2021)   \n",
       "2247                                 The Pharmacist       (2020)   \n",
       "394        Wet Hot American Summer: Ten Years Later       (2017)   \n",
       "2928                      How to Fix a Drug Scandal       (2020)   \n",
       "\n",
       "                            GENRE  RATING  \\\n",
       "1902    Adventure, Drama, History     8.3   \n",
       "1081    Documentary, Crime, Drama     7.9   \n",
       "2498           Documentary, Crime     8.0   \n",
       "201        Drama, Horror, Mystery     8.6   \n",
       "820                   Documentary     9.3   \n",
       "...                           ...     ...   \n",
       "743              Adventure, Drama     7.9   \n",
       "1584  Documentary, Crime, Mystery     5.9   \n",
       "2247           Documentary, Crime     7.7   \n",
       "394                        Comedy     6.9   \n",
       "2928           Documentary, Crime     7.0   \n",
       "\n",
       "                                               ONE-LINE  \\\n",
       "1902  Sira Quiroga is a young Spanish dressmaker eng...   \n",
       "1081  The high-profile murder trial of American nove...   \n",
       "2498  Cases of wrongful conviction that the Innocenc...   \n",
       "201   Flashing between past and present, a fractured...   \n",
       "820   An exploration of our discovery of the laws of...   \n",
       "...                                                 ...   \n",
       "743   Moses, an Egyptian Prince, learns of his true ...   \n",
       "1584  College student and tourist Elisa Lam vanishes...   \n",
       "2247  In 1999, after losing his son in a drug-relate...   \n",
       "394   The campers and counselors of Camp Firewood me...   \n",
       "2928  In 2013, Massachusetts State Police arrest 35-...   \n",
       "\n",
       "                                                  STARS   VOTES  RunTime  \\\n",
       "1902  Stars:Adriana Ugarte, Mari Carmen Sánchez, Tri...    3876      853   \n",
       "1081  Stars:Michael Peterson, David Rudolf, Ron Guer...   20200      629   \n",
       "2498  Stars:Peter Neufeld, Barry Scheck, Michael Wes...    2335      573   \n",
       "201   Stars:Michiel Huisman, Carla Gugino, Henry Tho...  195117      572   \n",
       "820   Stars:Neil deGrasse Tyson, Stoney Emshwiller, ...  114386      557   \n",
       "...                                                 ...     ...      ...   \n",
       "743   Director:Cecil B. DeMille|     Stars:Charlton ...   66532      220   \n",
       "1584  Stars:Tim Marcia, Amy Price, Josh Dean, Greg K...   15072      219   \n",
       "2247                                                       6140      217   \n",
       "394   Stars:Nina Hellman, Marguerite Moreau, Zak Ort...    7784      216   \n",
       "2928  Stars:Scott Allen, Karl Kenzler, Daniel Marx, ...    2676      211   \n",
       "\n",
       "        Gross  \n",
       "1902      NaN  \n",
       "1081      NaN  \n",
       "2498      NaN  \n",
       "201       NaN  \n",
       "820       NaN  \n",
       "...       ...  \n",
       "743   $93.74M  \n",
       "1584      NaN  \n",
       "2247      NaN  \n",
       "394       NaN  \n",
       "2928      NaN  \n",
       "\n",
       "[83 rows x 9 columns]"
      ]
     },
     "execution_count": 35,
     "metadata": {},
     "output_type": "execute_result"
    }
   ],
   "source": [
    "df[df[\"RunTime\"] > 210].sort_values(by=\"RunTime\", ascending=False)"
   ]
  },
  {
   "cell_type": "markdown",
   "id": "88d083d3-efe6-4b4d-a882-d8c1ebfb4605",
   "metadata": {},
   "source": [
    "83 records are over three standard deviations above the average (210 minutes) for run time. After checking some of these records, the more extreme examples appear to correspond to the total run time of a serial (i.e. the total time to watch all the episodes). This is inconsisent with other records where run time is the length of a single episode. This problem should be addressed as part of the more in depth cleaning."
   ]
  },
  {
   "cell_type": "markdown",
   "id": "82397759-f7c3-4038-b228-e8fe591e67da",
   "metadata": {},
   "source": [
    "#### Gross\n",
    "The final column <code>Gross</code> also contains strings. As found earlier, this column is also missing the most values."
   ]
  },
  {
   "cell_type": "code",
   "execution_count": 36,
   "id": "dba28f99-c4a3-4189-abca-900c2a27220b",
   "metadata": {},
   "outputs": [
    {
     "data": {
      "text/plain": [
       "77      $75.47M\n",
       "85     $402.45M\n",
       "95      $89.22M\n",
       "111    $315.54M\n",
       "125     $57.01M\n",
       "Name: Gross, dtype: object"
      ]
     },
     "execution_count": 36,
     "metadata": {},
     "output_type": "execute_result"
    }
   ],
   "source": [
    "df[~df[\"Gross\"].isna()][\"Gross\"].head()"
   ]
  },
  {
   "cell_type": "markdown",
   "id": "c05e2a90-02dd-4cf2-99be-9a767f8d3fe0",
   "metadata": {},
   "source": [
    "This column contains the total money made for a movie measured in millions of dollars. This column would be better displayed as a float."
   ]
  },
  {
   "cell_type": "code",
   "execution_count": 37,
   "id": "6e9f3c9e-9779-4c39-be1d-eec268209e36",
   "metadata": {},
   "outputs": [],
   "source": [
    "df[\"Gross\"] = df[\"Gross\"].str.extract(r\"\\$(\\d+\\.\\d+)M\")\n",
    "df[\"Gross\"] = pd.to_numeric(df[\"Gross\"])"
   ]
  },
  {
   "cell_type": "markdown",
   "id": "0d50dcf6-73bf-4984-925b-3aa5d510f386",
   "metadata": {},
   "source": [
    "Examining the distribution of the values:"
   ]
  },
  {
   "cell_type": "code",
   "execution_count": 38,
   "id": "87082197-cfa2-4d0c-a90a-205ca207d47c",
   "metadata": {},
   "outputs": [
    {
     "data": {
      "text/plain": [
       "count    460.000000\n",
       "mean      43.701870\n",
       "std       82.423304\n",
       "min        0.000000\n",
       "25%        0.150000\n",
       "50%        6.145000\n",
       "75%       46.947500\n",
       "max      504.010000\n",
       "Name: Gross, dtype: float64"
      ]
     },
     "execution_count": 38,
     "metadata": {},
     "output_type": "execute_result"
    }
   ],
   "source": [
    "df[\"Gross\"].describe()"
   ]
  },
  {
   "cell_type": "code",
   "execution_count": 39,
   "id": "28da1d1b-a65e-48a4-a800-513a7c22ebf2",
   "metadata": {},
   "outputs": [
    {
     "data": {
      "text/plain": [
       "array([[<Axes: title={'center': 'Gross'}>]], dtype=object)"
      ]
     },
     "execution_count": 39,
     "metadata": {},
     "output_type": "execute_result"
    },
    {
     "data": {
      "image/png": "[encoded data removed]",
      "text/plain": [
       "<Figure size 640x480 with 1 Axes>"
      ]
     },
     "metadata": {},
     "output_type": "display_data"
    }
   ],
   "source": [
    "df.hist(column=\"Gross\", color=\"black\", grid=False)"
   ]
  },
  {
   "cell_type": "markdown",
   "id": "070375b3-821c-4908-910f-6118010ff13f",
   "metadata": {},
   "source": [
    "The distribution of <code>Gross</code> is also skewed to the right with the median (6.15M USD) being a lot smaller than the mean (43.70M USD). However, there are some unexpected values of $0.0M which require further examination."
   ]
  },
  {
   "cell_type": "code",
   "execution_count": 40,
   "id": "d4ebec5d-9903-4e9b-8ee5-38c59dc9d2d8",
   "metadata": {},
   "outputs": [
    {
     "data": {
      "text/html": [
       "<div>\n",
       "<style scoped>\n",
       "    .dataframe tbody tr th:only-of-type {\n",
       "        vertical-align: middle;\n",
       "    }\n",
       "\n",
       "    .dataframe tbody tr th {\n",
       "        vertical-align: top;\n",
       "    }\n",
       "\n",
       "    .dataframe thead th {\n",
       "        text-align: right;\n",
       "    }\n",
       "</style>\n",
       "<table border=\"1\" class=\"dataframe\">\n",
       "  <thead>\n",
       "    <tr style=\"text-align: right;\">\n",
       "      <th></th>\n",
       "      <th>MOVIES</th>\n",
       "      <th>YEAR</th>\n",
       "      <th>GENRE</th>\n",
       "      <th>RATING</th>\n",
       "      <th>ONE-LINE</th>\n",
       "      <th>STARS</th>\n",
       "      <th>VOTES</th>\n",
       "      <th>RunTime</th>\n",
       "      <th>Gross</th>\n",
       "    </tr>\n",
       "  </thead>\n",
       "  <tbody>\n",
       "    <tr>\n",
       "      <th>2245</th>\n",
       "      <td>V/H/S Viral</td>\n",
       "      <td>(2014)</td>\n",
       "      <td>Horror, Thriller</td>\n",
       "      <td>4.2</td>\n",
       "      <td>A Los Angeles police chase sends a fame-obsess...</td>\n",
       "      <td>Directors:Justin Benson, Gregg Bishop, Todd Li...</td>\n",
       "      <td>15520</td>\n",
       "      <td>81</td>\n",
       "      <td>0.00</td>\n",
       "    </tr>\n",
       "    <tr>\n",
       "      <th>4641</th>\n",
       "      <td>The Reconstruction of William Zero</td>\n",
       "      <td>(2014)</td>\n",
       "      <td>Drama, Mystery, Sci-Fi</td>\n",
       "      <td>5.4</td>\n",
       "      <td>A geneticist wakes up from an accident with on...</td>\n",
       "      <td>Director:Dan Bush|     Stars:Conal Byrne, Amy ...</td>\n",
       "      <td>1147</td>\n",
       "      <td>98</td>\n",
       "      <td>0.00</td>\n",
       "    </tr>\n",
       "    <tr>\n",
       "      <th>3124</th>\n",
       "      <td>I'm Reed Fish</td>\n",
       "      <td>(2006)</td>\n",
       "      <td>Comedy, Drama, Romance</td>\n",
       "      <td>5.7</td>\n",
       "      <td>Reed Fish's life turns into chaos when a high ...</td>\n",
       "      <td>Director:Zackary Adler|     Stars:Jay Baruchel...</td>\n",
       "      <td>4283</td>\n",
       "      <td>93</td>\n",
       "      <td>0.00</td>\n",
       "    </tr>\n",
       "    <tr>\n",
       "      <th>4637</th>\n",
       "      <td>Life's a Breeze</td>\n",
       "      <td>(2013)</td>\n",
       "      <td>Comedy, Drama</td>\n",
       "      <td>6.3</td>\n",
       "      <td>Tells the story of a family as they search for...</td>\n",
       "      <td>Director:Lance Daly|     Stars:Kelly Thornton,...</td>\n",
       "      <td>1103</td>\n",
       "      <td>83</td>\n",
       "      <td>0.00</td>\n",
       "    </tr>\n",
       "    <tr>\n",
       "      <th>2313</th>\n",
       "      <td>Ashby</td>\n",
       "      <td>(2015)</td>\n",
       "      <td>Comedy, Crime, Drama</td>\n",
       "      <td>6.4</td>\n",
       "      <td>High-school student Ed Wallis enters into a fr...</td>\n",
       "      <td>Director:Tony McNamara|     Stars:Mickey Rourk...</td>\n",
       "      <td>15197</td>\n",
       "      <td>100</td>\n",
       "      <td>0.00</td>\n",
       "    </tr>\n",
       "    <tr>\n",
       "      <th>...</th>\n",
       "      <td>...</td>\n",
       "      <td>...</td>\n",
       "      <td>...</td>\n",
       "      <td>...</td>\n",
       "      <td>...</td>\n",
       "      <td>...</td>\n",
       "      <td>...</td>\n",
       "      <td>...</td>\n",
       "      <td>...</td>\n",
       "    </tr>\n",
       "    <tr>\n",
       "      <th>1685</th>\n",
       "      <td>Mirai no Mirai</td>\n",
       "      <td>(2018)</td>\n",
       "      <td>Animation, Adventure, Drama</td>\n",
       "      <td>7.0</td>\n",
       "      <td>A young boy encounters a magical garden which ...</td>\n",
       "      <td>Director:Mamoru Hosoda|     Stars:Rebecca Hall...</td>\n",
       "      <td>13651</td>\n",
       "      <td>98</td>\n",
       "      <td>0.81</td>\n",
       "    </tr>\n",
       "    <tr>\n",
       "      <th>2483</th>\n",
       "      <td>Life Itself</td>\n",
       "      <td>(2014)</td>\n",
       "      <td>Documentary, Biography</td>\n",
       "      <td>7.8</td>\n",
       "      <td>The life and career of the renowned film criti...</td>\n",
       "      <td>Director:Steve James|     Stars:Roger Ebert, C...</td>\n",
       "      <td>15182</td>\n",
       "      <td>121</td>\n",
       "      <td>0.81</td>\n",
       "    </tr>\n",
       "    <tr>\n",
       "      <th>2479</th>\n",
       "      <td>Born to Be Blue</td>\n",
       "      <td>(2015)</td>\n",
       "      <td>Biography, Drama, Music</td>\n",
       "      <td>6.9</td>\n",
       "      <td>A re-imagining of jazz legend Chet Baker's mus...</td>\n",
       "      <td>Director:Robert Budreau|     Stars:Ethan Hawke...</td>\n",
       "      <td>8304</td>\n",
       "      <td>97</td>\n",
       "      <td>0.83</td>\n",
       "    </tr>\n",
       "    <tr>\n",
       "      <th>3544</th>\n",
       "      <td>Generation Iron</td>\n",
       "      <td>(2013)</td>\n",
       "      <td>Documentary, Drama, Sport</td>\n",
       "      <td>7.1</td>\n",
       "      <td>A documentary that follows top bodybuilders as...</td>\n",
       "      <td>Director:Vlad Yudin|     Stars:Arnold Schwarze...</td>\n",
       "      <td>7715</td>\n",
       "      <td>106</td>\n",
       "      <td>0.85</td>\n",
       "    </tr>\n",
       "    <tr>\n",
       "      <th>3284</th>\n",
       "      <td>Particle Fever</td>\n",
       "      <td>(2013)</td>\n",
       "      <td>Documentary</td>\n",
       "      <td>7.4</td>\n",
       "      <td>As the Large Hadron Collider is about to be la...</td>\n",
       "      <td>Director:Mark Levinson|     Stars:David Kaplan...</td>\n",
       "      <td>7271</td>\n",
       "      <td>99</td>\n",
       "      <td>0.87</td>\n",
       "    </tr>\n",
       "  </tbody>\n",
       "</table>\n",
       "<p>170 rows × 9 columns</p>\n",
       "</div>"
      ],
      "text/plain": [
       "                                  MOVIES    YEAR                        GENRE  \\\n",
       "2245                         V/H/S Viral  (2014)             Horror, Thriller   \n",
       "4641  The Reconstruction of William Zero  (2014)       Drama, Mystery, Sci-Fi   \n",
       "3124                       I'm Reed Fish  (2006)       Comedy, Drama, Romance   \n",
       "4637                     Life's a Breeze  (2013)                Comedy, Drama   \n",
       "2313                               Ashby  (2015)         Comedy, Crime, Drama   \n",
       "...                                  ...     ...                          ...   \n",
       "1685                      Mirai no Mirai  (2018)  Animation, Adventure, Drama   \n",
       "2483                         Life Itself  (2014)       Documentary, Biography   \n",
       "2479                     Born to Be Blue  (2015)      Biography, Drama, Music   \n",
       "3544                     Generation Iron  (2013)    Documentary, Drama, Sport   \n",
       "3284                      Particle Fever  (2013)                  Documentary   \n",
       "\n",
       "      RATING                                           ONE-LINE  \\\n",
       "2245     4.2  A Los Angeles police chase sends a fame-obsess...   \n",
       "4641     5.4  A geneticist wakes up from an accident with on...   \n",
       "3124     5.7  Reed Fish's life turns into chaos when a high ...   \n",
       "4637     6.3  Tells the story of a family as they search for...   \n",
       "2313     6.4  High-school student Ed Wallis enters into a fr...   \n",
       "...      ...                                                ...   \n",
       "1685     7.0  A young boy encounters a magical garden which ...   \n",
       "2483     7.8  The life and career of the renowned film criti...   \n",
       "2479     6.9  A re-imagining of jazz legend Chet Baker's mus...   \n",
       "3544     7.1  A documentary that follows top bodybuilders as...   \n",
       "3284     7.4  As the Large Hadron Collider is about to be la...   \n",
       "\n",
       "                                                  STARS  VOTES  RunTime  Gross  \n",
       "2245  Directors:Justin Benson, Gregg Bishop, Todd Li...  15520       81   0.00  \n",
       "4641  Director:Dan Bush|     Stars:Conal Byrne, Amy ...   1147       98   0.00  \n",
       "3124  Director:Zackary Adler|     Stars:Jay Baruchel...   4283       93   0.00  \n",
       "4637  Director:Lance Daly|     Stars:Kelly Thornton,...   1103       83   0.00  \n",
       "2313  Director:Tony McNamara|     Stars:Mickey Rourk...  15197      100   0.00  \n",
       "...                                                 ...    ...      ...    ...  \n",
       "1685  Director:Mamoru Hosoda|     Stars:Rebecca Hall...  13651       98   0.81  \n",
       "2483  Director:Steve James|     Stars:Roger Ebert, C...  15182      121   0.81  \n",
       "2479  Director:Robert Budreau|     Stars:Ethan Hawke...   8304       97   0.83  \n",
       "3544  Director:Vlad Yudin|     Stars:Arnold Schwarze...   7715      106   0.85  \n",
       "3284  Director:Mark Levinson|     Stars:David Kaplan...   7271       99   0.87  \n",
       "\n",
       "[170 rows x 9 columns]"
      ]
     },
     "execution_count": 40,
     "metadata": {},
     "output_type": "execute_result"
    }
   ],
   "source": [
    "df[df[\"Gross\"] < 1].sort_values(by=\"Gross\")"
   ]
  },
  {
   "cell_type": "markdown",
   "id": "fdb8999c-28c1-4896-8a6a-8d1c623ccdea",
   "metadata": {},
   "source": [
    "Records with <code>Gross</code> of zero may refer to movies that made less than $1M. However, this is inconsistent with other records in the dataset. These records may simply be missing values. "
   ]
  },
  {
   "cell_type": "markdown",
   "id": "c17bac03-0382-4203-a14c-85e62d310cec",
   "metadata": {},
   "source": [
    "### Cleaning summary\n",
    "After the initial inspection and preliminary cleaning, re-examine the data and check for missing values:"
   ]
  },
  {
   "cell_type": "code",
   "execution_count": 41,
   "id": "e7256cf7-be1d-46de-b95a-3deccb3b9199",
   "metadata": {},
   "outputs": [
    {
     "data": {
      "text/html": [
       "<div>\n",
       "<style scoped>\n",
       "    .dataframe tbody tr th:only-of-type {\n",
       "        vertical-align: middle;\n",
       "    }\n",
       "\n",
       "    .dataframe tbody tr th {\n",
       "        vertical-align: top;\n",
       "    }\n",
       "\n",
       "    .dataframe thead th {\n",
       "        text-align: right;\n",
       "    }\n",
       "</style>\n",
       "<table border=\"1\" class=\"dataframe\">\n",
       "  <thead>\n",
       "    <tr style=\"text-align: right;\">\n",
       "      <th></th>\n",
       "      <th>MOVIES</th>\n",
       "      <th>YEAR</th>\n",
       "      <th>GENRE</th>\n",
       "      <th>RATING</th>\n",
       "      <th>ONE-LINE</th>\n",
       "      <th>STARS</th>\n",
       "      <th>VOTES</th>\n",
       "      <th>RunTime</th>\n",
       "      <th>Gross</th>\n",
       "    </tr>\n",
       "  </thead>\n",
       "  <tbody>\n",
       "    <tr>\n",
       "      <th>0</th>\n",
       "      <td>Blood Red Sky</td>\n",
       "      <td>(2021)</td>\n",
       "      <td>Action, Horror, Thriller</td>\n",
       "      <td>6.1</td>\n",
       "      <td>A woman with a mysterious illness is forced in...</td>\n",
       "      <td>Director:Peter Thorwarth|     Stars:Peri Baume...</td>\n",
       "      <td>21062</td>\n",
       "      <td>121</td>\n",
       "      <td>NaN</td>\n",
       "    </tr>\n",
       "    <tr>\n",
       "      <th>1</th>\n",
       "      <td>Masters of the Universe: Revelation</td>\n",
       "      <td>(2021– )</td>\n",
       "      <td>Animation, Action, Adventure</td>\n",
       "      <td>5.0</td>\n",
       "      <td>The war for Eternia begins again in what may b...</td>\n",
       "      <td>Stars:Chris Wood, Sarah Michelle Gellar, Lena ...</td>\n",
       "      <td>17870</td>\n",
       "      <td>25</td>\n",
       "      <td>NaN</td>\n",
       "    </tr>\n",
       "    <tr>\n",
       "      <th>2</th>\n",
       "      <td>The Walking Dead</td>\n",
       "      <td>(2010–2022)</td>\n",
       "      <td>Drama, Horror, Thriller</td>\n",
       "      <td>8.2</td>\n",
       "      <td>Sheriff Deputy Rick Grimes wakes up from a com...</td>\n",
       "      <td>Stars:Andrew Lincoln, Norman Reedus, Melissa M...</td>\n",
       "      <td>885805</td>\n",
       "      <td>44</td>\n",
       "      <td>NaN</td>\n",
       "    </tr>\n",
       "    <tr>\n",
       "      <th>3</th>\n",
       "      <td>Rick and Morty</td>\n",
       "      <td>(2013– )</td>\n",
       "      <td>Animation, Adventure, Comedy</td>\n",
       "      <td>9.2</td>\n",
       "      <td>An animated series that follows the exploits o...</td>\n",
       "      <td>Stars:Justin Roiland, Chris Parnell, Spencer G...</td>\n",
       "      <td>414849</td>\n",
       "      <td>23</td>\n",
       "      <td>NaN</td>\n",
       "    </tr>\n",
       "    <tr>\n",
       "      <th>4</th>\n",
       "      <td>Army of Thieves</td>\n",
       "      <td>(2021)</td>\n",
       "      <td>Action, Crime, Horror</td>\n",
       "      <td>NaN</td>\n",
       "      <td>A prequel, set before the events of Army of th...</td>\n",
       "      <td>Director:Matthias Schweighöfer|     Stars:Matt...</td>\n",
       "      <td>&lt;NA&gt;</td>\n",
       "      <td>&lt;NA&gt;</td>\n",
       "      <td>NaN</td>\n",
       "    </tr>\n",
       "  </tbody>\n",
       "</table>\n",
       "</div>"
      ],
      "text/plain": [
       "                                MOVIES         YEAR  \\\n",
       "0                        Blood Red Sky       (2021)   \n",
       "1  Masters of the Universe: Revelation     (2021– )   \n",
       "2                     The Walking Dead  (2010–2022)   \n",
       "3                       Rick and Morty     (2013– )   \n",
       "4                      Army of Thieves       (2021)   \n",
       "\n",
       "                          GENRE  RATING  \\\n",
       "0      Action, Horror, Thriller     6.1   \n",
       "1  Animation, Action, Adventure     5.0   \n",
       "2       Drama, Horror, Thriller     8.2   \n",
       "3  Animation, Adventure, Comedy     9.2   \n",
       "4         Action, Crime, Horror     NaN   \n",
       "\n",
       "                                            ONE-LINE  \\\n",
       "0  A woman with a mysterious illness is forced in...   \n",
       "1  The war for Eternia begins again in what may b...   \n",
       "2  Sheriff Deputy Rick Grimes wakes up from a com...   \n",
       "3  An animated series that follows the exploits o...   \n",
       "4  A prequel, set before the events of Army of th...   \n",
       "\n",
       "                                               STARS   VOTES  RunTime  Gross  \n",
       "0  Director:Peter Thorwarth|     Stars:Peri Baume...   21062      121    NaN  \n",
       "1  Stars:Chris Wood, Sarah Michelle Gellar, Lena ...   17870       25    NaN  \n",
       "2  Stars:Andrew Lincoln, Norman Reedus, Melissa M...  885805       44    NaN  \n",
       "3  Stars:Justin Roiland, Chris Parnell, Spencer G...  414849       23    NaN  \n",
       "4  Director:Matthias Schweighöfer|     Stars:Matt...    <NA>     <NA>    NaN  "
      ]
     },
     "execution_count": 41,
     "metadata": {},
     "output_type": "execute_result"
    }
   ],
   "source": [
    "df.head()"
   ]
  },
  {
   "cell_type": "code",
   "execution_count": 42,
   "id": "d668b773-9064-4b32-8481-aee4682d858c",
   "metadata": {},
   "outputs": [
    {
     "data": {
      "text/plain": [
       "MOVIES         0\n",
       "YEAR         542\n",
       "GENRE         78\n",
       "RATING      1400\n",
       "ONE-LINE     870\n",
       "STARS          0\n",
       "VOTES       1400\n",
       "RunTime     2560\n",
       "Gross       9108\n",
       "dtype: int64"
      ]
     },
     "execution_count": 42,
     "metadata": {},
     "output_type": "execute_result"
    }
   ],
   "source": [
    "df.isna().sum()"
   ]
  },
  {
   "cell_type": "markdown",
   "id": "7f1ea1c0-5a12-46df-9435-82972f238b8a",
   "metadata": {},
   "source": [
    "During this stage of cleaning, full duplicates were removed.\n",
    "</p>\n",
    "The columns were changed in the following ways:\n",
    "<ul>\n",
    "    <li><code>MOVIES</code> - white space removed</li>\n",
    "    <li><code>YEAR</code> - no changes</li>\n",
    "    <li><code>GENRE</code> - new line characters and white spaces removed</li>\n",
    "    <li><code>RATING</code> - no changes required</li>\n",
    "    <li><code>ONE-LINE</code> - new line characters and missing plots replaced with no data</li>\n",
    "    <li><code>STARS</code> - new line characters and white spaces removed</li>\n",
    "    <li><code>VOTES</code> - removed comma and converted to integer from string data type</li>\n",
    "    <li><code>RunTime</code> - converted to integer from float data type</li>\n",
    "    <li><code>Gross</code> - Removed non-numeric characters and cast as float</li>\n",
    "</ul>"
   ]
  },
  {
   "cell_type": "markdown",
   "id": "2860f080-c831-4b7d-9664-1e97562e0388",
   "metadata": {},
   "source": [
    "Export the cleaned dataset as <code>stage1_cleaned.csv</code>:"
   ]
  },
  {
   "cell_type": "code",
   "execution_count": 43,
   "id": "6e154291-d518-4743-8fd5-dde19f2e0780",
   "metadata": {},
   "outputs": [],
   "source": [
    "df.to_csv(\"../data/interim/stage1_cleaned.csv\", index=False)"
   ]
  },
  {
   "cell_type": "markdown",
   "id": "8990c659-e576-4436-820b-d9ff3efe81e2",
   "metadata": {},
   "source": [
    "This CSV file will be the starting point for the next stage, <i>column refactoring</i>."
   ]
  },
  {
   "cell_type": "markdown",
   "id": "9823e8f3-c7d1-42a3-a7a1-f86d1a6f4cd9",
   "metadata": {},
   "source": [
    "### Navigation\n",
    "**Previous book**: None\n",
    "\n",
    "**Next book**: <a href='./02_column_refactor.ipynb'>[Column Refactoring]</a>"
   ]
  }
 ],
 "metadata": {
  "kernelspec": {
   "display_name": "Python 3 (ipykernel)",
   "language": "python",
   "name": "python3"
  },
  "language_info": {
   "codemirror_mode": {
    "name": "ipython",
    "version": 3
   },
   "file_extension": ".py",
   "mimetype": "text/x-python",
   "name": "python",
   "nbconvert_exporter": "python",
   "pygments_lexer": "ipython3",
   "version": "3.10.11"
  }
 },
 "nbformat": 4,
 "nbformat_minor": 5
}
