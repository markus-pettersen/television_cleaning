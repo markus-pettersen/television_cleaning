{
 "cells": [
  {
   "cell_type": "markdown",
   "id": "42b6fadd-29c4-48eb-999b-57bddfbed8d9",
   "metadata": {},
   "source": [
    "**Previous book**: <a href='./02_column_refactor.ipynb'>[Column Refactoring]</a>"
   ]
  },
  {
   "cell_type": "markdown",
   "id": "428d885f-a329-4308-918f-992ab595ce46",
   "metadata": {},
   "source": [
    "## Part 3: Subsetting\n",
    "\n",
    "**Note**: This notebook expects <code>stage2_refactored.csv</code> from the <code>02_column_refactor.ipynb</code> notebook!\n",
    "\n",
    "The original dataset contains information about a wide range of productions such as TV specials, movies and serials. However, best practices dicate that a table should represent only one entity or topic. Therefore in this stage, we will narrow our focus to serials. First, we will identify which entries are serials, then subset these entries and check if each row can be uniquely identified. \n",
    "\n",
    "**Input:** <code>/data/interim/stage2_refactored.csv</code>\n",
    "<br>\n",
    "**Output:** <code>/data/interim/stage3_serials.csv</code> and <code>/data/final/episodes_data.csv</code>\n",
    "### Initial imports\n",
    "We start by importing the CSV file created in part 2:"
   ]
  },
  {
   "cell_type": "code",
   "execution_count": 1,
   "id": "2a197188-3ea1-4720-a59f-e885ffed4cc4",
   "metadata": {},
   "outputs": [
    {
     "data": {
      "text/html": [
       "<div>\n",
       "<style scoped>\n",
       "    .dataframe tbody tr th:only-of-type {\n",
       "        vertical-align: middle;\n",
       "    }\n",
       "\n",
       "    .dataframe tbody tr th {\n",
       "        vertical-align: top;\n",
       "    }\n",
       "\n",
       "    .dataframe thead th {\n",
       "        text-align: right;\n",
       "    }\n",
       "</style>\n",
       "<table border=\"1\" class=\"dataframe\">\n",
       "  <thead>\n",
       "    <tr style=\"text-align: right;\">\n",
       "      <th></th>\n",
       "      <th>title</th>\n",
       "      <th>start_year</th>\n",
       "      <th>end_year</th>\n",
       "      <th>genre</th>\n",
       "      <th>summary</th>\n",
       "      <th>rating</th>\n",
       "      <th>votes</th>\n",
       "      <th>run_time</th>\n",
       "      <th>gross</th>\n",
       "      <th>production_type</th>\n",
       "      <th>actors</th>\n",
       "      <th>director</th>\n",
       "    </tr>\n",
       "  </thead>\n",
       "  <tbody>\n",
       "    <tr>\n",
       "      <th>0</th>\n",
       "      <td>Blood Red Sky</td>\n",
       "      <td>2021</td>\n",
       "      <td>NaN</td>\n",
       "      <td>Action, Horror, Thriller</td>\n",
       "      <td>A woman with a mysterious illness is forced in...</td>\n",
       "      <td>6.1</td>\n",
       "      <td>21062</td>\n",
       "      <td>121</td>\n",
       "      <td>NaN</td>\n",
       "      <td>NaN</td>\n",
       "      <td>Peri Baumeister, Carl Anton Koch, Alexander Sc...</td>\n",
       "      <td>Peter Thorwarth</td>\n",
       "    </tr>\n",
       "    <tr>\n",
       "      <th>1</th>\n",
       "      <td>Masters of the Universe: Revelation</td>\n",
       "      <td>2021</td>\n",
       "      <td>Ongoing</td>\n",
       "      <td>Animation, Action, Adventure</td>\n",
       "      <td>The war for Eternia begins again in what may b...</td>\n",
       "      <td>5.0</td>\n",
       "      <td>17870</td>\n",
       "      <td>25</td>\n",
       "      <td>NaN</td>\n",
       "      <td>NaN</td>\n",
       "      <td>Chris Wood, Sarah Michelle Gellar, Lena Headey...</td>\n",
       "      <td>NaN</td>\n",
       "    </tr>\n",
       "    <tr>\n",
       "      <th>2</th>\n",
       "      <td>The Walking Dead</td>\n",
       "      <td>2010</td>\n",
       "      <td>2022</td>\n",
       "      <td>Drama, Horror, Thriller</td>\n",
       "      <td>Sheriff Deputy Rick Grimes wakes up from a com...</td>\n",
       "      <td>8.2</td>\n",
       "      <td>885805</td>\n",
       "      <td>44</td>\n",
       "      <td>NaN</td>\n",
       "      <td>NaN</td>\n",
       "      <td>Andrew Lincoln, Norman Reedus, Melissa McBride...</td>\n",
       "      <td>NaN</td>\n",
       "    </tr>\n",
       "    <tr>\n",
       "      <th>3</th>\n",
       "      <td>Rick and Morty</td>\n",
       "      <td>2013</td>\n",
       "      <td>Ongoing</td>\n",
       "      <td>Animation, Adventure, Comedy</td>\n",
       "      <td>An animated series that follows the exploits o...</td>\n",
       "      <td>9.2</td>\n",
       "      <td>414849</td>\n",
       "      <td>23</td>\n",
       "      <td>NaN</td>\n",
       "      <td>NaN</td>\n",
       "      <td>Justin Roiland, Chris Parnell, Spencer Grammer...</td>\n",
       "      <td>NaN</td>\n",
       "    </tr>\n",
       "    <tr>\n",
       "      <th>4</th>\n",
       "      <td>Army of Thieves</td>\n",
       "      <td>2021</td>\n",
       "      <td>NaN</td>\n",
       "      <td>Action, Crime, Horror</td>\n",
       "      <td>A prequel, set before the events of Army of th...</td>\n",
       "      <td>NaN</td>\n",
       "      <td>&lt;NA&gt;</td>\n",
       "      <td>&lt;NA&gt;</td>\n",
       "      <td>NaN</td>\n",
       "      <td>NaN</td>\n",
       "      <td>Matthias Schweighöfer, Nathalie Emmanuel, Ruby...</td>\n",
       "      <td>Matthias Schweighöfer</td>\n",
       "    </tr>\n",
       "  </tbody>\n",
       "</table>\n",
       "</div>"
      ],
      "text/plain": [
       "                                 title start_year end_year  \\\n",
       "0                        Blood Red Sky       2021      NaN   \n",
       "1  Masters of the Universe: Revelation       2021  Ongoing   \n",
       "2                     The Walking Dead       2010     2022   \n",
       "3                       Rick and Morty       2013  Ongoing   \n",
       "4                      Army of Thieves       2021      NaN   \n",
       "\n",
       "                          genre  \\\n",
       "0      Action, Horror, Thriller   \n",
       "1  Animation, Action, Adventure   \n",
       "2       Drama, Horror, Thriller   \n",
       "3  Animation, Adventure, Comedy   \n",
       "4         Action, Crime, Horror   \n",
       "\n",
       "                                             summary  rating   votes  \\\n",
       "0  A woman with a mysterious illness is forced in...     6.1   21062   \n",
       "1  The war for Eternia begins again in what may b...     5.0   17870   \n",
       "2  Sheriff Deputy Rick Grimes wakes up from a com...     8.2  885805   \n",
       "3  An animated series that follows the exploits o...     9.2  414849   \n",
       "4  A prequel, set before the events of Army of th...     NaN    <NA>   \n",
       "\n",
       "   run_time  gross production_type  \\\n",
       "0       121    NaN             NaN   \n",
       "1        25    NaN             NaN   \n",
       "2        44    NaN             NaN   \n",
       "3        23    NaN             NaN   \n",
       "4      <NA>    NaN             NaN   \n",
       "\n",
       "                                              actors               director  \n",
       "0  Peri Baumeister, Carl Anton Koch, Alexander Sc...        Peter Thorwarth  \n",
       "1  Chris Wood, Sarah Michelle Gellar, Lena Headey...                    NaN  \n",
       "2  Andrew Lincoln, Norman Reedus, Melissa McBride...                    NaN  \n",
       "3  Justin Roiland, Chris Parnell, Spencer Grammer...                    NaN  \n",
       "4  Matthias Schweighöfer, Nathalie Emmanuel, Ruby...  Matthias Schweighöfer  "
      ]
     },
     "execution_count": 1,
     "metadata": {},
     "output_type": "execute_result"
    }
   ],
   "source": [
    "import numpy as np\n",
    "import pandas as pd\n",
    "\n",
    "# start_year acts more like a label than a true integer\n",
    "df = pd.read_csv(\"../data/interim/stage2_refactored.csv\",\n",
    "                 dtype={\"start_year\": \"str\", \"votes\": \"Int64\",\"run_time\": \"Int64\"})\n",
    "df.head()"
   ]
  },
  {
   "cell_type": "markdown",
   "id": "5b5d252d-bb06-43fd-92b2-d9fb9a7d3e1d",
   "metadata": {},
   "source": [
    "While the intial stages were focused on cleaning the data while retaining its original information, the next stages build on the original data by focusing the dataset. We start with the <code>production_type</code> column."
   ]
  },
  {
   "cell_type": "markdown",
   "id": "bfc87e8e-b491-402f-bc5b-b7043069c5d2",
   "metadata": {},
   "source": [
    "### production_type\n",
    "The <code>production_type</code> column was created from the now defunct <code>YEAR</code> column.\n",
    "It is likely to be missing a lot of values. Check the column for missing values:"
   ]
  },
  {
   "cell_type": "code",
   "execution_count": 2,
   "id": "07dcb966-28b3-464a-bdc3-9788b1fc0877",
   "metadata": {},
   "outputs": [
    {
     "data": {
      "text/plain": [
       "8531"
      ]
     },
     "execution_count": 2,
     "metadata": {},
     "output_type": "execute_result"
    }
   ],
   "source": [
    "df[\"production_type\"].isna().sum()"
   ]
  },
  {
   "cell_type": "markdown",
   "id": "85fab5e8-bb9c-498d-a9e1-e1025d685d8a",
   "metadata": {},
   "source": [
    "The majority of values are missing for this column. What values are present?"
   ]
  },
  {
   "cell_type": "code",
   "execution_count": 3,
   "id": "038e6c93-a481-4b51-a834-5baeb84314e7",
   "metadata": {},
   "outputs": [
    {
     "data": {
      "text/plain": [
       "production_type\n",
       "TV Special    397\n",
       "I             189\n",
       "TV Movie      161\n",
       "Video         112\n",
       "II             95\n",
       "III            35\n",
       "IV             12\n",
       "TV Short        8\n",
       "VII             7\n",
       "V               6\n",
       "VI              5\n",
       "XI              2\n",
       "XII             1\n",
       "VIII            1\n",
       "XXIII           1\n",
       "XLI             1\n",
       "IX              1\n",
       "XIV             1\n",
       "XIII            1\n",
       "Video Game      1\n",
       "Name: count, dtype: int64"
      ]
     },
     "execution_count": 3,
     "metadata": {},
     "output_type": "execute_result"
    }
   ],
   "source": [
    "df[\"production_type\"].value_counts()"
   ]
  },
  {
   "cell_type": "markdown",
   "id": "5e7b8ae3-546a-40fb-8dfd-2f7117091c90",
   "metadata": {},
   "source": [
    "A lot of entries have Roman numerals as the production type. The reason for this is not clear, and they may just be a result of how the data were scraped.\n",
    "</p>\n",
    "Building from the data already present, productions in this dataset can be separated into three main categories:\n",
    "<ol>\n",
    "    <li><b>Serial</b> - multiple episodes released over a period of time.</li> \n",
    "    <li><b>Film</b> - a stand-alone long-form release (includes TV movies).</li>\n",
    "    <li><b>One-off feature</b> - a stand-alone release. Includes two types:</li>\n",
    "        <ul>\n",
    "            <li>Television special - a TV show made for a specific occassion, live music or comedy performances</li>\n",
    "            <li>Short - a short-form (usually a few minutes to half an hour) television program usually dealing with a single story or idea</li>\n",
    "        </ul>\n",
    "</ol>\n",
    "Each of these production types vary in different ways, so the type can be inferred. It makes sense to have three different tables each concerning a different production type."
   ]
  },
  {
   "cell_type": "markdown",
   "id": "b3897d89-903b-4f3e-a475-6a71497e5de7",
   "metadata": {},
   "source": [
    "The easiest case is the first case, serials. By definition, a serial runs over a period of time. Any production that has an end date is likely a serial, and can be labeled as such. The main focus for the rest of this project will be serial. The other production types may be revisited as an extension exercise."
   ]
  },
  {
   "cell_type": "code",
   "execution_count": 4,
   "id": "5d03ee2e-7b8d-4529-bf79-c8c1e0e474e3",
   "metadata": {},
   "outputs": [],
   "source": [
    "df.loc[~df[\"end_year\"].isnull(), \"production_type\"] = \"Serial\""
   ]
  },
  {
   "cell_type": "markdown",
   "id": "60cccbbc-d43a-4375-91a0-9977ee53c4b2",
   "metadata": {},
   "source": [
    "<b>NOTE</b>\n",
    "</br>\n",
    "There are two important things to mention about this approach.\n",
    "<ol>\n",
    "<li>This is not a comprehensive way of identifying every serial in the dataset. It is possible for a record to be missing entries for both <code>start_year</code> and <code>end_year</code>. Any serials with missing years will not be labelled correctly</li>\n",
    "<li>Any previous value for <code>production_type</code> will be overwritten, so it is necessary to check the value counts after making the change for unintended consequences</li>\n",
    "</ol>"
   ]
  },
  {
   "cell_type": "code",
   "execution_count": 5,
   "id": "f69757ff-f122-4ec8-8752-8a90b717a651",
   "metadata": {},
   "outputs": [
    {
     "data": {
      "text/plain": [
       "production_type\n",
       "Serial        4282\n",
       "TV Special     397\n",
       "I              174\n",
       "TV Movie       161\n",
       "Video          112\n",
       "II              84\n",
       "III             35\n",
       "IV              12\n",
       "TV Short         8\n",
       "VII              7\n",
       "V                6\n",
       "VI               5\n",
       "XI               2\n",
       "XII              1\n",
       "VIII             1\n",
       "XXIII            1\n",
       "XLI              1\n",
       "IX               1\n",
       "XIV              1\n",
       "XIII             1\n",
       "Video Game       1\n",
       "Name: count, dtype: int64"
      ]
     },
     "execution_count": 5,
     "metadata": {},
     "output_type": "execute_result"
    }
   ],
   "source": [
    "df[\"production_type\"].value_counts()"
   ]
  },
  {
   "cell_type": "markdown",
   "id": "3194a1d5-a85b-47cd-9f90-f74a0465989f",
   "metadata": {},
   "source": [
    "The operation only changed a few records with Roman numerals to <code>Serial</code>, and did not make any unwanted changes.\n",
    "</p>\n",
    "This also shows that a large number of entries in this dataset (4282 out of 9568) are related to serials."
   ]
  },
  {
   "cell_type": "markdown",
   "id": "85b53f2d-5a9b-49e6-ad32-951937516098",
   "metadata": {},
   "source": [
    "### Serials dataset\n",
    "Despite the name <code>MOVIES</code>, a large portion of the original dataset describes serials. The characteristics of serials have some overlap with those of a film, but some features that are relevant to films are not relevant to serials. Therefore, it would make more sense to separate serials from the rest of the productions.\n",
    "</p>\n",
    "Create a separate data frame containing only information about serials:"
   ]
  },
  {
   "cell_type": "code",
   "execution_count": 6,
   "id": "58e87d21-bbf1-41bf-abdf-13070622da12",
   "metadata": {},
   "outputs": [],
   "source": [
    "df_serials = df.loc[df[\"production_type\"] == \"Serial\", :]"
   ]
  },
  {
   "cell_type": "markdown",
   "id": "4d1c2525-854e-4b9f-a5fe-afe578bdcc7a",
   "metadata": {},
   "source": [
    "Examine characteristics of productions labelled as <code>Serials</code>:"
   ]
  },
  {
   "cell_type": "code",
   "execution_count": 7,
   "id": "648492fe-8e66-49bf-8017-a8d0d7dfbf3e",
   "metadata": {},
   "outputs": [
    {
     "data": {
      "text/html": [
       "<div>\n",
       "<style scoped>\n",
       "    .dataframe tbody tr th:only-of-type {\n",
       "        vertical-align: middle;\n",
       "    }\n",
       "\n",
       "    .dataframe tbody tr th {\n",
       "        vertical-align: top;\n",
       "    }\n",
       "\n",
       "    .dataframe thead th {\n",
       "        text-align: right;\n",
       "    }\n",
       "</style>\n",
       "<table border=\"1\" class=\"dataframe\">\n",
       "  <thead>\n",
       "    <tr style=\"text-align: right;\">\n",
       "      <th></th>\n",
       "      <th>rating</th>\n",
       "      <th>votes</th>\n",
       "      <th>run_time</th>\n",
       "      <th>gross</th>\n",
       "    </tr>\n",
       "  </thead>\n",
       "  <tbody>\n",
       "    <tr>\n",
       "      <th>count</th>\n",
       "      <td>3794.000000</td>\n",
       "      <td>3794.0</td>\n",
       "      <td>2876.0</td>\n",
       "      <td>0.0</td>\n",
       "    </tr>\n",
       "    <tr>\n",
       "      <th>mean</th>\n",
       "      <td>7.415999</td>\n",
       "      <td>10883.643121</td>\n",
       "      <td>39.269471</td>\n",
       "      <td>NaN</td>\n",
       "    </tr>\n",
       "    <tr>\n",
       "      <th>std</th>\n",
       "      <td>1.040138</td>\n",
       "      <td>56113.93993</td>\n",
       "      <td>29.580547</td>\n",
       "      <td>NaN</td>\n",
       "    </tr>\n",
       "    <tr>\n",
       "      <th>min</th>\n",
       "      <td>1.100000</td>\n",
       "      <td>5.0</td>\n",
       "      <td>1.0</td>\n",
       "      <td>NaN</td>\n",
       "    </tr>\n",
       "    <tr>\n",
       "      <th>25%</th>\n",
       "      <td>6.900000</td>\n",
       "      <td>97.0</td>\n",
       "      <td>24.0</td>\n",
       "      <td>NaN</td>\n",
       "    </tr>\n",
       "    <tr>\n",
       "      <th>50%</th>\n",
       "      <td>7.500000</td>\n",
       "      <td>398.5</td>\n",
       "      <td>38.0</td>\n",
       "      <td>NaN</td>\n",
       "    </tr>\n",
       "    <tr>\n",
       "      <th>75%</th>\n",
       "      <td>8.100000</td>\n",
       "      <td>2133.75</td>\n",
       "      <td>47.0</td>\n",
       "      <td>NaN</td>\n",
       "    </tr>\n",
       "    <tr>\n",
       "      <th>max</th>\n",
       "      <td>9.900000</td>\n",
       "      <td>1552311.0</td>\n",
       "      <td>853.0</td>\n",
       "      <td>NaN</td>\n",
       "    </tr>\n",
       "  </tbody>\n",
       "</table>\n",
       "</div>"
      ],
      "text/plain": [
       "            rating         votes   run_time  gross\n",
       "count  3794.000000        3794.0     2876.0    0.0\n",
       "mean      7.415999  10883.643121  39.269471    NaN\n",
       "std       1.040138   56113.93993  29.580547    NaN\n",
       "min       1.100000           5.0        1.0    NaN\n",
       "25%       6.900000          97.0       24.0    NaN\n",
       "50%       7.500000         398.5       38.0    NaN\n",
       "75%       8.100000       2133.75       47.0    NaN\n",
       "max       9.900000     1552311.0      853.0    NaN"
      ]
     },
     "execution_count": 7,
     "metadata": {},
     "output_type": "execute_result"
    }
   ],
   "source": [
    "df_serials.describe()"
   ]
  },
  {
   "cell_type": "markdown",
   "id": "1a2743a6-ccbf-4919-817d-3c2ae291b6c5",
   "metadata": {},
   "source": [
    "Compare to the records in the original data set that are not labelled as <code>Serials</code>:"
   ]
  },
  {
   "cell_type": "code",
   "execution_count": 8,
   "id": "70040972-5e6e-42a4-9c59-f5343a8a47c1",
   "metadata": {},
   "outputs": [
    {
     "data": {
      "text/html": [
       "<div>\n",
       "<style scoped>\n",
       "    .dataframe tbody tr th:only-of-type {\n",
       "        vertical-align: middle;\n",
       "    }\n",
       "\n",
       "    .dataframe tbody tr th {\n",
       "        vertical-align: top;\n",
       "    }\n",
       "\n",
       "    .dataframe thead th {\n",
       "        text-align: right;\n",
       "    }\n",
       "</style>\n",
       "<table border=\"1\" class=\"dataframe\">\n",
       "  <thead>\n",
       "    <tr style=\"text-align: right;\">\n",
       "      <th></th>\n",
       "      <th>rating</th>\n",
       "      <th>votes</th>\n",
       "      <th>run_time</th>\n",
       "      <th>gross</th>\n",
       "    </tr>\n",
       "  </thead>\n",
       "  <tbody>\n",
       "    <tr>\n",
       "      <th>count</th>\n",
       "      <td>4374.000000</td>\n",
       "      <td>4374.0</td>\n",
       "      <td>4132.0</td>\n",
       "      <td>460.000000</td>\n",
       "    </tr>\n",
       "    <tr>\n",
       "      <th>mean</th>\n",
       "      <td>6.489209</td>\n",
       "      <td>18840.200046</td>\n",
       "      <td>89.479913</td>\n",
       "      <td>43.701870</td>\n",
       "    </tr>\n",
       "    <tr>\n",
       "      <th>std</th>\n",
       "      <td>1.200889</td>\n",
       "      <td>80104.371877</td>\n",
       "      <td>46.342847</td>\n",
       "      <td>82.423304</td>\n",
       "    </tr>\n",
       "    <tr>\n",
       "      <th>min</th>\n",
       "      <td>1.800000</td>\n",
       "      <td>5.0</td>\n",
       "      <td>1.0</td>\n",
       "      <td>0.000000</td>\n",
       "    </tr>\n",
       "    <tr>\n",
       "      <th>25%</th>\n",
       "      <td>5.800000</td>\n",
       "      <td>312.0</td>\n",
       "      <td>64.0</td>\n",
       "      <td>0.150000</td>\n",
       "    </tr>\n",
       "    <tr>\n",
       "      <th>50%</th>\n",
       "      <td>6.600000</td>\n",
       "      <td>1381.0</td>\n",
       "      <td>90.0</td>\n",
       "      <td>6.145000</td>\n",
       "    </tr>\n",
       "    <tr>\n",
       "      <th>75%</th>\n",
       "      <td>7.400000</td>\n",
       "      <td>5662.75</td>\n",
       "      <td>105.0</td>\n",
       "      <td>46.947500</td>\n",
       "    </tr>\n",
       "    <tr>\n",
       "      <th>max</th>\n",
       "      <td>9.400000</td>\n",
       "      <td>1713028.0</td>\n",
       "      <td>573.0</td>\n",
       "      <td>504.010000</td>\n",
       "    </tr>\n",
       "  </tbody>\n",
       "</table>\n",
       "</div>"
      ],
      "text/plain": [
       "            rating         votes   run_time       gross\n",
       "count  4374.000000        4374.0     4132.0  460.000000\n",
       "mean      6.489209  18840.200046  89.479913   43.701870\n",
       "std       1.200889  80104.371877  46.342847   82.423304\n",
       "min       1.800000           5.0        1.0    0.000000\n",
       "25%       5.800000         312.0       64.0    0.150000\n",
       "50%       6.600000        1381.0       90.0    6.145000\n",
       "75%       7.400000       5662.75      105.0   46.947500\n",
       "max       9.400000     1713028.0      573.0  504.010000"
      ]
     },
     "execution_count": 8,
     "metadata": {},
     "output_type": "execute_result"
    }
   ],
   "source": [
    "df[~df.index.isin(df_serials.index)].describe()"
   ]
  },
  {
   "cell_type": "markdown",
   "id": "e0e4db23-0195-41bf-84eb-1d3d3538e1f5",
   "metadata": {},
   "source": [
    "Compared to non-serials, serials are rated higher, but with fewer votes. Serials also do not have a gross. This is to be expected because gross (revenue generated by ticket sales) is only relevant to films with theatrical releases. Therefore this column can be dropped from the TV serials dataset without losing any data:"
   ]
  },
  {
   "cell_type": "code",
   "execution_count": 9,
   "id": "b3820d1c-fe36-48f4-ac11-9fc014734302",
   "metadata": {},
   "outputs": [],
   "source": [
    "df_serials = df_serials.drop(\"gross\", axis=1)"
   ]
  },
  {
   "cell_type": "markdown",
   "id": "0f6cb59d-10b0-4edc-a3b5-59cf68831b6c",
   "metadata": {},
   "source": [
    "All rows of the serials dataframe are serials, so <code>production_type</code> is now redundant in this dataset:"
   ]
  },
  {
   "cell_type": "code",
   "execution_count": 10,
   "id": "63fb68f5-c6c9-4727-a135-a80c88baf3e0",
   "metadata": {},
   "outputs": [],
   "source": [
    "df_serials = df_serials.drop(\"production_type\", axis=1)"
   ]
  },
  {
   "cell_type": "markdown",
   "id": "02064baa-53b1-4589-bf35-dd1f6282b223",
   "metadata": {},
   "source": [
    "#### Uniqueness\n",
    "\n",
    "Is title alone enough to uniquely indentify each production or do some productions share the same name? First, count the number of unique titles in the serials dataset:"
   ]
  },
  {
   "cell_type": "code",
   "execution_count": 11,
   "id": "c9ec9ef3-c94a-48a3-86ee-32c91ac71125",
   "metadata": {},
   "outputs": [
    {
     "data": {
      "text/plain": [
       "1763"
      ]
     },
     "execution_count": 11,
     "metadata": {},
     "output_type": "execute_result"
    }
   ],
   "source": [
    "len(df_serials[\"title\"].unique())"
   ]
  },
  {
   "cell_type": "markdown",
   "id": "eb9a520b-d6fa-4a53-8922-25ac5d247ad8",
   "metadata": {},
   "source": [
    "The title is enough to identify 1763 of the 4282 records. Can more titles be identified by also using the start year?"
   ]
  },
  {
   "cell_type": "code",
   "execution_count": 12,
   "id": "f2caec7d-ef4b-4526-bd07-7f560dfa8d02",
   "metadata": {},
   "outputs": [
    {
     "data": {
      "text/plain": [
       "1769"
      ]
     },
     "execution_count": 12,
     "metadata": {},
     "output_type": "execute_result"
    }
   ],
   "source": [
    "len((df_serials[\"title\"] + df_serials[\"start_year\"]).unique())"
   ]
  },
  {
   "cell_type": "markdown",
   "id": "a984626a-23a1-40d9-a711-f652ac467cf3",
   "metadata": {},
   "source": [
    "There are 6 more titles when including the start year. This means that 6 titles share the same name but started in different years. Does including the end year identify even more?"
   ]
  },
  {
   "cell_type": "code",
   "execution_count": 13,
   "id": "fdd6a504-25a7-4b6a-8db5-d48af5b80e29",
   "metadata": {},
   "outputs": [
    {
     "data": {
      "text/plain": [
       "1769"
      ]
     },
     "execution_count": 13,
     "metadata": {},
     "output_type": "execute_result"
    }
   ],
   "source": [
    "len((df_serials[\"title\"] + df_serials[\"start_year\"] + df_serials[\"end_year\"]).unique())"
   ]
  },
  {
   "cell_type": "markdown",
   "id": "6d82008d-a7f7-4227-83aa-3447c1ef9b23",
   "metadata": {},
   "source": [
    "Including the end year did not identify any new results. Because a serial is defined as any entry with an end date (either an actual year or 'ongoing'), its impossible for any of these entries to be missing this information. Therefore there are 1769 unique TV serials in the dataset.\n",
    "<p>\n",
    "What are the titles that share the same name?"
   ]
  },
  {
   "cell_type": "code",
   "execution_count": 14,
   "id": "304a4f20-2604-4eee-a679-3ce6527f0797",
   "metadata": {},
   "outputs": [
    {
     "data": {
      "text/html": [
       "<div>\n",
       "<style scoped>\n",
       "    .dataframe tbody tr th:only-of-type {\n",
       "        vertical-align: middle;\n",
       "    }\n",
       "\n",
       "    .dataframe tbody tr th {\n",
       "        vertical-align: top;\n",
       "    }\n",
       "\n",
       "    .dataframe thead th {\n",
       "        text-align: right;\n",
       "    }\n",
       "</style>\n",
       "<table border=\"1\" class=\"dataframe\">\n",
       "  <thead>\n",
       "    <tr style=\"text-align: right;\">\n",
       "      <th></th>\n",
       "      <th>start_year</th>\n",
       "      <th>end_year</th>\n",
       "    </tr>\n",
       "    <tr>\n",
       "      <th>title</th>\n",
       "      <th></th>\n",
       "      <th></th>\n",
       "    </tr>\n",
       "  </thead>\n",
       "  <tbody>\n",
       "    <tr>\n",
       "      <th>Heartbreak High</th>\n",
       "      <td>2</td>\n",
       "      <td>2</td>\n",
       "    </tr>\n",
       "    <tr>\n",
       "      <th>Kakegurui</th>\n",
       "      <td>2</td>\n",
       "      <td>2</td>\n",
       "    </tr>\n",
       "    <tr>\n",
       "      <th>Kingdom</th>\n",
       "      <td>3</td>\n",
       "      <td>2</td>\n",
       "    </tr>\n",
       "    <tr>\n",
       "      <th>Sexy Beasts</th>\n",
       "      <td>2</td>\n",
       "      <td>1</td>\n",
       "    </tr>\n",
       "    <tr>\n",
       "      <th>Undercover</th>\n",
       "      <td>2</td>\n",
       "      <td>1</td>\n",
       "    </tr>\n",
       "  </tbody>\n",
       "</table>\n",
       "</div>"
      ],
      "text/plain": [
       "                 start_year  end_year\n",
       "title                                \n",
       "Heartbreak High           2         2\n",
       "Kakegurui                 2         2\n",
       "Kingdom                   3         2\n",
       "Sexy Beasts               2         1\n",
       "Undercover                2         1"
      ]
     },
     "execution_count": 14,
     "metadata": {},
     "output_type": "execute_result"
    }
   ],
   "source": [
    "grouped_unique = df_serials.groupby(\"title\").agg({\"start_year\": \"nunique\", \"end_year\": \"nunique\"})\n",
    "grouped_unique[(grouped_unique[\"start_year\"] > 1) | (grouped_unique[\"end_year\"] > 1)]"
   ]
  },
  {
   "cell_type": "markdown",
   "id": "a096b199-b164-4f69-8ccd-5df2d1588655",
   "metadata": {},
   "source": [
    "From the table above, we can see that there are 6 television serials that share the same title (<i>Kingdom</i> is shared by 3 separate serials). Some of these are newer remakes of older titles, others simply share the same name. However, when taking into account <code>start_year</code>, they can all be distinguished. Therefore, it is important to include the year when specifying a title."
   ]
  },
  {
   "cell_type": "markdown",
   "id": "7070c8ab-739a-4703-8bd1-b8bca1452b73",
   "metadata": {},
   "source": [
    "### Episodes\n",
    "If there are only 1769 unique titles, then why do we have 4282 entries in the dataset?\n",
    "\n",
    "First, count how many entries we have for each serial:"
   ]
  },
  {
   "cell_type": "code",
   "execution_count": 15,
   "id": "4bda3144-6015-4fa0-895a-0babe714ad6f",
   "metadata": {},
   "outputs": [],
   "source": [
    "grouped_titles = df_serials.groupby([\"title\", \"start_year\"])"
   ]
  },
  {
   "cell_type": "code",
   "execution_count": 16,
   "id": "cc1d8b4c-375b-449f-a5f1-886861df40cc",
   "metadata": {},
   "outputs": [
    {
     "data": {
      "text/html": [
       "<div>\n",
       "<style scoped>\n",
       "    .dataframe tbody tr th:only-of-type {\n",
       "        vertical-align: middle;\n",
       "    }\n",
       "\n",
       "    .dataframe tbody tr th {\n",
       "        vertical-align: top;\n",
       "    }\n",
       "\n",
       "    .dataframe thead th {\n",
       "        text-align: right;\n",
       "    }\n",
       "</style>\n",
       "<table border=\"1\" class=\"dataframe\">\n",
       "  <thead>\n",
       "    <tr style=\"text-align: right;\">\n",
       "      <th></th>\n",
       "      <th></th>\n",
       "      <th>entries</th>\n",
       "    </tr>\n",
       "    <tr>\n",
       "      <th>title</th>\n",
       "      <th>start_year</th>\n",
       "      <th></th>\n",
       "    </tr>\n",
       "  </thead>\n",
       "  <tbody>\n",
       "    <tr>\n",
       "      <th>Bleach: Burîchi</th>\n",
       "      <th>2004</th>\n",
       "      <td>66</td>\n",
       "    </tr>\n",
       "    <tr>\n",
       "      <th>Avatar: The Last Airbender</th>\n",
       "      <th>2005</th>\n",
       "      <td>62</td>\n",
       "    </tr>\n",
       "    <tr>\n",
       "      <th>La Reina de Indias y el Conquistador</th>\n",
       "      <th>2020</th>\n",
       "      <td>61</td>\n",
       "    </tr>\n",
       "    <tr>\n",
       "      <th>Dexter</th>\n",
       "      <th>2006</th>\n",
       "      <td>49</td>\n",
       "    </tr>\n",
       "    <tr>\n",
       "      <th>The Drew Barrymore Show</th>\n",
       "      <th>2020</th>\n",
       "      <td>45</td>\n",
       "    </tr>\n",
       "    <tr>\n",
       "      <th>Power Rangers Beast Morphers</th>\n",
       "      <th>2019</th>\n",
       "      <td>41</td>\n",
       "    </tr>\n",
       "    <tr>\n",
       "      <th>Johnny Test</th>\n",
       "      <th>2005</th>\n",
       "      <td>40</td>\n",
       "    </tr>\n",
       "    <tr>\n",
       "      <th>She-Ra and the Princesses of Power</th>\n",
       "      <th>2018</th>\n",
       "      <td>39</td>\n",
       "    </tr>\n",
       "    <tr>\n",
       "      <th>The Boondocks</th>\n",
       "      <th>2005</th>\n",
       "      <td>31</td>\n",
       "    </tr>\n",
       "    <tr>\n",
       "      <th>The Circle</th>\n",
       "      <th>2020</th>\n",
       "      <td>26</td>\n",
       "    </tr>\n",
       "  </tbody>\n",
       "</table>\n",
       "</div>"
      ],
      "text/plain": [
       "                                                 entries\n",
       "title                                start_year         \n",
       "Bleach: Burîchi                      2004             66\n",
       "Avatar: The Last Airbender           2005             62\n",
       "La Reina de Indias y el Conquistador 2020             61\n",
       "Dexter                               2006             49\n",
       "The Drew Barrymore Show              2020             45\n",
       "Power Rangers Beast Morphers         2019             41\n",
       "Johnny Test                          2005             40\n",
       "She-Ra and the Princesses of Power   2018             39\n",
       "The Boondocks                        2005             31\n",
       "The Circle                           2020             26"
      ]
     },
     "execution_count": 16,
     "metadata": {},
     "output_type": "execute_result"
    }
   ],
   "source": [
    "grouped_titles.agg(\n",
    "    {\"end_year\": \"count\"}\n",
    "        ).sort_values(\n",
    "            by=\"end_year\", ascending=False\n",
    "                ).rename({\"end_year\": \"entries\"}, axis=1).head(10)"
   ]
  },
  {
   "cell_type": "markdown",
   "id": "c1a6c94c-0bcb-450d-aafa-ef5f83484f17",
   "metadata": {},
   "source": [
    "From the table above, we can see that there are a lot of different entries for some shows each with it's own plot summary or rating.\n",
    "\n",
    "Examine one of these shows to find out why:"
   ]
  },
  {
   "cell_type": "code",
   "execution_count": 17,
   "id": "2fcb9b5c-7ddf-466a-8950-46d7eccc9ffd",
   "metadata": {},
   "outputs": [
    {
     "data": {
      "text/plain": [
       "1110    The adventures of average suburban boy Johnny ...\n",
       "6496    Susan and Mary split Dad's bowling ball in hal...\n",
       "6497    The Ice Pigs hockey team are big losers, so Jo...\n",
       "6498    After Johnny agrees to test out their new Full...\n",
       "6499    Things mysteriously disappear underground and ...\n",
       "Name: summary, dtype: object"
      ]
     },
     "execution_count": 17,
     "metadata": {},
     "output_type": "execute_result"
    }
   ],
   "source": [
    "df_serials[df_serials[\"title\"] == \"Johnny Test\"][\"summary\"].head()"
   ]
  },
  {
   "cell_type": "markdown",
   "id": "621856dc-ff17-4f9d-a6cd-0d933a3acdd0",
   "metadata": {},
   "source": [
    "Consulting the original source of the data, IMDb, we can see that the first entry (1110) refers to the <a href='https://www.imdb.com/title/tt0454349'>Johnny Test</a> show, while the second entry (much later at 6498) refers to <a href='https://www.imdb.com/title/tt0616806/'>an individual episode</a> of Johnny Test. Therefore, it is fair to assume that the first entry refers to the show in general, and the subsequent entries refer to individual episodes of that show.\n",
    "\n",
    "**Note**: not all the episodes are included. For example, on Wikipedia, there are 96 episodes of <i>Dexter</i>, but in this dataset, there are only 48. We are also missing important information such as the name of each episode. This makes it difficult to know which episodes are missing, so this information is of limited use.\n",
    "\n",
    "In the interest of making a dataset about one topic (serials), it makes sense to separate individual episodes from serials in general. Because Pandas defaults to keeping only the first entry, we can capture all the episodes by selecting entries with duplicated title and start year:\n"
   ]
  },
  {
   "cell_type": "code",
   "execution_count": 18,
   "id": "23cbd39c-8a16-45a6-9a9a-6a45af12145b",
   "metadata": {},
   "outputs": [],
   "source": [
    "df_episodes = df_serials[df_serials.duplicated(subset=[\"title\", \"start_year\"])]"
   ]
  },
  {
   "cell_type": "markdown",
   "id": "82e22f88-a05f-4f84-9da3-032ca000d8be",
   "metadata": {},
   "source": [
    "There is a one-to-many relationship between serials and episodes. Each serial may contain multiple episodes, and each episode belongs to a single serial. We can modify the structure of the episode dataframe to be more suitable:"
   ]
  },
  {
   "cell_type": "code",
   "execution_count": 19,
   "id": "4d20059e-5d26-4664-acf0-82c01455925d",
   "metadata": {},
   "outputs": [],
   "source": [
    "# end_year and genre is the same for every episode and is stored on a per serial basis\n",
    "df_episodes = df_episodes.drop([\"end_year\", \"genre\"], axis=1)\n",
    "# rename columns to be specific to an episode\n",
    "df_episodes = df_episodes.rename({\"title\": \"show\", \"start_year\": \"year\", \"plot_summary\": \"episode_description\"}, axis=1)"
   ]
  },
  {
   "cell_type": "markdown",
   "id": "4581ebbf-3676-4d83-9b39-30b041f969ae",
   "metadata": {},
   "source": [
    "With the episode information safely stored in a new dataframe, we can safely drop it from the serial dataframe:"
   ]
  },
  {
   "cell_type": "code",
   "execution_count": 20,
   "id": "e991020a-1cbf-4493-b3e3-23c5c3c064c2",
   "metadata": {},
   "outputs": [],
   "source": [
    "df_serials = df_serials.drop_duplicates(subset=[\"title\", \"start_year\"])"
   ]
  },
  {
   "cell_type": "markdown",
   "id": "75ea49fd-6b58-41b4-8883-7940560052cc",
   "metadata": {},
   "source": [
    "### Modifying serials\n",
    "Now that the serial dataframe only contains serials, re-examine for missing values:"
   ]
  },
  {
   "cell_type": "code",
   "execution_count": 21,
   "id": "f1ffc945-712e-4781-a38e-abb63a82968e",
   "metadata": {},
   "outputs": [
    {
     "data": {
      "text/plain": [
       "title            0\n",
       "start_year       0\n",
       "end_year         0\n",
       "genre            7\n",
       "summary         62\n",
       "rating         150\n",
       "votes          150\n",
       "run_time       509\n",
       "actors          84\n",
       "director      1762\n",
       "dtype: int64"
      ]
     },
     "execution_count": 21,
     "metadata": {},
     "output_type": "execute_result"
    }
   ],
   "source": [
    "df_serials.isna().sum()"
   ]
  },
  {
   "cell_type": "markdown",
   "id": "2e6aeea3-93fa-41fd-8387-395e74cbb3fd",
   "metadata": {},
   "source": [
    "The <code>director</code> column is missing almost all of its values. This makes sense because TV shows tend to have a creator, while each individual episode may have a different a director.\n",
    "\n",
    "We can safely drop this column:"
   ]
  },
  {
   "cell_type": "code",
   "execution_count": 22,
   "id": "ac9b21e7-d758-430a-9af6-2debf6b49c16",
   "metadata": {},
   "outputs": [],
   "source": [
    "df_serials = df_serials.drop(\"director\", axis=1)"
   ]
  },
  {
   "cell_type": "markdown",
   "id": "b7418db6-58b4-4c69-b287-f318e816679a",
   "metadata": {},
   "source": [
    "#### Runtime\n",
    "Next, we can revisit <code>run_time</code>. As shown in Part 1, a lot of values in this column are extremely high. Re-examine the values now that serials have been isolated:"
   ]
  },
  {
   "cell_type": "code",
   "execution_count": 23,
   "id": "5e70bce5-dc90-40f7-83b6-8803239596e2",
   "metadata": {},
   "outputs": [
    {
     "data": {
      "text/plain": [
       "count       1260.0\n",
       "mean      42.79127\n",
       "std      41.972779\n",
       "min            1.0\n",
       "25%           24.0\n",
       "50%           40.0\n",
       "75%           50.0\n",
       "max          853.0\n",
       "Name: run_time, dtype: Float64"
      ]
     },
     "execution_count": 23,
     "metadata": {},
     "output_type": "execute_result"
    }
   ],
   "source": [
    "df_serials[\"run_time\"].describe()"
   ]
  },
  {
   "cell_type": "markdown",
   "id": "a70bd928-c5db-47a2-bc13-a8a3c6837398",
   "metadata": {},
   "source": [
    "This column now looks even more skewed than it did previously. One standard deviation is about the same as the mean, 25% of the data is above 50 minutes and the maximum value is 853 minutes. As stated before, the extreme values are likely measuring the total run time of a serial across all of its episodes rather than the average run time of a single episode.\n",
    "\n",
    "Although possible, it seems unlikely that many serials would have episodes that exceed the 90 minute mark. We will take this as the upper limit:"
   ]
  },
  {
   "cell_type": "code",
   "execution_count": 24,
   "id": "66956bfd-69d8-4b2b-8246-8400771cfdff",
   "metadata": {},
   "outputs": [],
   "source": [
    "df_serials.loc[df_serials[\"run_time\"] > 90, \"run_time\"] = np.nan"
   ]
  },
  {
   "cell_type": "markdown",
   "id": "44a38850-a203-448b-af91-dbc15bb83538",
   "metadata": {},
   "source": [
    "Furthermore, missing run time values can be imputed by calculating the average run time of episodes from the episodes dataframe:"
   ]
  },
  {
   "cell_type": "code",
   "execution_count": 26,
   "id": "58fe312a-51e6-4a98-b4c0-c51ad0fd36bb",
   "metadata": {},
   "outputs": [],
   "source": [
    "episode_runtime = df_episodes.groupby([\"show\", \"year\"]).agg({\"run_time\": \"mean\"})\n",
    "episode_runtime = episode_runtime.reset_index()\n",
    "episode_runtime[\"run_time\"] = pd.to_numeric(episode_runtime[\"run_time\"], errors=\"coerce\").astype(\"Int64\")"
   ]
  },
  {
   "cell_type": "markdown",
   "id": "ab276a8d-3470-4176-97f3-c687a3638244",
   "metadata": {},
   "source": [
    "This returns the following dataframe:"
   ]
  },
  {
   "cell_type": "code",
   "execution_count": 27,
   "id": "22e422ff-d36b-4d27-994f-39b24bd7c154",
   "metadata": {},
   "outputs": [
    {
     "data": {
      "text/html": [
       "<div>\n",
       "<style scoped>\n",
       "    .dataframe tbody tr th:only-of-type {\n",
       "        vertical-align: middle;\n",
       "    }\n",
       "\n",
       "    .dataframe tbody tr th {\n",
       "        vertical-align: top;\n",
       "    }\n",
       "\n",
       "    .dataframe thead th {\n",
       "        text-align: right;\n",
       "    }\n",
       "</style>\n",
       "<table border=\"1\" class=\"dataframe\">\n",
       "  <thead>\n",
       "    <tr style=\"text-align: right;\">\n",
       "      <th></th>\n",
       "      <th>show</th>\n",
       "      <th>year</th>\n",
       "      <th>run_time</th>\n",
       "    </tr>\n",
       "  </thead>\n",
       "  <tbody>\n",
       "    <tr>\n",
       "      <th>0</th>\n",
       "      <td>13 Reasons Why</td>\n",
       "      <td>2017</td>\n",
       "      <td>62</td>\n",
       "    </tr>\n",
       "    <tr>\n",
       "      <th>1</th>\n",
       "      <td>1899</td>\n",
       "      <td>2022</td>\n",
       "      <td>&lt;NA&gt;</td>\n",
       "    </tr>\n",
       "    <tr>\n",
       "      <th>2</th>\n",
       "      <td>3Below: Tales of Arcadia</td>\n",
       "      <td>2018</td>\n",
       "      <td>20</td>\n",
       "    </tr>\n",
       "    <tr>\n",
       "      <th>3</th>\n",
       "      <td>50M2</td>\n",
       "      <td>2021</td>\n",
       "      <td>49</td>\n",
       "    </tr>\n",
       "    <tr>\n",
       "      <th>4</th>\n",
       "      <td>7Seeds</td>\n",
       "      <td>2019</td>\n",
       "      <td>24</td>\n",
       "    </tr>\n",
       "  </tbody>\n",
       "</table>\n",
       "</div>"
      ],
      "text/plain": [
       "                       show  year  run_time\n",
       "0            13 Reasons Why  2017        62\n",
       "1                      1899  2022      <NA>\n",
       "2  3Below: Tales of Arcadia  2018        20\n",
       "3                      50M2  2021        49\n",
       "4                    7Seeds  2019        24"
      ]
     },
     "execution_count": 27,
     "metadata": {},
     "output_type": "execute_result"
    }
   ],
   "source": [
    "episode_runtime.head()"
   ]
  },
  {
   "cell_type": "markdown",
   "id": "c61aee8b-0d25-43fa-a535-1e67ab929650",
   "metadata": {},
   "source": [
    "We can merge this newly created data frame to the main serials data frame. This will ensure that the values and entries align correctly."
   ]
  },
  {
   "cell_type": "code",
   "execution_count": 28,
   "id": "21c6b403-8c54-459a-a3e7-fd9d80aafd61",
   "metadata": {},
   "outputs": [],
   "source": [
    "df_serials = pd.merge(df_serials, episode_runtime, how=\"left\", left_on=[\"title\", \"start_year\"], right_on=[\"show\", \"year\"])"
   ]
  },
  {
   "cell_type": "markdown",
   "id": "4b688c11-8d52-46a5-97fc-849741542090",
   "metadata": {},
   "source": [
    "Use the calculated average run time for episodes to fill in missing values in the serial data frame:"
   ]
  },
  {
   "cell_type": "code",
   "execution_count": 29,
   "id": "dba82cc3-5ee4-480a-9910-2b52f232bdad",
   "metadata": {},
   "outputs": [],
   "source": [
    "df_serials[\"run_time_x\"] = df_serials[\"run_time_x\"].fillna(df_serials[\"run_time_y\"])\n"
   ]
  },
  {
   "cell_type": "markdown",
   "id": "56f4c7ce-cfbc-4de3-bcbc-26e19304266a",
   "metadata": {},
   "source": [
    "Clean up the dataset by removing the newly added columns:"
   ]
  },
  {
   "cell_type": "code",
   "execution_count": 30,
   "id": "e558ad49-7d9a-475a-8778-4df9ecec0724",
   "metadata": {},
   "outputs": [],
   "source": [
    "df_serials = df_serials.drop([\"run_time_y\", \"year\", \"show\"], axis=1)\n",
    "df_serials = df_serials.rename({\"run_time_x\": \"run_time\"}, axis=1)"
   ]
  },
  {
   "cell_type": "markdown",
   "id": "a0f0adbc-1cb8-4731-bdf2-a46a328ca5a8",
   "metadata": {},
   "source": [
    "After the changes, check <code>run_time</code> again:"
   ]
  },
  {
   "cell_type": "code",
   "execution_count": 31,
   "id": "872f7db8-c9ca-48c0-a9d7-3a6c9daa3cac",
   "metadata": {},
   "outputs": [
    {
     "data": {
      "text/plain": [
       "count       1262.0\n",
       "mean     38.546751\n",
       "std      16.591054\n",
       "min            1.0\n",
       "25%           24.0\n",
       "50%           40.0\n",
       "75%           50.0\n",
       "max           90.0\n",
       "Name: run_time, dtype: Float64"
      ]
     },
     "execution_count": 31,
     "metadata": {},
     "output_type": "execute_result"
    }
   ],
   "source": [
    "df_serials[\"run_time\"].describe()"
   ]
  },
  {
   "cell_type": "code",
   "execution_count": 32,
   "id": "e3e6c49c-72de-4f91-a4e3-bc67c28d4166",
   "metadata": {},
   "outputs": [
    {
     "data": {
      "text/plain": [
       "array([[<Axes: title={'center': 'run_time'}>]], dtype=object)"
      ]
     },
     "execution_count": 32,
     "metadata": {},
     "output_type": "execute_result"
    },
    {
     "data": {
      "image/png": "[encoded data removed]",
      "text/plain": [
       "<Figure size 640x480 with 1 Axes>"
      ]
     },
     "metadata": {},
     "output_type": "display_data"
    }
   ],
   "source": [
    "df_serials.hist(column=\"run_time\", color=\"black\", grid=False)"
   ]
  },
  {
   "cell_type": "markdown",
   "id": "2bebaae2-8d2d-4f11-9c0b-a696aa4b9c07",
   "metadata": {},
   "source": [
    "The distribution of the data is less skewed and is more reminiscent of a normal curve. However, it is possible that some genuine run times have been removed. This will be addressed in the next part."
   ]
  },
  {
   "cell_type": "markdown",
   "id": "bedee2c2-228e-42f1-99be-317661775ae4",
   "metadata": {},
   "source": [
    "### Subsetting summary\n",
    "Check the final data frame for this part:"
   ]
  },
  {
   "cell_type": "code",
   "execution_count": 33,
   "id": "56c31eb0-2558-42d4-b377-a0d841b86149",
   "metadata": {},
   "outputs": [
    {
     "data": {
      "text/html": [
       "<div>\n",
       "<style scoped>\n",
       "    .dataframe tbody tr th:only-of-type {\n",
       "        vertical-align: middle;\n",
       "    }\n",
       "\n",
       "    .dataframe tbody tr th {\n",
       "        vertical-align: top;\n",
       "    }\n",
       "\n",
       "    .dataframe thead th {\n",
       "        text-align: right;\n",
       "    }\n",
       "</style>\n",
       "<table border=\"1\" class=\"dataframe\">\n",
       "  <thead>\n",
       "    <tr style=\"text-align: right;\">\n",
       "      <th></th>\n",
       "      <th>title</th>\n",
       "      <th>start_year</th>\n",
       "      <th>end_year</th>\n",
       "      <th>genre</th>\n",
       "      <th>summary</th>\n",
       "      <th>rating</th>\n",
       "      <th>votes</th>\n",
       "      <th>run_time</th>\n",
       "      <th>actors</th>\n",
       "    </tr>\n",
       "  </thead>\n",
       "  <tbody>\n",
       "    <tr>\n",
       "      <th>0</th>\n",
       "      <td>Masters of the Universe: Revelation</td>\n",
       "      <td>2021</td>\n",
       "      <td>Ongoing</td>\n",
       "      <td>Animation, Action, Adventure</td>\n",
       "      <td>The war for Eternia begins again in what may b...</td>\n",
       "      <td>5.0</td>\n",
       "      <td>17870</td>\n",
       "      <td>25</td>\n",
       "      <td>Chris Wood, Sarah Michelle Gellar, Lena Headey...</td>\n",
       "    </tr>\n",
       "    <tr>\n",
       "      <th>1</th>\n",
       "      <td>The Walking Dead</td>\n",
       "      <td>2010</td>\n",
       "      <td>2022</td>\n",
       "      <td>Drama, Horror, Thriller</td>\n",
       "      <td>Sheriff Deputy Rick Grimes wakes up from a com...</td>\n",
       "      <td>8.2</td>\n",
       "      <td>885805</td>\n",
       "      <td>44</td>\n",
       "      <td>Andrew Lincoln, Norman Reedus, Melissa McBride...</td>\n",
       "    </tr>\n",
       "    <tr>\n",
       "      <th>2</th>\n",
       "      <td>Rick and Morty</td>\n",
       "      <td>2013</td>\n",
       "      <td>Ongoing</td>\n",
       "      <td>Animation, Adventure, Comedy</td>\n",
       "      <td>An animated series that follows the exploits o...</td>\n",
       "      <td>9.2</td>\n",
       "      <td>414849</td>\n",
       "      <td>23</td>\n",
       "      <td>Justin Roiland, Chris Parnell, Spencer Grammer...</td>\n",
       "    </tr>\n",
       "    <tr>\n",
       "      <th>3</th>\n",
       "      <td>Outer Banks</td>\n",
       "      <td>2020</td>\n",
       "      <td>Ongoing</td>\n",
       "      <td>Action, Crime, Drama</td>\n",
       "      <td>A group of teenagers from the wrong side of th...</td>\n",
       "      <td>7.6</td>\n",
       "      <td>25858</td>\n",
       "      <td>50</td>\n",
       "      <td>Chase Stokes, Madelyn Cline, Madison Bailey, J...</td>\n",
       "    </tr>\n",
       "    <tr>\n",
       "      <th>4</th>\n",
       "      <td>Dexter</td>\n",
       "      <td>2006</td>\n",
       "      <td>2013</td>\n",
       "      <td>Crime, Drama, Mystery</td>\n",
       "      <td>By day, mild-mannered Dexter is a blood-spatte...</td>\n",
       "      <td>8.6</td>\n",
       "      <td>665387</td>\n",
       "      <td>53</td>\n",
       "      <td>Michael C. Hall, Jennifer Carpenter, David Zay...</td>\n",
       "    </tr>\n",
       "  </tbody>\n",
       "</table>\n",
       "</div>"
      ],
      "text/plain": [
       "                                 title start_year end_year  \\\n",
       "0  Masters of the Universe: Revelation       2021  Ongoing   \n",
       "1                     The Walking Dead       2010     2022   \n",
       "2                       Rick and Morty       2013  Ongoing   \n",
       "3                          Outer Banks       2020  Ongoing   \n",
       "4                               Dexter       2006     2013   \n",
       "\n",
       "                          genre  \\\n",
       "0  Animation, Action, Adventure   \n",
       "1       Drama, Horror, Thriller   \n",
       "2  Animation, Adventure, Comedy   \n",
       "3          Action, Crime, Drama   \n",
       "4         Crime, Drama, Mystery   \n",
       "\n",
       "                                             summary  rating   votes  \\\n",
       "0  The war for Eternia begins again in what may b...     5.0   17870   \n",
       "1  Sheriff Deputy Rick Grimes wakes up from a com...     8.2  885805   \n",
       "2  An animated series that follows the exploits o...     9.2  414849   \n",
       "3  A group of teenagers from the wrong side of th...     7.6   25858   \n",
       "4  By day, mild-mannered Dexter is a blood-spatte...     8.6  665387   \n",
       "\n",
       "   run_time                                             actors  \n",
       "0        25  Chris Wood, Sarah Michelle Gellar, Lena Headey...  \n",
       "1        44  Andrew Lincoln, Norman Reedus, Melissa McBride...  \n",
       "2        23  Justin Roiland, Chris Parnell, Spencer Grammer...  \n",
       "3        50  Chase Stokes, Madelyn Cline, Madison Bailey, J...  \n",
       "4        53  Michael C. Hall, Jennifer Carpenter, David Zay...  "
      ]
     },
     "execution_count": 33,
     "metadata": {},
     "output_type": "execute_result"
    }
   ],
   "source": [
    "df_serials.head()"
   ]
  },
  {
   "cell_type": "markdown",
   "id": "a3dadbb3-2933-409e-aafb-23625f7440a9",
   "metadata": {},
   "source": [
    "In this part the following changes were made:\n",
    "<ul>\n",
    "    <li>The scope of the project was narrowed to TV serials.</li>\n",
    "    <li>Each record could be uniquely identified with the title and <code>start_year</code>.</li>\n",
    "    <li>Episodes were separated into a new data frame.</li>\n",
    "    <li>The column <code>director</code> was removed.</li>\n",
    "    <li>Outliers were removed from the <code>run_time</code> column.</li>\n",
    "</ul>"
   ]
  },
  {
   "cell_type": "markdown",
   "id": "198b9dd0-40f3-459f-99c5-8d44026d6a39",
   "metadata": {},
   "source": [
    "Export <code>df_serials</code> data frame as <code>stage3_serials.csv</code> which will be used in the next stage of the project."
   ]
  },
  {
   "cell_type": "code",
   "execution_count": 35,
   "id": "a83cb846-a934-4287-b30b-df9c9283bed0",
   "metadata": {},
   "outputs": [],
   "source": [
    "df_serials.to_csv(\"../data/interim/stage3_serials.csv\", index=False)"
   ]
  },
  {
   "cell_type": "markdown",
   "id": "4e8a7d93-ea87-4ebb-96f4-9b234fafe1d4",
   "metadata": {},
   "source": [
    "Additionally, we can export the episodes data frame. Although this dataset is missing key information, some of the data, such as the summaries, may be useful for a future project."
   ]
  },
  {
   "cell_type": "code",
   "execution_count": 34,
   "id": "ba5f98ad-03fb-4c80-9831-c7e36deae773",
   "metadata": {},
   "outputs": [],
   "source": [
    "df_episodes = df_episodes.sort_values(by=[\"show\", \"year\"])\n",
    "df_episodes.to_csv(\"../data/final/episodes_data.csv\", index=False)"
   ]
  },
  {
   "cell_type": "markdown",
   "id": "76a3d1d9-ee40-4da2-b25c-3992748314c3",
   "metadata": {},
   "source": [
    "### Navigation\n",
    "**Previous book**: <a href='./02_column_refactor.ipynb'>[Column Refactoring]</a>\n",
    "\n",
    "**Next book**: <a href='./04_data_enrichment.ipynb'>[ETL & Data Enrichment]</a>"
   ]
  }
 ],
 "metadata": {
  "kernelspec": {
   "display_name": "Python 3 (ipykernel)",
   "language": "python",
   "name": "python3"
  },
  "language_info": {
   "codemirror_mode": {
    "name": "ipython",
    "version": 3
   },
   "file_extension": ".py",
   "mimetype": "text/x-python",
   "name": "python",
   "nbconvert_exporter": "python",
   "pygments_lexer": "ipython3",
   "version": "3.10.11"
  }
 },
 "nbformat": 4,
 "nbformat_minor": 5
}
