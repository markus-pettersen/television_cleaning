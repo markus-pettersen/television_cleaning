{
 "cells": [
  {
   "cell_type": "markdown",
   "id": "ff114f80-f5f5-42d3-b090-30696797a4e2",
   "metadata": {},
   "source": [
    "**Previous book**: <a href='./04_data_enrichment.ipynb'>[ETL & Data Enrichment]</a>"
   ]
  },
  {
   "cell_type": "markdown",
   "id": "d1c18298-d45b-424c-8913-128525cb6362",
   "metadata": {},
   "source": [
    "## Part 5: Normalisation\n",
    "\n",
    "**Note**: This notebook expects <code>stage4_enriched_serial_data.csv</code> from the <code>04_data_enrichment.ipynb</code> notebook!\n",
    "\n",
    "Now that the dataset is enhanced, the next part is to store it in a database. The first step in this process is to use Pandas to normalise the data by splitting it across different tables. We will also improve efficiency with vertical partitioning. Next, we will use SQLAlchemy to create a SQLite database and load in the newly normalised tables.\n",
    "\n",
    "**Input**: <code>/data/interim/stage4_enriched_serial_data.csv</code>\n",
    "\n",
    "**Output**: <code>/data/final/tv_database.db</code>"
   ]
  },
  {
   "cell_type": "code",
   "execution_count": 1,
   "id": "5a749e39-2192-4487-be2d-da50a37d8f72",
   "metadata": {},
   "outputs": [],
   "source": [
    "import numpy as np\n",
    "import pandas as pd\n",
    "from sqlalchemy import create_engine, Column, Integer, String, Float, ForeignKey\n",
    "from sqlalchemy.orm import declarative_base, relationship\n",
    "\n",
    "shows = pd.read_csv(\"../data/interim/stage4_enriched_serial_data.csv\",\n",
    "                 dtype={\"start_year\": \"str\", \"end_year\": \"str\", \"votes\": \"Int64\",\"run_time\": \"Int64\"})"
   ]
  },
  {
   "cell_type": "markdown",
   "id": "6fea157d-b7d2-45c4-a8fa-f1bd550818df",
   "metadata": {},
   "source": [
    "<b>Database Normalisation</b> is the process of organising a database to optimise efficiency by reducing data redundancy. Normalisation also helps prevent potential anomalies or inconsistancies that could arise in data insertion, update, or deletion operations.\n",
    "\n",
    "There are different degrees of normalisation, known as <b>Normal Forms</b>. In this project, we will aim for <b>Third Normal Form</b> (3NF) which is typically enough to avoid the most common data anomalies and ensure a well-structure relational schema.\n",
    "\n",
    "The aim for this part of the project is to transform this table:\n"
   ]
  },
  {
   "cell_type": "code",
   "execution_count": 2,
   "id": "25816b82-327c-469f-9065-33d17f8d6068",
   "metadata": {},
   "outputs": [
    {
     "data": {
      "text/html": [
       "<div>\n",
       "<style scoped>\n",
       "    .dataframe tbody tr th:only-of-type {\n",
       "        vertical-align: middle;\n",
       "    }\n",
       "\n",
       "    .dataframe tbody tr th {\n",
       "        vertical-align: top;\n",
       "    }\n",
       "\n",
       "    .dataframe thead th {\n",
       "        text-align: right;\n",
       "    }\n",
       "</style>\n",
       "<table border=\"1\" class=\"dataframe\">\n",
       "  <thead>\n",
       "    <tr style=\"text-align: right;\">\n",
       "      <th></th>\n",
       "      <th>title</th>\n",
       "      <th>start_year</th>\n",
       "      <th>end_year</th>\n",
       "      <th>genre</th>\n",
       "      <th>summary_tvmaze</th>\n",
       "      <th>summary_imdb</th>\n",
       "      <th>rating_tvmaze</th>\n",
       "      <th>rating_imdb</th>\n",
       "      <th>votes</th>\n",
       "      <th>run_time</th>\n",
       "      <th>language</th>\n",
       "      <th>actors</th>\n",
       "      <th>status</th>\n",
       "    </tr>\n",
       "  </thead>\n",
       "  <tbody>\n",
       "    <tr>\n",
       "      <th>0</th>\n",
       "      <td>Masters of the Universe: Revelation</td>\n",
       "      <td>2021</td>\n",
       "      <td>2021</td>\n",
       "      <td>Animation, Action, Adventure</td>\n",
       "      <td>A radical return to Eternia, Masters of the Un...</td>\n",
       "      <td>The war for Eternia begins again in what may b...</td>\n",
       "      <td>6.6</td>\n",
       "      <td>5.0</td>\n",
       "      <td>17870</td>\n",
       "      <td>25</td>\n",
       "      <td>English</td>\n",
       "      <td>Chris Wood, Sarah Michelle Gellar, Lena Headey...</td>\n",
       "      <td>Ended</td>\n",
       "    </tr>\n",
       "    <tr>\n",
       "      <th>1</th>\n",
       "      <td>The Walking Dead</td>\n",
       "      <td>2010</td>\n",
       "      <td>2022</td>\n",
       "      <td>Drama, Horror, Thriller</td>\n",
       "      <td>The Walking Dead tells the story of the months...</td>\n",
       "      <td>Sheriff Deputy Rick Grimes wakes up from a com...</td>\n",
       "      <td>7.9</td>\n",
       "      <td>8.2</td>\n",
       "      <td>885805</td>\n",
       "      <td>44</td>\n",
       "      <td>English</td>\n",
       "      <td>Andrew Lincoln, Norman Reedus, Melissa McBride...</td>\n",
       "      <td>Ended</td>\n",
       "    </tr>\n",
       "    <tr>\n",
       "      <th>2</th>\n",
       "      <td>Rick and Morty</td>\n",
       "      <td>2013</td>\n",
       "      <td>NaN</td>\n",
       "      <td>Animation, Adventure, Comedy</td>\n",
       "      <td>Rick is a mentally gifted, but sociopathic and...</td>\n",
       "      <td>An animated series that follows the exploits o...</td>\n",
       "      <td>8.8</td>\n",
       "      <td>9.2</td>\n",
       "      <td>414849</td>\n",
       "      <td>23</td>\n",
       "      <td>English</td>\n",
       "      <td>Justin Roiland, Chris Parnell, Spencer Grammer...</td>\n",
       "      <td>Running</td>\n",
       "    </tr>\n",
       "  </tbody>\n",
       "</table>\n",
       "</div>"
      ],
      "text/plain": [
       "                                 title start_year end_year  \\\n",
       "0  Masters of the Universe: Revelation       2021     2021   \n",
       "1                     The Walking Dead       2010     2022   \n",
       "2                       Rick and Morty       2013      NaN   \n",
       "\n",
       "                          genre  \\\n",
       "0  Animation, Action, Adventure   \n",
       "1       Drama, Horror, Thriller   \n",
       "2  Animation, Adventure, Comedy   \n",
       "\n",
       "                                      summary_tvmaze  \\\n",
       "0  A radical return to Eternia, Masters of the Un...   \n",
       "1  The Walking Dead tells the story of the months...   \n",
       "2  Rick is a mentally gifted, but sociopathic and...   \n",
       "\n",
       "                                        summary_imdb  rating_tvmaze  \\\n",
       "0  The war for Eternia begins again in what may b...            6.6   \n",
       "1  Sheriff Deputy Rick Grimes wakes up from a com...            7.9   \n",
       "2  An animated series that follows the exploits o...            8.8   \n",
       "\n",
       "   rating_imdb   votes  run_time language  \\\n",
       "0          5.0   17870        25  English   \n",
       "1          8.2  885805        44  English   \n",
       "2          9.2  414849        23  English   \n",
       "\n",
       "                                              actors   status  \n",
       "0  Chris Wood, Sarah Michelle Gellar, Lena Headey...    Ended  \n",
       "1  Andrew Lincoln, Norman Reedus, Melissa McBride...    Ended  \n",
       "2  Justin Roiland, Chris Parnell, Spencer Grammer...  Running  "
      ]
     },
     "execution_count": 2,
     "metadata": {},
     "output_type": "execute_result"
    }
   ],
   "source": [
    "shows.head(3)"
   ]
  },
  {
   "cell_type": "markdown",
   "id": "ed2474bc-b01f-4d72-9ae1-3def57468959",
   "metadata": {
    "editable": true,
    "slideshow": {
     "slide_type": ""
    },
    "tags": []
   },
   "source": [
    "To match this database schema which is in 3NF:\n",
    "<center><img src=\"../television_schema.svg\"></center>\n",
    "<center><i>Schema created with <a href=\"https://dbdiagram.io/\">dbdiagram.io</a></i></center>"
   ]
  },
  {
   "cell_type": "markdown",
   "id": "2089daf9-9784-4b08-a867-87da2b89238c",
   "metadata": {},
   "source": [
    "### First Normal Form\n",
    "\n",
    "For a table to be in <b>First Normal Form</b> (1NF), each row must be uniquely identifiable and each cell must only contain atomic values (no lists, or arrays).\n",
    "\n",
    "Confirm there are no duplicate rows in the original table:"
   ]
  },
  {
   "cell_type": "code",
   "execution_count": 3,
   "id": "0af24eae-a266-4f4d-918c-1734b5a0c799",
   "metadata": {},
   "outputs": [
    {
     "data": {
      "text/plain": [
       "0"
      ]
     },
     "execution_count": 3,
     "metadata": {},
     "output_type": "execute_result"
    }
   ],
   "source": [
    "len(shows[shows.duplicated()])"
   ]
  },
  {
   "cell_type": "markdown",
   "id": "b4ae9b96-0964-4b4d-9b3f-468b9d0c04ea",
   "metadata": {},
   "source": [
    "#### Add id\n",
    "Before continuing, it is necessary to add an <code>id</code> column to the <code>shows</code> table. This will serve as the <b>surrogate primary key</b> (an artificial key added to the table, not derived from the data) which can uniquely identify every record in the table.\n",
    "\n",
    "It can be created by simply adding 1 to the index of the dataframe (zero-indexed):"
   ]
  },
  {
   "cell_type": "code",
   "execution_count": 4,
   "id": "66a26c9b-210c-4a90-b3b6-603039e31e45",
   "metadata": {},
   "outputs": [],
   "source": [
    "shows[\"id\"] = shows.index + 1"
   ]
  },
  {
   "cell_type": "markdown",
   "id": "9274090f-f350-4fa7-ba77-fe4ecd472383",
   "metadata": {},
   "source": [
    "The other requirement for 1NF is to have atomic values. The columns <code>genre</code> and <code>actors</code> contain a string of multiple items and are therefore unsuitable. We will create new tables called <code>genres</code> and <code>actors</code> for all the values in these columns."
   ]
  },
  {
   "cell_type": "markdown",
   "id": "cec40363-be64-4363-a3d0-2be1a648e587",
   "metadata": {},
   "source": [
    "#### Functions\n",
    "Because there are two columns in the same format, writing a function is more efficient.\n",
    "\n",
    "The function <code>explode_column</code> does the following:\n",
    "<ol>\n",
    "    <li>Copies the orignal show dataframe</li>\n",
    "    <li>Converts a given column into a Python list object</li>\n",
    "    <li>Expands the list on that column</li>\n",
    "    <li>Drops any rows that are missing values in the given column</li>\n",
    "</ol>\n",
    "\n",
    "This will fulfil the atomic value condition, but the <code>id</code> will be duplicated."
   ]
  },
  {
   "cell_type": "code",
   "execution_count": 5,
   "id": "5ff28037-f625-4573-932c-69f11ec51335",
   "metadata": {},
   "outputs": [],
   "source": [
    "def explode_column(column):\n",
    "    exploded_df = shows.copy()\n",
    "    exploded_df[column] = exploded_df[column].str.split(\", \")\n",
    "    exploded_df = exploded_df.explode(column)\n",
    "    exploded_df = exploded_df.dropna(subset=[column])\n",
    "    return exploded_df\n",
    "    "
   ]
  },
  {
   "cell_type": "markdown",
   "id": "6865d316-c533-4c21-924c-049aec5890f6",
   "metadata": {},
   "source": [
    "The function <code>create_many_table</code> creates a new entity table containing all values in a given column and an index. This function builds on the previous function.\n",
    "\n",
    "Next:\n",
    "<ol>\n",
    "    <li>Subsets the specified column</li>\n",
    "    <li>Drops duplicates in that column giving a list of unique values</li>\n",
    "    <li>Resets the Pandas index</li>\n",
    "    <li>Adds an <code>id</code> column based on the Pandas index</li>\n",
    "</ol>"
   ]
  },
  {
   "cell_type": "code",
   "execution_count": 6,
   "id": "980ad05e-cb7e-400d-b04c-7d24be03e0b7",
   "metadata": {},
   "outputs": [],
   "source": [
    "def create_many_table(column):\n",
    "    new_table = explode_column(column)\n",
    "    new_table = new_table[[column]].drop_duplicates().reset_index(drop=True)\n",
    "    new_table[\"id\"] = new_table.index + 1\n",
    "    return new_table[[\"id\", column]]\n",
    "    "
   ]
  },
  {
   "cell_type": "markdown",
   "id": "7ce16a54-f77b-4ec8-85c5-3eb2fa9d4486",
   "metadata": {},
   "source": [
    "### genres table\n",
    "The <code>genres</code> table can be created using the <code>create_many_table</code> function. This creates a table containing all the unique genres in the dataset each with its own unique ID."
   ]
  },
  {
   "cell_type": "code",
   "execution_count": 7,
   "id": "1768fcf7-4cb3-4aad-9156-4865f82fe0b0",
   "metadata": {},
   "outputs": [],
   "source": [
    "genres = create_many_table(\"genre\")"
   ]
  },
  {
   "cell_type": "markdown",
   "id": "f17caca1-c439-4055-bde0-39d5772d1f36",
   "metadata": {},
   "source": [
    "Checking the structure:"
   ]
  },
  {
   "cell_type": "code",
   "execution_count": 8,
   "id": "a7e05f2e-2134-488d-a62c-ac6efde01531",
   "metadata": {},
   "outputs": [
    {
     "data": {
      "text/html": [
       "<div>\n",
       "<style scoped>\n",
       "    .dataframe tbody tr th:only-of-type {\n",
       "        vertical-align: middle;\n",
       "    }\n",
       "\n",
       "    .dataframe tbody tr th {\n",
       "        vertical-align: top;\n",
       "    }\n",
       "\n",
       "    .dataframe thead th {\n",
       "        text-align: right;\n",
       "    }\n",
       "</style>\n",
       "<table border=\"1\" class=\"dataframe\">\n",
       "  <thead>\n",
       "    <tr style=\"text-align: right;\">\n",
       "      <th></th>\n",
       "      <th>id</th>\n",
       "      <th>genre</th>\n",
       "    </tr>\n",
       "  </thead>\n",
       "  <tbody>\n",
       "    <tr>\n",
       "      <th>0</th>\n",
       "      <td>1</td>\n",
       "      <td>Animation</td>\n",
       "    </tr>\n",
       "    <tr>\n",
       "      <th>1</th>\n",
       "      <td>2</td>\n",
       "      <td>Action</td>\n",
       "    </tr>\n",
       "    <tr>\n",
       "      <th>2</th>\n",
       "      <td>3</td>\n",
       "      <td>Adventure</td>\n",
       "    </tr>\n",
       "    <tr>\n",
       "      <th>3</th>\n",
       "      <td>4</td>\n",
       "      <td>Drama</td>\n",
       "    </tr>\n",
       "    <tr>\n",
       "      <th>4</th>\n",
       "      <td>5</td>\n",
       "      <td>Horror</td>\n",
       "    </tr>\n",
       "  </tbody>\n",
       "</table>\n",
       "</div>"
      ],
      "text/plain": [
       "   id      genre\n",
       "0   1  Animation\n",
       "1   2     Action\n",
       "2   3  Adventure\n",
       "3   4      Drama\n",
       "4   5     Horror"
      ]
     },
     "execution_count": 8,
     "metadata": {},
     "output_type": "execute_result"
    }
   ],
   "source": [
    "genres.head()"
   ]
  },
  {
   "cell_type": "markdown",
   "id": "849c46d6-1922-41f3-b7c3-9c10ee04294e",
   "metadata": {},
   "source": [
    "### shows_genres\n",
    "The relationship between the tables <code>shows</code> and <code>genres</code> is many-to-many. Each show can have multiple genres and each genre can apply to multiple shows. To relate these two entities, we need a <b>junction table</b>, a table that contains the primary keys from each joined table.\n",
    "\n",
    "The first step is to explode the original dataframe by the <code>genre</code> column:"
   ]
  },
  {
   "cell_type": "code",
   "execution_count": 9,
   "id": "2204e7a5-8e8c-41ad-acd4-d06b2aa96327",
   "metadata": {},
   "outputs": [],
   "source": [
    "exploded_genre = explode_column(\"genre\")"
   ]
  },
  {
   "cell_type": "markdown",
   "id": "efc57cfb-b0b9-4e56-872b-c6c3c9233050",
   "metadata": {},
   "source": [
    "Subset the relevant columns from the exploded <code>shows</code> table and rename them to match the schema:"
   ]
  },
  {
   "cell_type": "code",
   "execution_count": 10,
   "id": "29787c91-e80b-4d6b-b1fd-d37a28618e64",
   "metadata": {},
   "outputs": [],
   "source": [
    "shows_genres = exploded_genre[[\"id\", \"title\", \"genre\"]].copy().reset_index(drop=True)\n",
    "shows_genres = shows_genres.rename({\"id\": \"show_id\"}, axis=1)"
   ]
  },
  {
   "cell_type": "markdown",
   "id": "db29ad9f-199c-41fd-89f5-acf0e4c77375",
   "metadata": {},
   "source": [
    "Merge <code>genres</code> to the new table using the <code>genres</code> column:"
   ]
  },
  {
   "cell_type": "code",
   "execution_count": 11,
   "id": "7573bc7c-16c7-4fb8-8925-fd8bc5a30865",
   "metadata": {},
   "outputs": [],
   "source": [
    "shows_genres = pd.merge(shows_genres, genres, how=\"inner\", on=\"genre\")\n",
    "shows_genres = shows_genres.rename({\"id\": \"genre_id\"}, axis=1)"
   ]
  },
  {
   "cell_type": "markdown",
   "id": "a2d3dc27-39da-41a5-9fcd-d43b0c418ffb",
   "metadata": {},
   "source": [
    "Subset the two ID columns:"
   ]
  },
  {
   "cell_type": "code",
   "execution_count": 12,
   "id": "2e14cf44-0676-4b79-a157-48744c08cc63",
   "metadata": {},
   "outputs": [],
   "source": [
    "shows_genres = shows_genres.loc[:, [\"show_id\", \"genre_id\"]]"
   ]
  },
  {
   "cell_type": "markdown",
   "id": "7842623c-6434-4095-bb9b-ede926cb2d72",
   "metadata": {},
   "source": [
    "The length of the new <codes>shows_genres</code> table should be equal to the length of the <code>exploded_genre</code>:"
   ]
  },
  {
   "cell_type": "code",
   "execution_count": 13,
   "id": "a28f0a09-5507-4b88-913d-2bbd69cf9136",
   "metadata": {},
   "outputs": [],
   "source": [
    "assert len(shows_genres) == len(exploded_genre)"
   ]
  },
  {
   "cell_type": "markdown",
   "id": "1bdb89be-7dec-46e5-bd4b-4d0df3e3db1d",
   "metadata": {},
   "source": [
    "### actors table\n",
    "The process for creating the <code>actors</code> table is almost the same as the <code>genres</code> table:"
   ]
  },
  {
   "cell_type": "code",
   "execution_count": 14,
   "id": "2dec89f2-c604-4894-9002-833018c57868",
   "metadata": {},
   "outputs": [],
   "source": [
    "actors = create_many_table(\"actors\")"
   ]
  },
  {
   "cell_type": "markdown",
   "id": "23f33834-1f34-4a96-804a-9621d93229ce",
   "metadata": {},
   "source": [
    "Rename the column to match the schema:"
   ]
  },
  {
   "cell_type": "code",
   "execution_count": 15,
   "id": "eefc80de-f773-47ae-9892-7387186d3d81",
   "metadata": {},
   "outputs": [],
   "source": [
    "actors = actors.rename({\"actors\": \"name\"}, axis=1) "
   ]
  },
  {
   "cell_type": "markdown",
   "id": "751aea2f-3826-438e-b7c4-000192362d66",
   "metadata": {},
   "source": [
    "### shows_actors table\n",
    "As with <code>genres</code>, the relationship between <code>shows</code> and <code>actors</code> is many-to-many. Multiple actors can appear in a single show, and an actor can appear in multiple shows. \n",
    "\n",
    "The process for relating these two tables remains the same:"
   ]
  },
  {
   "cell_type": "code",
   "execution_count": 16,
   "id": "53d221bf-fc40-4972-80f5-d7ca9220f0bb",
   "metadata": {},
   "outputs": [],
   "source": [
    "exploded_actors = explode_column(\"actors\")"
   ]
  },
  {
   "cell_type": "code",
   "execution_count": 17,
   "id": "f5c71df1-d8d4-4297-8485-d6d32d125514",
   "metadata": {},
   "outputs": [],
   "source": [
    "shows_actors = exploded_actors[[\"id\", \"title\", \"actors\"]].copy().reset_index(drop=True)"
   ]
  },
  {
   "cell_type": "code",
   "execution_count": 18,
   "id": "8d03bc4d-12c3-4e49-b142-fa8443b95a75",
   "metadata": {},
   "outputs": [],
   "source": [
    "shows_actors = shows_actors.rename({\"id\": \"show_id\"}, axis=1)"
   ]
  },
  {
   "cell_type": "code",
   "execution_count": 19,
   "id": "c0776066-2714-4a1b-ab00-6ff76e5b9ff0",
   "metadata": {},
   "outputs": [],
   "source": [
    "shows_actors = pd.merge(shows_actors, actors, how=\"inner\", left_on=\"actors\", right_on=\"name\")\n",
    "shows_actors = shows_actors.rename({\"id\": \"actor_id\"}, axis=1)"
   ]
  },
  {
   "cell_type": "code",
   "execution_count": 20,
   "id": "00c658a7-a8b7-4ab9-af15-3c672b8753dd",
   "metadata": {},
   "outputs": [],
   "source": [
    "shows_actors = shows_actors.loc[:, [\"show_id\", \"actor_id\"]]"
   ]
  },
  {
   "cell_type": "markdown",
   "id": "5b5977e2-36a2-4578-8abe-d93c6c1a6df0",
   "metadata": {},
   "source": [
    "Confirm that the new tables has the same number of rows as the exploded version:"
   ]
  },
  {
   "cell_type": "code",
   "execution_count": 21,
   "id": "72a168bb-3670-40af-9b2f-12d2d47db7d6",
   "metadata": {},
   "outputs": [],
   "source": [
    "assert len(shows_actors) == len(exploded_actors)"
   ]
  },
  {
   "cell_type": "markdown",
   "id": "95b7a602-b369-4f14-824e-cfc413d4a87c",
   "metadata": {},
   "source": [
    "#### Summary\n",
    "To achieve 1NF, an <code>id</code> column was created as a surrogate primary key that could easily uniquely identify all the records in the table. Next, the <code>genres</code> table was created to contain all the unique values in <code>genre</code> column. The <code>actor</code> table was created in a similar way. For now, this table is just a list of all the unique actors in the dataset, but it can easily be expanded to include other information about the actor such as date of birth or origin country.\n",
    "\n",
    "To get <code>shows</code> in 1NF, we now must select the relevant columns:"
   ]
  },
  {
   "cell_type": "code",
   "execution_count": 22,
   "id": "8e5490fb-ca7a-45ee-83ac-93c3ae6db37d",
   "metadata": {},
   "outputs": [],
   "source": [
    "first_normal_columns = [\"id\",\n",
    "                        \"title\",\n",
    "                        \"start_year\",\n",
    "                        \"end_year\",\n",
    "                        \"summary_tvmaze\",\n",
    "                        \"summary_imdb\",\n",
    "                        \"rating_tvmaze\",\n",
    "                        \"rating_imdb\",\n",
    "                        \"votes\",\n",
    "                        \"run_time\",\n",
    "                        \"language\",\n",
    "                        \"status\"]\n",
    "\n",
    "shows = shows.loc[:, first_normal_columns]"
   ]
  },
  {
   "cell_type": "markdown",
   "id": "628818b4-e4a5-4fd3-b79d-47c8fcdbc5d6",
   "metadata": {},
   "source": [
    "Display the <code>shows</code> table in 1NF:"
   ]
  },
  {
   "cell_type": "code",
   "execution_count": 23,
   "id": "c874c0dd-cfa9-4dcc-980e-12095b187162",
   "metadata": {},
   "outputs": [
    {
     "data": {
      "text/html": [
       "<div>\n",
       "<style scoped>\n",
       "    .dataframe tbody tr th:only-of-type {\n",
       "        vertical-align: middle;\n",
       "    }\n",
       "\n",
       "    .dataframe tbody tr th {\n",
       "        vertical-align: top;\n",
       "    }\n",
       "\n",
       "    .dataframe thead th {\n",
       "        text-align: right;\n",
       "    }\n",
       "</style>\n",
       "<table border=\"1\" class=\"dataframe\">\n",
       "  <thead>\n",
       "    <tr style=\"text-align: right;\">\n",
       "      <th></th>\n",
       "      <th>id</th>\n",
       "      <th>title</th>\n",
       "      <th>start_year</th>\n",
       "      <th>end_year</th>\n",
       "      <th>summary_tvmaze</th>\n",
       "      <th>summary_imdb</th>\n",
       "      <th>rating_tvmaze</th>\n",
       "      <th>rating_imdb</th>\n",
       "      <th>votes</th>\n",
       "      <th>run_time</th>\n",
       "      <th>language</th>\n",
       "      <th>status</th>\n",
       "    </tr>\n",
       "  </thead>\n",
       "  <tbody>\n",
       "    <tr>\n",
       "      <th>0</th>\n",
       "      <td>1</td>\n",
       "      <td>Masters of the Universe: Revelation</td>\n",
       "      <td>2021</td>\n",
       "      <td>2021</td>\n",
       "      <td>A radical return to Eternia, Masters of the Un...</td>\n",
       "      <td>The war for Eternia begins again in what may b...</td>\n",
       "      <td>6.6</td>\n",
       "      <td>5.0</td>\n",
       "      <td>17870</td>\n",
       "      <td>25</td>\n",
       "      <td>English</td>\n",
       "      <td>Ended</td>\n",
       "    </tr>\n",
       "    <tr>\n",
       "      <th>1</th>\n",
       "      <td>2</td>\n",
       "      <td>The Walking Dead</td>\n",
       "      <td>2010</td>\n",
       "      <td>2022</td>\n",
       "      <td>The Walking Dead tells the story of the months...</td>\n",
       "      <td>Sheriff Deputy Rick Grimes wakes up from a com...</td>\n",
       "      <td>7.9</td>\n",
       "      <td>8.2</td>\n",
       "      <td>885805</td>\n",
       "      <td>44</td>\n",
       "      <td>English</td>\n",
       "      <td>Ended</td>\n",
       "    </tr>\n",
       "    <tr>\n",
       "      <th>2</th>\n",
       "      <td>3</td>\n",
       "      <td>Rick and Morty</td>\n",
       "      <td>2013</td>\n",
       "      <td>NaN</td>\n",
       "      <td>Rick is a mentally gifted, but sociopathic and...</td>\n",
       "      <td>An animated series that follows the exploits o...</td>\n",
       "      <td>8.8</td>\n",
       "      <td>9.2</td>\n",
       "      <td>414849</td>\n",
       "      <td>23</td>\n",
       "      <td>English</td>\n",
       "      <td>Running</td>\n",
       "    </tr>\n",
       "    <tr>\n",
       "      <th>3</th>\n",
       "      <td>4</td>\n",
       "      <td>Outer Banks</td>\n",
       "      <td>2020</td>\n",
       "      <td>NaN</td>\n",
       "      <td>On an island of haves and have-nots, teen John...</td>\n",
       "      <td>A group of teenagers from the wrong side of th...</td>\n",
       "      <td>7.0</td>\n",
       "      <td>7.6</td>\n",
       "      <td>25858</td>\n",
       "      <td>50</td>\n",
       "      <td>English</td>\n",
       "      <td>Running</td>\n",
       "    </tr>\n",
       "    <tr>\n",
       "      <th>4</th>\n",
       "      <td>5</td>\n",
       "      <td>Dexter</td>\n",
       "      <td>2006</td>\n",
       "      <td>2013</td>\n",
       "      <td>He's smart, he's good looking, and he's got a ...</td>\n",
       "      <td>By day, mild-mannered Dexter is a blood-spatte...</td>\n",
       "      <td>8.4</td>\n",
       "      <td>8.6</td>\n",
       "      <td>665387</td>\n",
       "      <td>53</td>\n",
       "      <td>English</td>\n",
       "      <td>Ended</td>\n",
       "    </tr>\n",
       "  </tbody>\n",
       "</table>\n",
       "</div>"
      ],
      "text/plain": [
       "   id                                title start_year end_year  \\\n",
       "0   1  Masters of the Universe: Revelation       2021     2021   \n",
       "1   2                     The Walking Dead       2010     2022   \n",
       "2   3                       Rick and Morty       2013      NaN   \n",
       "3   4                          Outer Banks       2020      NaN   \n",
       "4   5                               Dexter       2006     2013   \n",
       "\n",
       "                                      summary_tvmaze  \\\n",
       "0  A radical return to Eternia, Masters of the Un...   \n",
       "1  The Walking Dead tells the story of the months...   \n",
       "2  Rick is a mentally gifted, but sociopathic and...   \n",
       "3  On an island of haves and have-nots, teen John...   \n",
       "4  He's smart, he's good looking, and he's got a ...   \n",
       "\n",
       "                                        summary_imdb  rating_tvmaze  \\\n",
       "0  The war for Eternia begins again in what may b...            6.6   \n",
       "1  Sheriff Deputy Rick Grimes wakes up from a com...            7.9   \n",
       "2  An animated series that follows the exploits o...            8.8   \n",
       "3  A group of teenagers from the wrong side of th...            7.0   \n",
       "4  By day, mild-mannered Dexter is a blood-spatte...            8.4   \n",
       "\n",
       "   rating_imdb   votes  run_time language   status  \n",
       "0          5.0   17870        25  English    Ended  \n",
       "1          8.2  885805        44  English    Ended  \n",
       "2          9.2  414849        23  English  Running  \n",
       "3          7.6   25858        50  English  Running  \n",
       "4          8.6  665387        53  English    Ended  "
      ]
     },
     "execution_count": 23,
     "metadata": {},
     "output_type": "execute_result"
    }
   ],
   "source": [
    "shows.head()"
   ]
  },
  {
   "cell_type": "markdown",
   "id": "4652c0b7-bab5-4016-b1bd-03ade02e2ab4",
   "metadata": {},
   "source": [
    "### Second Normal Form\n",
    "For a table to be in <b>Second Normal Form</b> (2NF), it must:\n",
    "<ul>\n",
    "    <li>Already be in 1NF.</li>\n",
    "    <li>Every non-key attribute is dependent on the entire primary key.</li>\n",
    "</ul>\n",
    "\n",
    "In this case, we have a single column as the primary key, and every other column is dependent on that column. Therefore, our table reached 2NF when it met the criteria for 1NF."
   ]
  },
  {
   "cell_type": "markdown",
   "id": "6659fecf-5e0e-4ace-9ffe-5ccacc654d78",
   "metadata": {},
   "source": [
    "### Third Normal Form\n",
    "\n",
    "For a table to be in <b>Third Normal Form</b> (3NF), it must:\n",
    "\n",
    "<ol>\n",
    "    <li>Already be in 2NF</li>\n",
    "    <li>Have no transitive dependencies - no non-key fields rely on other non-key fields</li>\n",
    "</ol>\n",
    "\n",
    "In their current state, the tables are already in 3NF. However, in the future, we might want to add further information about the language such as ISO code, language family or number of speakers (to estimate the market size). If we were to do this, there would be transitive dependencies between <code>language</code> and these new columns. Therefore, to ensure that the database is future-proof, we should separate out <code>language</code> to its own table. This schema is ensures data integrity and makes it easy to update. It is also possible that in the future, we might want to store multiple languages for each show if more than one language is spoken. This change is easier to implement with languages in a separate table.\n",
    "\n",
    "The relationship between <code>languages</code> and <code>shows</code> is one-to-many. A show has only one (main) language, whereas the same language can feature in multiple shows. We need a foreign key in the <code>shows</code> table that refers to the primary key in the <code>languages</code> table.\n",
    "\n",
    "First select <code>language</code> from the <code>shows</code> table: "
   ]
  },
  {
   "cell_type": "code",
   "execution_count": 24,
   "id": "b7c6147f-c3cc-414e-9360-b3e8b40fe806",
   "metadata": {},
   "outputs": [],
   "source": [
    "languages = shows[[\"language\"]]"
   ]
  },
  {
   "cell_type": "markdown",
   "id": "4c898368-4e05-44bd-92a4-5b97bb55a0f0",
   "metadata": {},
   "source": [
    "Remove the missing values:"
   ]
  },
  {
   "cell_type": "code",
   "execution_count": 25,
   "id": "316a0eb1-7365-4d43-87b4-1e9e55c0474a",
   "metadata": {},
   "outputs": [],
   "source": [
    "languages = languages.dropna()"
   ]
  },
  {
   "cell_type": "markdown",
   "id": "2e6eb2c0-9f45-4eb5-8067-b5e2252053fa",
   "metadata": {},
   "source": [
    "Only keep the unique values:"
   ]
  },
  {
   "cell_type": "code",
   "execution_count": 26,
   "id": "b9c38f13-4886-4aaf-a6dc-11e6390349f6",
   "metadata": {},
   "outputs": [],
   "source": [
    "languages = languages.drop_duplicates().reset_index(drop=True)"
   ]
  },
  {
   "cell_type": "markdown",
   "id": "6e66fa95-89ba-4d92-959f-8bdd6553849f",
   "metadata": {},
   "source": [
    "Add <code>id</code> using the index:"
   ]
  },
  {
   "cell_type": "code",
   "execution_count": 27,
   "id": "a9db7ccf-64e0-430d-ad24-3f9800317dd4",
   "metadata": {},
   "outputs": [],
   "source": [
    "languages[\"id\"] = languages.index + 1"
   ]
  },
  {
   "cell_type": "markdown",
   "id": "f96fba9c-a7f0-416a-9810-97c9f4c496ab",
   "metadata": {},
   "source": [
    "Only selected the desired columns:"
   ]
  },
  {
   "cell_type": "code",
   "execution_count": 28,
   "id": "c0b1272c-9f3a-473f-bb53-7121db281ba0",
   "metadata": {},
   "outputs": [],
   "source": [
    "languages = languages[[\"id\", \"language\"]]"
   ]
  },
  {
   "cell_type": "markdown",
   "id": "ef87f093-6ff6-4745-bf31-b9b9cdae6336",
   "metadata": {},
   "source": [
    "Merge with the <code>shows</code> table to add the foreign key:"
   ]
  },
  {
   "cell_type": "code",
   "execution_count": 29,
   "id": "0c69f6e0-788c-4f7f-b3b0-a486b169693a",
   "metadata": {},
   "outputs": [],
   "source": [
    "shows = pd.merge(shows, languages, how=\"left\", on=\"language\")\n",
    "shows = shows.rename({\"id_x\": \"id\", \"id_y\": \"language_id\"}, axis=1)"
   ]
  },
  {
   "cell_type": "markdown",
   "id": "2498a5dd-4f7e-4a21-aa31-6ad5069885a1",
   "metadata": {},
   "source": [
    "#### Is status a transitive dependency?\n",
    "Before moving on, it is important to address one potential issue:\n",
    "\n",
    "If <code>status</code> can be worked out by <code>end_year</code>, is it a transitive dependency?\n",
    "\n",
    "There is an argument for dropping the <code>status</code> column completely and working out the status of series dynamically (such as with SQL's <code>CASE</code> expression). This would free up more space and be more efficient than storing this information directly.\n",
    "\n",
    "However, this is not the case in reality. The column <code>status</code> has three different options: <code>Ended</code>, <code>Running</code> and <code>To Be Determined</code>. If we were to drop this column, we would lose out on some information that cannot be reconstructed. Therefore <code>status</code> depends on <code>id</code> only and not <code>end_year</code>, so the table is indeed in 3NF.\n",
    "\n",
    "Recap of the value counts for <code>status</code>:"
   ]
  },
  {
   "cell_type": "code",
   "execution_count": 30,
   "id": "896a3ecd-910f-4514-ad64-78ac04a2cdf5",
   "metadata": {},
   "outputs": [
    {
     "data": {
      "text/plain": [
       "status\n",
       "Ended               1208\n",
       "Running              412\n",
       "To Be Determined     149\n",
       "Name: count, dtype: int64"
      ]
     },
     "execution_count": 30,
     "metadata": {},
     "output_type": "execute_result"
    }
   ],
   "source": [
    "shows[\"status\"].value_counts()"
   ]
  },
  {
   "cell_type": "markdown",
   "id": "41284543-59dd-44ae-90f3-42382c0bcd20",
   "metadata": {},
   "source": [
    "#### Summary\n",
    "To ensure that the table will remain in 3NF when improved upon, we created a new table for languages. This allows new information about languages to be added without creating transitive dependencies.\n",
    "\n",
    "Select the required columns for the <code>shows</code> table:"
   ]
  },
  {
   "cell_type": "code",
   "execution_count": 31,
   "id": "23f42806-e57b-478d-a4e2-ed4d22693f42",
   "metadata": {},
   "outputs": [],
   "source": [
    "third_normal_columns = [\"id\",\n",
    "                        \"title\",\n",
    "                        \"start_year\",\n",
    "                        \"end_year\",\n",
    "                        \"summary_tvmaze\",\n",
    "                        \"summary_imdb\",\n",
    "                        \"rating_tvmaze\",\n",
    "                        \"rating_imdb\",\n",
    "                        \"votes\",\n",
    "                        \"run_time\",\n",
    "                        \"status\",\n",
    "                        \"language_id\"]\n",
    "\n",
    "shows = shows.loc[:, third_normal_columns]"
   ]
  },
  {
   "cell_type": "markdown",
   "id": "a263f7b4-53a3-42c5-81b8-f299fb8e15ca",
   "metadata": {},
   "source": [
    "Display <code>shows</code> in 3NF:"
   ]
  },
  {
   "cell_type": "code",
   "execution_count": 32,
   "id": "145229e3-1834-4b38-9ce0-946dfd233d2b",
   "metadata": {},
   "outputs": [
    {
     "data": {
      "text/html": [
       "<div>\n",
       "<style scoped>\n",
       "    .dataframe tbody tr th:only-of-type {\n",
       "        vertical-align: middle;\n",
       "    }\n",
       "\n",
       "    .dataframe tbody tr th {\n",
       "        vertical-align: top;\n",
       "    }\n",
       "\n",
       "    .dataframe thead th {\n",
       "        text-align: right;\n",
       "    }\n",
       "</style>\n",
       "<table border=\"1\" class=\"dataframe\">\n",
       "  <thead>\n",
       "    <tr style=\"text-align: right;\">\n",
       "      <th></th>\n",
       "      <th>id</th>\n",
       "      <th>title</th>\n",
       "      <th>start_year</th>\n",
       "      <th>end_year</th>\n",
       "      <th>summary_tvmaze</th>\n",
       "      <th>summary_imdb</th>\n",
       "      <th>rating_tvmaze</th>\n",
       "      <th>rating_imdb</th>\n",
       "      <th>votes</th>\n",
       "      <th>run_time</th>\n",
       "      <th>status</th>\n",
       "      <th>language_id</th>\n",
       "    </tr>\n",
       "  </thead>\n",
       "  <tbody>\n",
       "    <tr>\n",
       "      <th>0</th>\n",
       "      <td>1</td>\n",
       "      <td>Masters of the Universe: Revelation</td>\n",
       "      <td>2021</td>\n",
       "      <td>2021</td>\n",
       "      <td>A radical return to Eternia, Masters of the Un...</td>\n",
       "      <td>The war for Eternia begins again in what may b...</td>\n",
       "      <td>6.6</td>\n",
       "      <td>5.0</td>\n",
       "      <td>17870</td>\n",
       "      <td>25</td>\n",
       "      <td>Ended</td>\n",
       "      <td>1.0</td>\n",
       "    </tr>\n",
       "    <tr>\n",
       "      <th>1</th>\n",
       "      <td>2</td>\n",
       "      <td>The Walking Dead</td>\n",
       "      <td>2010</td>\n",
       "      <td>2022</td>\n",
       "      <td>The Walking Dead tells the story of the months...</td>\n",
       "      <td>Sheriff Deputy Rick Grimes wakes up from a com...</td>\n",
       "      <td>7.9</td>\n",
       "      <td>8.2</td>\n",
       "      <td>885805</td>\n",
       "      <td>44</td>\n",
       "      <td>Ended</td>\n",
       "      <td>1.0</td>\n",
       "    </tr>\n",
       "    <tr>\n",
       "      <th>2</th>\n",
       "      <td>3</td>\n",
       "      <td>Rick and Morty</td>\n",
       "      <td>2013</td>\n",
       "      <td>NaN</td>\n",
       "      <td>Rick is a mentally gifted, but sociopathic and...</td>\n",
       "      <td>An animated series that follows the exploits o...</td>\n",
       "      <td>8.8</td>\n",
       "      <td>9.2</td>\n",
       "      <td>414849</td>\n",
       "      <td>23</td>\n",
       "      <td>Running</td>\n",
       "      <td>1.0</td>\n",
       "    </tr>\n",
       "    <tr>\n",
       "      <th>3</th>\n",
       "      <td>4</td>\n",
       "      <td>Outer Banks</td>\n",
       "      <td>2020</td>\n",
       "      <td>NaN</td>\n",
       "      <td>On an island of haves and have-nots, teen John...</td>\n",
       "      <td>A group of teenagers from the wrong side of th...</td>\n",
       "      <td>7.0</td>\n",
       "      <td>7.6</td>\n",
       "      <td>25858</td>\n",
       "      <td>50</td>\n",
       "      <td>Running</td>\n",
       "      <td>1.0</td>\n",
       "    </tr>\n",
       "    <tr>\n",
       "      <th>4</th>\n",
       "      <td>5</td>\n",
       "      <td>Dexter</td>\n",
       "      <td>2006</td>\n",
       "      <td>2013</td>\n",
       "      <td>He's smart, he's good looking, and he's got a ...</td>\n",
       "      <td>By day, mild-mannered Dexter is a blood-spatte...</td>\n",
       "      <td>8.4</td>\n",
       "      <td>8.6</td>\n",
       "      <td>665387</td>\n",
       "      <td>53</td>\n",
       "      <td>Ended</td>\n",
       "      <td>1.0</td>\n",
       "    </tr>\n",
       "  </tbody>\n",
       "</table>\n",
       "</div>"
      ],
      "text/plain": [
       "   id                                title start_year end_year  \\\n",
       "0   1  Masters of the Universe: Revelation       2021     2021   \n",
       "1   2                     The Walking Dead       2010     2022   \n",
       "2   3                       Rick and Morty       2013      NaN   \n",
       "3   4                          Outer Banks       2020      NaN   \n",
       "4   5                               Dexter       2006     2013   \n",
       "\n",
       "                                      summary_tvmaze  \\\n",
       "0  A radical return to Eternia, Masters of the Un...   \n",
       "1  The Walking Dead tells the story of the months...   \n",
       "2  Rick is a mentally gifted, but sociopathic and...   \n",
       "3  On an island of haves and have-nots, teen John...   \n",
       "4  He's smart, he's good looking, and he's got a ...   \n",
       "\n",
       "                                        summary_imdb  rating_tvmaze  \\\n",
       "0  The war for Eternia begins again in what may b...            6.6   \n",
       "1  Sheriff Deputy Rick Grimes wakes up from a com...            7.9   \n",
       "2  An animated series that follows the exploits o...            8.8   \n",
       "3  A group of teenagers from the wrong side of th...            7.0   \n",
       "4  By day, mild-mannered Dexter is a blood-spatte...            8.4   \n",
       "\n",
       "   rating_imdb   votes  run_time   status  language_id  \n",
       "0          5.0   17870        25    Ended          1.0  \n",
       "1          8.2  885805        44    Ended          1.0  \n",
       "2          9.2  414849        23  Running          1.0  \n",
       "3          7.6   25858        50  Running          1.0  \n",
       "4          8.6  665387        53    Ended          1.0  "
      ]
     },
     "execution_count": 32,
     "metadata": {},
     "output_type": "execute_result"
    }
   ],
   "source": [
    "shows.head()"
   ]
  },
  {
   "cell_type": "markdown",
   "id": "413c94ac-28b0-41b5-8126-6dfdd19afd39",
   "metadata": {},
   "source": [
    "Because there are missing values, Pandas converts <code>language_id</code> to be a float. Ensure that it is displayed as an integer:"
   ]
  },
  {
   "cell_type": "code",
   "execution_count": 33,
   "id": "dc1f2033-7b66-4f61-8d7b-75ae3231e6b6",
   "metadata": {},
   "outputs": [],
   "source": [
    "shows[\"language_id\"] = pd.to_numeric(shows[\"language_id\"], errors=\"coerce\").astype(\"Int64\")"
   ]
  },
  {
   "cell_type": "markdown",
   "id": "0f7a88bb-6277-4e3e-8b99-19ad04cadf1e",
   "metadata": {},
   "source": [
    "### Vertical partitioning\n",
    "With the normalisation process complete, we can now focus on improving the database through <b>vertical partitioning</b>. Vertical partitioning is the process of splitting a table into multiple smaller tables by columns. This can improve read performance by reducing row size, making data retrieval more efficient. It also improves efficiency by grouping frequently accessed columns together, while less frequently accessed or bulky columns are stored separately.\n",
    "\n",
    "#### Summaries\n",
    "The summaries columns are good candidates for vertical partitioning. These columns contain text-heavy data and are unlikely to be as accessed frequently as other columns.\n",
    "\n",
    "First select the required columns and assign them to a new data frame:"
   ]
  },
  {
   "cell_type": "code",
   "execution_count": 34,
   "id": "e6b8388b-7e00-4334-b815-a703c5f1e8c5",
   "metadata": {},
   "outputs": [],
   "source": [
    "summaries = shows[[\"id\", \"summary_imdb\", \"summary_tvmaze\"]]"
   ]
  },
  {
   "cell_type": "markdown",
   "id": "2479af74-a6a4-4876-adbb-7f8a74a85185",
   "metadata": {},
   "source": [
    "Rename the <code>id</code> column to <code>show_id</code>:"
   ]
  },
  {
   "cell_type": "code",
   "execution_count": 35,
   "id": "44aa859f-9d8a-43d8-90ab-cf083ae32586",
   "metadata": {},
   "outputs": [],
   "source": [
    "summaries = summaries.rename({\"id\": \"show_id\"}, axis=1)"
   ]
  },
  {
   "cell_type": "markdown",
   "id": "3c69651d-1191-4126-bdfc-eb29ac906cde",
   "metadata": {},
   "source": [
    "#### Shows\n",
    "Now that all additional tables are created, select only the columns from <code>shows</code> that match the schema:"
   ]
  },
  {
   "cell_type": "code",
   "execution_count": 36,
   "id": "78915878-81bf-442a-be17-290fe83525d4",
   "metadata": {},
   "outputs": [],
   "source": [
    "final_columns = [\"id\",\n",
    "                 \"title\",\n",
    "                 \"start_year\",\n",
    "                 \"end_year\",\n",
    "                 \"run_time\",\n",
    "                 \"status\",\n",
    "                 \"rating_tvmaze\",\n",
    "                 \"rating_imdb\",\n",
    "                 \"votes\",\n",
    "                 \"language_id\"]\n",
    "\n",
    "shows = shows.loc[:, final_columns]"
   ]
  },
  {
   "cell_type": "markdown",
   "id": "660ca9fc-ee41-4adf-b0e5-9297c5eef8b5",
   "metadata": {},
   "source": [
    "### TV database\n",
    "With all the tables created, we will now create a SQL database to store them in.\n",
    "\n",
    "<b>SQLite</b> is a good choice for a portfolio project. It only requires a single <code>.db</code> file it making simple to set up and use, and it is particularly well suited to a dataset of this size.\n",
    "\n",
    "We can also use <b>SQLAlchemy</b> to create tables within the database as Python objects. It makes creating the relations between the tables simple, and if the project grows in size, it allows migration to more powerful versions of SQL such as PostgreSQL."
   ]
  },
  {
   "cell_type": "markdown",
   "id": "dc85ecf8-d2e3-4612-bd54-54ebad985a04",
   "metadata": {},
   "source": [
    "#### Create database\n",
    "With SQLAlchemy, SQL tables can be created as Python objects:"
   ]
  },
  {
   "cell_type": "code",
   "execution_count": 37,
   "id": "78465841-d954-4123-9cb5-de366197ebec",
   "metadata": {},
   "outputs": [],
   "source": [
    "base = declarative_base()\n",
    "\n",
    "class Shows(base):\n",
    "    __tablename__ = \"shows\"\n",
    "    id = Column(Integer, primary_key=True)\n",
    "    title = Column(String)\n",
    "    start_year = Column(Integer)\n",
    "    end_year = Column(Integer)\n",
    "    run_time = Column(Integer)\n",
    "    status = Column(String)\n",
    "    votes = Column(Integer)\n",
    "    rating_imdb = Column(Float)\n",
    "    rating_tvmaze = Column(Float)\n",
    "    language_id = Column(Integer, ForeignKey(\"languages.id\"))\n",
    "\n",
    "class Language(base):\n",
    "    __tablename__ = \"languages\"\n",
    "    id = Column(Integer, primary_key=True)\n",
    "    language = Column(String, unique=True)\n",
    "\n",
    "class Summary(base):\n",
    "    __tablename__ = \"summaries\"\n",
    "    show_id = Column(Integer, primary_key=True)\n",
    "    summary_tvmaze = Column(String)\n",
    "    summary_imdb = Column(String)\n",
    "\n",
    "class Genre(base):\n",
    "    __tablename__ = \"genres\"\n",
    "    id = Column(Integer, primary_key=True)\n",
    "    genre = Column(String, unique=True)\n",
    "\n",
    "class Show_genre(base):\n",
    "    __tablename__ = \"shows_genres\"\n",
    "    show_id = Column(Integer, ForeignKey(\"shows.id\"), primary_key=True)\n",
    "    genre_id = Column(Integer, ForeignKey(\"genres.id\"), primary_key=True)\n",
    "\n",
    "class Actor(base):\n",
    "    __tablename__ = \"actors\"\n",
    "    id = Column(Integer, primary_key=True)\n",
    "    name = Column(String)\n",
    "\n",
    "class Show_actor(base):\n",
    "    __tablename__ = \"shows_actors\"\n",
    "    show_id = Column(Integer, ForeignKey(\"shows.id\"), primary_key=True)\n",
    "    actor_id = Column(Integer, ForeignKey(\"actors.id\"), primary_key=True)\n"
   ]
  },
  {
   "cell_type": "markdown",
   "id": "a86f3114-f55e-441e-94a0-2e527d6a7b85",
   "metadata": {},
   "source": [
    "Create the connection to the database and write the tables:"
   ]
  },
  {
   "cell_type": "code",
   "execution_count": 38,
   "id": "e07258d8-081b-40f3-9a43-9dc80a4ebb85",
   "metadata": {},
   "outputs": [],
   "source": [
    "engine = create_engine(\"sqlite:///../data/final/tv_database.db\")\n",
    "base.metadata.create_all(engine)"
   ]
  },
  {
   "cell_type": "markdown",
   "id": "b2d703d3-1b9e-4f22-b797-5a97a5327dd5",
   "metadata": {},
   "source": [
    "#### Add data to the tables\n",
    "Now we have an empty SQL database that matches the required schema. We can use the Pandas dataframes' <code>to_sql</code> method to write the data to the corresponding tables:"
   ]
  },
  {
   "cell_type": "code",
   "execution_count": 39,
   "id": "839175e1-f7dc-4929-93e8-f19e10e0dc24",
   "metadata": {},
   "outputs": [
    {
     "data": {
      "text/plain": [
       "6476"
      ]
     },
     "execution_count": 39,
     "metadata": {},
     "output_type": "execute_result"
    }
   ],
   "source": [
    "shows.to_sql(\"shows\", con=engine, if_exists=\"replace\", index=False)\n",
    "languages.to_sql(\"languages\", con=engine, if_exists=\"replace\", index=False)\n",
    "summaries.to_sql(\"summaries\", con=engine, if_exists=\"replace\", index=False)\n",
    "genres.to_sql(\"genres\", con=engine, if_exists=\"replace\", index=False)\n",
    "shows_genres.to_sql(\"shows_genres\", con=engine, if_exists=\"replace\", index=False)\n",
    "actors.to_sql(\"actors\", con=engine, if_exists=\"replace\", index=False)\n",
    "shows_actors.to_sql(\"shows_actors\", con=engine, if_exists=\"replace\", index=False)"
   ]
  },
  {
   "cell_type": "markdown",
   "id": "29131756-da8f-4ff7-b933-095f46ebf2e2",
   "metadata": {},
   "source": [
    "#### Test query\n",
    "The database is now ready to use. We can write a SQL query to test that everything is working as intended:"
   ]
  },
  {
   "cell_type": "code",
   "execution_count": 40,
   "id": "db77b061-aa15-451e-b353-0bd65797bdbd",
   "metadata": {},
   "outputs": [],
   "source": [
    "test_query = '''\n",
    "    SELECT genre, COUNT(title) AS titles\n",
    "    FROM genres\n",
    "    JOIN shows_genres\n",
    "    ON genres.id = shows_genres.genre_id\n",
    "    JOIN shows\n",
    "    ON shows_genres.show_id = shows.id\n",
    "    GROUP BY 1\n",
    "    ORDER BY 2 DESC\n",
    "    LIMIT 5;\n",
    "'''"
   ]
  },
  {
   "cell_type": "code",
   "execution_count": 41,
   "id": "599b5c7d-9372-4fb0-acb5-faf9fe0f0bce",
   "metadata": {},
   "outputs": [],
   "source": [
    "test_df = pd.read_sql_query(test_query, engine)"
   ]
  },
  {
   "cell_type": "markdown",
   "id": "f3066365-ff05-4417-8134-8ae1e71dba43",
   "metadata": {},
   "source": [
    "Use Pandas to display a bar chart:"
   ]
  },
  {
   "cell_type": "code",
   "execution_count": 43,
   "id": "887aea76-48e3-4e2c-88ac-9b664ef632b9",
   "metadata": {},
   "outputs": [
    {
     "data": {
      "text/plain": [
       "<Axes: title={'center': 'Top 5 genres by number of series'}, xlabel='genre'>"
      ]
     },
     "execution_count": 43,
     "metadata": {},
     "output_type": "execute_result"
    },
    {
     "data": {
      "image/png": "[encoded data removed]",
      "text/plain": [
       "<Figure size 640x480 with 1 Axes>"
      ]
     },
     "metadata": {},
     "output_type": "display_data"
    }
   ],
   "source": [
    "test_df.plot.bar(x=\"genre\", color=\"black\", title=\"Top 5 genres by number of series\", legend=False)"
   ]
  },
  {
   "cell_type": "markdown",
   "id": "6e7bbf12-41e1-48da-98c8-62d6d7dc40cc",
   "metadata": {},
   "source": [
    "### Normalisation Summary\n",
    "\n",
    "The goal of this part was to transform the enriched data from Part 4 into multiple related tables that could be loaded into a database.\n",
    "\n",
    "In this part, we did the following:\n",
    "\n",
    "<ul>\n",
    "    <li>Created two new tables for genres and actors, then creating two junction tables that connected them to the shows table (1NF).</li>\n",
    "    <li>Created a language table that connected to the shows table with a one-to-many relationship (to ensure compliance with 3NF).</li>\n",
    "    <li>Used vertical partitioning to separate the summaries into their own table.</li>\n",
    "    <li>Created a SQLite database using SQLAlchemy.</li>\n",
    "    <li>Loaded the dataframes to the corresponding tables.</li>\n",
    "</ul>\n",
    "\n",
    "Now that the data has been organised and loaded into a database, we can undertake a exploratory data analysis to uncover insights."
   ]
  },
  {
   "cell_type": "markdown",
   "id": "0b757ad5-36ac-40cd-87ff-e1b1862863fb",
   "metadata": {},
   "source": [
    "### Navigation\n",
    "\n",
    "**Previous book**: <a href='./04_data_enrichment.ipynb'>[ETL & Data Enrichment]</a>\n",
    "\n",
    "**Next book**: <a href='./06_eda.ipynb'>[EDA]</a>"
   ]
  }
 ],
 "metadata": {
  "kernelspec": {
   "display_name": "Python 3 (ipykernel)",
   "language": "python",
   "name": "python3"
  },
  "language_info": {
   "codemirror_mode": {
    "name": "ipython",
    "version": 3
   },
   "file_extension": ".py",
   "mimetype": "text/x-python",
   "name": "python",
   "nbconvert_exporter": "python",
   "pygments_lexer": "ipython3",
   "version": "3.10.11"
  }
 },
 "nbformat": 4,
 "nbformat_minor": 5
}
