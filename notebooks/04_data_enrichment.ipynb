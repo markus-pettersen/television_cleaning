{
 "cells": [
  {
   "cell_type": "markdown",
   "id": "7c6f0f2e-56b8-46a3-bb75-d1d3b7b96666",
   "metadata": {},
   "source": [
    "**Previous book**: <a href='./03_data_subsetting.ipynb'>[Data Subsetting]</a>"
   ]
  },
  {
   "cell_type": "markdown",
   "id": "cb004d6b-1b46-41ee-be15-1d4b01611cec",
   "metadata": {},
   "source": [
    "## Part 4: ETL with API data and enrichment\n",
    "\n",
    "**Note**: This notebook expects <code>stage3_serials.csv</code> from the <code>03_data_subsetting.ipynb</code> notebook!\n",
    "\n",
    "At this stage, the focus of the project has narrowed to television serials. However, the original dataset was scraped in 2021, and as such, a lot of the information is now out-dated - particularly the <code>end_year</code> column. Many of the entries labelled as <i>ongoing</i> have since concluded.\n",
    "\n",
    "To address this issue, we need to consult an external source. We will make use of an external API to create a simple ETL pipeline that will load data from a database into a local dataset. This new dataset can then be used to update and enrich our existing dataset with the enriched dataset serving as the foundation for future analysis.\n",
    "\n",
    "**Input:** <code>/data/interim/stage3_serials.csv</code> and <code>/data/final/api_data.csv</code>\n",
    "<br>\n",
    "**Output:** <code>/data/interim/stage4_enriched_serial_data.csv</code>\n",
    "### Initial imports\n",
    "Start by importing the <code>stage3_serials.csv</code> file created in Part 3:"
   ]
  },
  {
   "cell_type": "code",
   "execution_count": 1,
   "id": "66ca35b7-17d2-4a07-b6c6-ea01a6236284",
   "metadata": {},
   "outputs": [],
   "source": [
    "import numpy as np\n",
    "import pandas as pd\n",
    "import requests\n",
    "\n",
    "# start_year acts more like a label than a true integer\n",
    "df = pd.read_csv(\"../data/interim/stage3_serials.csv\",\n",
    "                 dtype={\"start_year\": \"str\", \"votes\": \"Int64\",\"run_time\": \"Int64\"})"
   ]
  },
  {
   "cell_type": "markdown",
   "id": "6c19b7a4-4391-4e5e-9145-1c82587d7437",
   "metadata": {},
   "source": [
    "### Extract, Transform, Load (ETL)\n",
    "<b>ETL</b> (Extract, Transform, Load) is the process of extracting data, transforming it into the desired structure, and then loading it into storage.\n",
    "\n",
    "For this project, we will use the API provided by <a href=\"https://www.tvmaze.com/\">TVMaze</a>, a free user-driven television database. The <a href=\"https://www.tvmaze.com/api\">TVMaze API</a> (or Application Programming Interface) returns information about a given TV show in JSON format. For simplicity, we will use the <b>show single search</b>. This end-point returns either a single show if the search text matches an entry, otherwise it returns nothing.\n",
    "\n",
    "There are some limitation to this approach. Care must be taken to ensure that the information returned is for the correct serial. As shown earlier, it is possible for television serials to share the some name. It also possible that some entries may not be found in the TVMaze database, in this case, we won't be able to update the information for these entries."
   ]
  },
  {
   "cell_type": "markdown",
   "id": "2fbabb7a-87e3-46e0-ba45-45b8e02d7a8f",
   "metadata": {},
   "source": [
    "#### Extracting data from an external source using an API\n",
    "For the first step of the ETL process, extract, we write a function that gets the information from the end-point using the requests package. This function takes a list of shows and returns a list of JSON containing the information about every show. If no such show is found, a blank entry is added as a placeholder so that the data frames are the same length. This will be important later."
   ]
  },
  {
   "cell_type": "code",
   "execution_count": 2,
   "id": "11fe1f95-1ecf-4209-8413-1aac0080660d",
   "metadata": {},
   "outputs": [],
   "source": [
    "def extract_api_data(shows):\n",
    "    json_list = []\n",
    "    for show in shows:\n",
    "        url = f\"https://api.tvmaze.com/singlesearch/shows?q={show.replace(' ', '%20')}\"\n",
    "        response = requests.get(url)\n",
    "        if response.status_code == 200:\n",
    "            data = response.json()\n",
    "            json_list.append(data)\n",
    "        else:\n",
    "            # in the json, 'average' is nested under 'rating', so we copy the structure here\n",
    "            json_list.append({\"name\": show, \"rating\": {\"average\": None}})\n",
    "    print(\"Extract ran successfully\")\n",
    "    return json_list"
   ]
  },
  {
   "cell_type": "markdown",
   "id": "5db90e7e-b0e1-4af0-92b6-70b8fa4a9355",
   "metadata": {},
   "source": [
    "The titles of the entire dataset can be returned as a list:"
   ]
  },
  {
   "cell_type": "code",
   "execution_count": 3,
   "id": "30d7030a-3ab6-4e69-bd73-1345598c5bc6",
   "metadata": {},
   "outputs": [],
   "source": [
    "television_shows = list(df[\"title\"])"
   ]
  },
  {
   "cell_type": "markdown",
   "id": "14934168-0a00-4f13-95f1-379406c712dc",
   "metadata": {},
   "source": [
    "Rather than use the entire dataset, we can demonstrate how the function works with a toy dataset containing the first five entries:"
   ]
  },
  {
   "cell_type": "code",
   "execution_count": 4,
   "id": "a6de2abf-4433-4739-8118-6d6a79dc9646",
   "metadata": {},
   "outputs": [
    {
     "name": "stdout",
     "output_type": "stream",
     "text": [
      "Extract ran successfully\n"
     ]
    },
    {
     "data": {
      "text/plain": [
       "{'id': 43428,\n",
       " 'url': 'https://www.tvmaze.com/shows/43428/masters-of-the-universe-revelation',\n",
       " 'name': 'Masters of the Universe: Revelation',\n",
       " 'type': 'Animation',\n",
       " 'language': 'English',\n",
       " 'genres': ['Action', 'Adventure', 'Fantasy'],\n",
       " 'status': 'Ended',\n",
       " 'runtime': None,\n",
       " 'averageRuntime': 26,\n",
       " 'premiered': '2021-07-23',\n",
       " 'ended': '2021-11-23',\n",
       " 'officialSite': 'https://www.netflix.com/title/81154670',\n",
       " 'schedule': {'time': '', 'days': []},\n",
       " 'rating': {'average': 6.6},\n",
       " 'weight': 94,\n",
       " 'network': None,\n",
       " 'webChannel': {'id': 1,\n",
       "  'name': 'Netflix',\n",
       "  'country': None,\n",
       "  'officialSite': 'https://www.netflix.com/'},\n",
       " 'dvdCountry': None,\n",
       " 'externals': {'tvrage': None, 'thetvdb': 368321, 'imdb': 'tt10826054'},\n",
       " 'image': {'medium': 'https://static.tvmaze.com/uploads/images/medium_portrait/365/914541.jpg',\n",
       "  'original': 'https://static.tvmaze.com/uploads/images/original_untouched/365/914541.jpg'},\n",
       " 'summary': \"<p>A radical return to Eternia, <b>Masters of the Universe: Revelation</b> is a direct sequel series to the classic era of <i>Masters of the Universe</i>. Featuring fan-favorites He-Man, Orko, Cringer and Man-At-Arms, the story pits our heroic warriors and guardians of Castle Grayskull against Skeletor, Evil-Lyn, Beast Man and the vile legions of snake mountain! But after a ferocious final battle forever fractures Eternia, it's up to Teela to solve the mystery of the missing Sword of Power in a race against time to prevent the end of the Universe! Her journey will uncover the secrets of Grayskull at last. This is the epic He-Man and the Masters of the Universe saga fans have waited 35 years to see!</p>\",\n",
       " 'updated': 1695840554,\n",
       " '_links': {'self': {'href': 'https://api.tvmaze.com/shows/43428'},\n",
       "  'previousepisode': {'href': 'https://api.tvmaze.com/episodes/2202381',\n",
       "   'name': 'Comes with Everything You See Here'}}}"
      ]
     },
     "execution_count": 4,
     "metadata": {},
     "output_type": "execute_result"
    }
   ],
   "source": [
    "demonstration = extract_api_data(television_shows[0:5])\n",
    "demonstration[0]"
   ]
  },
  {
   "cell_type": "markdown",
   "id": "ff0baa05-ece4-493d-bf46-e1d39c4df61e",
   "metadata": {},
   "source": [
    "Above, we can see the structure of the JSON returned from the API."
   ]
  },
  {
   "cell_type": "markdown",
   "id": "a3929e1f-ad7a-4f8b-818a-733cf4d8b8d5",
   "metadata": {},
   "source": [
    "#### Transforming data collected using an API\n",
    "\n",
    "The next step of the ETL process is transformation. In this case, the transformation function will contain two smaller functions.\n",
    "\n",
    "These functions will:\n",
    "\n",
    "<ol>\n",
    "    <li>Save the required information from the JSON to a new dataframe.</li>\n",
    "    <li>Change the information to better match the format of the original IMDb dataframe.</li>\n",
    "</ol>\n",
    "\n",
    "From the JSON above, we can identify the columns of interest for us:\n",
    "<ul>\n",
    "    <li><b>name</b> - title of the show.</li>\n",
    "    <li><b>status</b> - is the show currently running?</li>\n",
    "    <li><b>AverageRuntime</b> - the average length of an episode.</li>\n",
    "    <li><b>premiered</b> - the date when the show first aired.</li>\n",
    "    <li><b>ended</b> - the date when the final episode aired.</li>\n",
    "    <li><b>average</b> nested under <b>rating</b> - the average rating of the show.</li>\n",
    "    <li><b>summary</b> - a brief description of the serial.</li>\n",
    "    <li><b>language</b> - the main language spoken in the serial.</li>\n",
    "</ul>\n",
    "\n",
    "The following function retrieves this information from the JSON list, and writes it to a new data frame with column names matching the original data:"
   ]
  },
  {
   "cell_type": "code",
   "execution_count": 5,
   "id": "1bfcdb90-ffed-4f1a-bf36-42117c486655",
   "metadata": {},
   "outputs": [],
   "source": [
    "def write_df(json_data):\n",
    "    normalised_data = []\n",
    "    for row in json_data:\n",
    "        title = row.get(\"name\")\n",
    "        language = row.get(\"language\")\n",
    "        status = row.get(\"status\")\n",
    "        run_time = row.get(\"averageRuntime\")\n",
    "        start_year = row.get(\"premiered\")\n",
    "        end_year = row.get(\"ended\")\n",
    "        rating = row.get(\"rating\").get(\"average\")\n",
    "        summary = row.get(\"summary\")\n",
    "        normalised_data.append([title, start_year, end_year, language, run_time, rating, summary, status])\n",
    "    new_df = pd.DataFrame(normalised_data)\n",
    "    new_df.columns = [\"title\", \"start_year\", \"end_year\", \"language\", \"run_time\", \"rating\", \"summary\", \"status\"]\n",
    "    return new_df"
   ]
  },
  {
   "cell_type": "markdown",
   "id": "cedae4aa-eb82-451b-be7f-e3d1e6ec9f01",
   "metadata": {},
   "source": [
    "With a new data frame created, we now need to adapt the information to better match our original data.\n",
    "\n",
    "To do this, we make the following changes:\n",
    "<ul>\n",
    "    <li><code>start_year</code> and <code>end_year</code> should just be a year. Use a regex pattern to extract the year (alternatively: <code>dt.strftime.(\"%Y\")</code>)</li>\n",
    "    <li>Remove HTML tags from <code>summary</code> using regex.</li>\n",
    "    <li>Cast the <code>status</code> column as a category.</li>\n",
    "</ul>\n",
    "\n",
    "The following function makes the required changes:"
   ]
  },
  {
   "cell_type": "code",
   "execution_count": 6,
   "id": "204d5ec2-497d-4dbc-ad95-381dfad52978",
   "metadata": {},
   "outputs": [],
   "source": [
    "def clean_api_data(a_df):\n",
    "    date_regex = r\"(\\d{4})-\\d{2}-\\d{2}\"\n",
    "    a_df[\"start_year\"] = a_df[\"start_year\"].str.replace(date_regex, r\"\\1\", regex=True)\n",
    "    a_df[\"end_year\"] = a_df[\"end_year\"].str.replace(date_regex, r\"\\1\", regex=True)\n",
    "    a_df[\"summary\"] = a_df[\"summary\"].str.replace(r\"</?\\w+>\", \"\", regex=True)\n",
    "    a_df[\"status\"] = a_df[\"status\"].astype(\"category\")\n",
    "    return a_df"
   ]
  },
  {
   "cell_type": "markdown",
   "id": "a6624087-7716-46df-8fca-f8585406da89",
   "metadata": {},
   "source": [
    "Combine the two functions into a larger <code>transform_api_data</code> function:"
   ]
  },
  {
   "cell_type": "code",
   "execution_count": 7,
   "id": "fcb064c4-801c-4175-835a-57a6dcd3b259",
   "metadata": {},
   "outputs": [],
   "source": [
    "def transform_api_data(json_data):\n",
    "    api_df = write_df(json_data)\n",
    "    print(\"Data written to data frame\")\n",
    "    clean_api_data(api_df)\n",
    "    print(\"Data cleaned\")\n",
    "    return api_df"
   ]
  },
  {
   "cell_type": "markdown",
   "id": "150ac047-e2a0-4f89-9899-ba1203174127",
   "metadata": {},
   "source": [
    "Run the transform function with the demonstration data to see if it work correctly:"
   ]
  },
  {
   "cell_type": "code",
   "execution_count": 8,
   "id": "427f9d83-0701-4a56-8f7e-909ccb0ae79b",
   "metadata": {},
   "outputs": [
    {
     "name": "stdout",
     "output_type": "stream",
     "text": [
      "Data written to data frame\n",
      "Data cleaned\n"
     ]
    },
    {
     "data": {
      "text/html": [
       "<div>\n",
       "<style scoped>\n",
       "    .dataframe tbody tr th:only-of-type {\n",
       "        vertical-align: middle;\n",
       "    }\n",
       "\n",
       "    .dataframe tbody tr th {\n",
       "        vertical-align: top;\n",
       "    }\n",
       "\n",
       "    .dataframe thead th {\n",
       "        text-align: right;\n",
       "    }\n",
       "</style>\n",
       "<table border=\"1\" class=\"dataframe\">\n",
       "  <thead>\n",
       "    <tr style=\"text-align: right;\">\n",
       "      <th></th>\n",
       "      <th>title</th>\n",
       "      <th>start_year</th>\n",
       "      <th>end_year</th>\n",
       "      <th>language</th>\n",
       "      <th>run_time</th>\n",
       "      <th>rating</th>\n",
       "      <th>summary</th>\n",
       "      <th>status</th>\n",
       "    </tr>\n",
       "  </thead>\n",
       "  <tbody>\n",
       "    <tr>\n",
       "      <th>0</th>\n",
       "      <td>Masters of the Universe: Revelation</td>\n",
       "      <td>2021</td>\n",
       "      <td>2021</td>\n",
       "      <td>English</td>\n",
       "      <td>26</td>\n",
       "      <td>6.6</td>\n",
       "      <td>A radical return to Eternia, Masters of the Un...</td>\n",
       "      <td>Ended</td>\n",
       "    </tr>\n",
       "    <tr>\n",
       "      <th>1</th>\n",
       "      <td>The Walking Dead</td>\n",
       "      <td>2010</td>\n",
       "      <td>2022</td>\n",
       "      <td>English</td>\n",
       "      <td>62</td>\n",
       "      <td>7.9</td>\n",
       "      <td>The Walking Dead tells the story of the months...</td>\n",
       "      <td>Ended</td>\n",
       "    </tr>\n",
       "    <tr>\n",
       "      <th>2</th>\n",
       "      <td>Rick and Morty</td>\n",
       "      <td>2013</td>\n",
       "      <td>None</td>\n",
       "      <td>English</td>\n",
       "      <td>30</td>\n",
       "      <td>8.8</td>\n",
       "      <td>Rick is a mentally gifted, but sociopathic and...</td>\n",
       "      <td>Running</td>\n",
       "    </tr>\n",
       "    <tr>\n",
       "      <th>3</th>\n",
       "      <td>Outer Banks</td>\n",
       "      <td>2020</td>\n",
       "      <td>None</td>\n",
       "      <td>English</td>\n",
       "      <td>52</td>\n",
       "      <td>7.0</td>\n",
       "      <td>On an island of haves and have-nots, teen John...</td>\n",
       "      <td>Running</td>\n",
       "    </tr>\n",
       "    <tr>\n",
       "      <th>4</th>\n",
       "      <td>Dexter</td>\n",
       "      <td>2006</td>\n",
       "      <td>2013</td>\n",
       "      <td>English</td>\n",
       "      <td>60</td>\n",
       "      <td>8.4</td>\n",
       "      <td>He's smart, he's good looking, and he's got a ...</td>\n",
       "      <td>Ended</td>\n",
       "    </tr>\n",
       "  </tbody>\n",
       "</table>\n",
       "</div>"
      ],
      "text/plain": [
       "                                 title start_year end_year language  run_time  \\\n",
       "0  Masters of the Universe: Revelation       2021     2021  English        26   \n",
       "1                     The Walking Dead       2010     2022  English        62   \n",
       "2                       Rick and Morty       2013     None  English        30   \n",
       "3                          Outer Banks       2020     None  English        52   \n",
       "4                               Dexter       2006     2013  English        60   \n",
       "\n",
       "   rating                                            summary   status  \n",
       "0     6.6  A radical return to Eternia, Masters of the Un...    Ended  \n",
       "1     7.9  The Walking Dead tells the story of the months...    Ended  \n",
       "2     8.8  Rick is a mentally gifted, but sociopathic and...  Running  \n",
       "3     7.0  On an island of haves and have-nots, teen John...  Running  \n",
       "4     8.4  He's smart, he's good looking, and he's got a ...    Ended  "
      ]
     },
     "execution_count": 8,
     "metadata": {},
     "output_type": "execute_result"
    }
   ],
   "source": [
    "demonstration_df = transform_api_data(demonstration)\n",
    "demonstration_df"
   ]
  },
  {
   "cell_type": "markdown",
   "id": "cdf6e0fa-7ab7-402b-9002-10c55016514e",
   "metadata": {},
   "source": [
    "As shown above, both the extract and the transformation functions work as intended."
   ]
  },
  {
   "cell_type": "markdown",
   "id": "088a8dba-2b93-4dcc-85cf-da52b93f9b01",
   "metadata": {},
   "source": [
    "#### Load API data\n",
    "The last step of the ETL process is loading. In this case, we will simply save the data frame as a CSV file to a given file path."
   ]
  },
  {
   "cell_type": "code",
   "execution_count": 9,
   "id": "ab85f4da-f876-4efc-bab1-8ac883f089d6",
   "metadata": {},
   "outputs": [],
   "source": [
    "def load_api_data(a_df, filepath):\n",
    "    a_df.to_csv(filepath, index=False)\n",
    "    print(f\"Data written to file: {filepath}\")"
   ]
  },
  {
   "cell_type": "markdown",
   "id": "c3b98233-e55c-4abb-90f5-8be639b4d696",
   "metadata": {},
   "source": [
    "It is not necessary to show how this function works with the demonstration dataset.\n",
    "\n",
    "All of the ETL functions together form a data pipeline used to extract data from the TVMaze, transform the data to the desired structure, and save it locally. This dataset can then be used for analysis or to enrich our existing dataset."
   ]
  },
  {
   "cell_type": "markdown",
   "id": "cf4a305b-acad-4dce-9462-2b9269345a53",
   "metadata": {},
   "source": [
    "### Enriching the original data\n",
    "The dataset, <code>api_data.csv</code>, is the result of running the ETL pipeline externally with all the titles in the IMDb dataset (retrieved 27th May 2025).\n",
    "\n",
    "Load the data and examine the structure:"
   ]
  },
  {
   "cell_type": "code",
   "execution_count": 10,
   "id": "8a50710c-a5de-415f-859c-936ec5ec09c7",
   "metadata": {},
   "outputs": [],
   "source": [
    "api_data = pd.read_csv(\"../data/final/api_data.csv\", dtype={\"start_year\": \"str\", \"end_year\": \"str\", \"run_time\": \"Int64\"})"
   ]
  },
  {
   "cell_type": "code",
   "execution_count": 11,
   "id": "5c0a143c-09ff-46d9-bcb8-3d4835a88880",
   "metadata": {},
   "outputs": [
    {
     "data": {
      "text/html": [
       "<div>\n",
       "<style scoped>\n",
       "    .dataframe tbody tr th:only-of-type {\n",
       "        vertical-align: middle;\n",
       "    }\n",
       "\n",
       "    .dataframe tbody tr th {\n",
       "        vertical-align: top;\n",
       "    }\n",
       "\n",
       "    .dataframe thead th {\n",
       "        text-align: right;\n",
       "    }\n",
       "</style>\n",
       "<table border=\"1\" class=\"dataframe\">\n",
       "  <thead>\n",
       "    <tr style=\"text-align: right;\">\n",
       "      <th></th>\n",
       "      <th>title</th>\n",
       "      <th>start_year</th>\n",
       "      <th>end_year</th>\n",
       "      <th>language</th>\n",
       "      <th>run_time</th>\n",
       "      <th>rating</th>\n",
       "      <th>summary</th>\n",
       "      <th>status</th>\n",
       "    </tr>\n",
       "  </thead>\n",
       "  <tbody>\n",
       "    <tr>\n",
       "      <th>0</th>\n",
       "      <td>Masters of the Universe: Revelation</td>\n",
       "      <td>2021</td>\n",
       "      <td>2021</td>\n",
       "      <td>English</td>\n",
       "      <td>26</td>\n",
       "      <td>6.6</td>\n",
       "      <td>A radical return to Eternia, Masters of the Un...</td>\n",
       "      <td>Ended</td>\n",
       "    </tr>\n",
       "    <tr>\n",
       "      <th>1</th>\n",
       "      <td>The Walking Dead</td>\n",
       "      <td>2010</td>\n",
       "      <td>2022</td>\n",
       "      <td>English</td>\n",
       "      <td>62</td>\n",
       "      <td>7.9</td>\n",
       "      <td>The Walking Dead tells the story of the months...</td>\n",
       "      <td>Ended</td>\n",
       "    </tr>\n",
       "    <tr>\n",
       "      <th>2</th>\n",
       "      <td>Rick and Morty</td>\n",
       "      <td>2013</td>\n",
       "      <td>NaN</td>\n",
       "      <td>English</td>\n",
       "      <td>30</td>\n",
       "      <td>8.8</td>\n",
       "      <td>Rick is a mentally gifted, but sociopathic and...</td>\n",
       "      <td>Running</td>\n",
       "    </tr>\n",
       "    <tr>\n",
       "      <th>3</th>\n",
       "      <td>Outer Banks</td>\n",
       "      <td>2020</td>\n",
       "      <td>NaN</td>\n",
       "      <td>English</td>\n",
       "      <td>52</td>\n",
       "      <td>7.0</td>\n",
       "      <td>On an island of haves and have-nots, teen John...</td>\n",
       "      <td>Running</td>\n",
       "    </tr>\n",
       "    <tr>\n",
       "      <th>4</th>\n",
       "      <td>Dexter</td>\n",
       "      <td>2006</td>\n",
       "      <td>2013</td>\n",
       "      <td>English</td>\n",
       "      <td>60</td>\n",
       "      <td>8.4</td>\n",
       "      <td>He's smart, he's good looking, and he's got a ...</td>\n",
       "      <td>Ended</td>\n",
       "    </tr>\n",
       "  </tbody>\n",
       "</table>\n",
       "</div>"
      ],
      "text/plain": [
       "                                 title start_year end_year language  run_time  \\\n",
       "0  Masters of the Universe: Revelation       2021     2021  English        26   \n",
       "1                     The Walking Dead       2010     2022  English        62   \n",
       "2                       Rick and Morty       2013      NaN  English        30   \n",
       "3                          Outer Banks       2020      NaN  English        52   \n",
       "4                               Dexter       2006     2013  English        60   \n",
       "\n",
       "   rating                                            summary   status  \n",
       "0     6.6  A radical return to Eternia, Masters of the Un...    Ended  \n",
       "1     7.9  The Walking Dead tells the story of the months...    Ended  \n",
       "2     8.8  Rick is a mentally gifted, but sociopathic and...  Running  \n",
       "3     7.0  On an island of haves and have-nots, teen John...  Running  \n",
       "4     8.4  He's smart, he's good looking, and he's got a ...    Ended  "
      ]
     },
     "execution_count": 11,
     "metadata": {},
     "output_type": "execute_result"
    }
   ],
   "source": [
    "api_data.head()"
   ]
  },
  {
   "cell_type": "markdown",
   "id": "e405d61b-0a75-46e0-8c2b-f1d218b03483",
   "metadata": {},
   "source": [
    "Examine the missing values in the dataset:"
   ]
  },
  {
   "cell_type": "code",
   "execution_count": 12,
   "id": "ce2cac73-0f3d-499a-a519-7b0f88943be5",
   "metadata": {},
   "outputs": [
    {
     "data": {
      "text/plain": [
       "title           0\n",
       "start_year    192\n",
       "end_year      531\n",
       "language      204\n",
       "run_time      200\n",
       "rating        825\n",
       "summary       198\n",
       "status        185\n",
       "dtype: int64"
      ]
     },
     "execution_count": 12,
     "metadata": {},
     "output_type": "execute_result"
    }
   ],
   "source": [
    "api_data.isna().sum()"
   ]
  },
  {
   "cell_type": "markdown",
   "id": "419033b3-53c7-452b-bbb7-5c0204e99983",
   "metadata": {},
   "source": [
    "It appears that some entries are missing. This may correspond to titles in the original dataset that were not present in the TVMaze database, and thus are missing from the dataset."
   ]
  },
  {
   "cell_type": "markdown",
   "id": "8094dac1-56b0-4e01-9529-c765a426b9d2",
   "metadata": {},
   "source": [
    "#### A note about the approach\n",
    "My original approach to enriching the dataset was to merge the original dataset with the new dataset from the API on the <code>title</code> and <code>start_year</code> columns (the combination shown previously to be able to uniquely identify all records). However, there were some unforeseen problems with this.\n",
    "\n",
    "For example, looking at a record from the IMDb dataset:"
   ]
  },
  {
   "cell_type": "code",
   "execution_count": 13,
   "id": "f7086448-b9e9-498c-9a72-4a8f087ba35b",
   "metadata": {},
   "outputs": [
    {
     "data": {
      "text/plain": [
       "title                                        Shingeki no kyojin\n",
       "start_year                                                 2013\n",
       "end_year                                                   2022\n",
       "genre                              Animation, Action, Adventure\n",
       "summary       After his hometown is destroyed and his mother...\n",
       "rating                                                      9.0\n",
       "votes                                                    242582\n",
       "run_time                                                     24\n",
       "actors        Yûki Kaji, Marina Inoue, Josh Grelle, Yui Ishi...\n",
       "Name: 31, dtype: object"
      ]
     },
     "execution_count": 13,
     "metadata": {},
     "output_type": "execute_result"
    }
   ],
   "source": [
    "df.iloc[31]"
   ]
  },
  {
   "cell_type": "markdown",
   "id": "aa26dc1a-ccbd-4102-aef3-2e6a039a44fa",
   "metadata": {},
   "source": [
    "And the same record from the TVMaze dataset:"
   ]
  },
  {
   "cell_type": "code",
   "execution_count": 14,
   "id": "d7010208-a737-44ab-92ac-44d5a46c6530",
   "metadata": {},
   "outputs": [
    {
     "data": {
      "text/plain": [
       "title                                           Attack on Titan\n",
       "start_year                                                 2013\n",
       "end_year                                                   2023\n",
       "language                                               Japanese\n",
       "run_time                                                     25\n",
       "rating                                                      8.9\n",
       "summary       Known in Japan as Shingeki no Kyojin, many yea...\n",
       "status                                                    Ended\n",
       "Name: 31, dtype: object"
      ]
     },
     "execution_count": 14,
     "metadata": {},
     "output_type": "execute_result"
    }
   ],
   "source": [
    "api_data.iloc[31]"
   ]
  },
  {
   "cell_type": "markdown",
   "id": "21229dd8-3a0c-4172-8751-8d9fd301206c",
   "metadata": {},
   "source": [
    "These records both refer to the same show. The problem is that the IMDb title is the romanised form of the original Japanese title, whereas TVMaze's API returns the English name. This mismatch would prevent the two records from merging under the original approach. This problem would also extend to differences in capitalisation or other minor differences in titles.\n",
    "\n",
    "This necessitated a new approch where more of the data could be preserved."
   ]
  },
  {
   "cell_type": "markdown",
   "id": "e17b1886-15de-477c-94dc-20546eaf83c2",
   "metadata": {},
   "source": [
    "#### New approach\n",
    "\n",
    "Rather than match records based on title, we can match records based their on position in the dataset. This is why titles not found with the API were still added to the dataset.\n",
    "\n",
    "First make sure that we have the same number of rows in each dataset:"
   ]
  },
  {
   "cell_type": "code",
   "execution_count": 15,
   "id": "0265d956-c120-477c-9ee4-da219685f500",
   "metadata": {},
   "outputs": [],
   "source": [
    "assert len(api_data) == len(df)"
   ]
  },
  {
   "cell_type": "markdown",
   "id": "b668b975-c338-45ef-80b1-5bdd95bb4c46",
   "metadata": {},
   "source": [
    "Both dataframes contain the same number of rows.\n",
    "\n",
    "To avoid matching serials with similar titles, we can ensure that <code>start_year</code> is consistent between the two:"
   ]
  },
  {
   "cell_type": "code",
   "execution_count": 16,
   "id": "ce6e5118-5159-435c-b4b7-f22febb773fd",
   "metadata": {},
   "outputs": [],
   "source": [
    "year_mask = df[\"start_year\"] == api_data[\"start_year\"]"
   ]
  },
  {
   "cell_type": "markdown",
   "id": "a718a7a4-35cd-46a7-97be-8a7ea83ad719",
   "metadata": {},
   "source": [
    "Filter API data to remove any rows that do not match the start year:"
   ]
  },
  {
   "cell_type": "code",
   "execution_count": 17,
   "id": "287dd0e8-3fe0-4f18-88c9-f270bf8c0ba6",
   "metadata": {},
   "outputs": [],
   "source": [
    "api_data_filtered = api_data.where(year_mask)\n",
    "# left join to retain all the original records\n",
    "enriched_data = df.join(api_data_filtered, how=\"left\", lsuffix=\"_imdb\", rsuffix=\"_tvmaze\")"
   ]
  },
  {
   "cell_type": "markdown",
   "id": "3e36631c-d950-4fb9-bb37-aa80409d4c9f",
   "metadata": {},
   "source": [
    "Merge the filtered <code>api_data</code> with the <code>df</code> to get the amalgamated dataset:"
   ]
  },
  {
   "cell_type": "code",
   "execution_count": 18,
   "id": "3b62bd11-dfb8-4eba-81f4-eb75ed368101",
   "metadata": {},
   "outputs": [
    {
     "data": {
      "text/html": [
       "<div>\n",
       "<style scoped>\n",
       "    .dataframe tbody tr th:only-of-type {\n",
       "        vertical-align: middle;\n",
       "    }\n",
       "\n",
       "    .dataframe tbody tr th {\n",
       "        vertical-align: top;\n",
       "    }\n",
       "\n",
       "    .dataframe thead th {\n",
       "        text-align: right;\n",
       "    }\n",
       "</style>\n",
       "<table border=\"1\" class=\"dataframe\">\n",
       "  <thead>\n",
       "    <tr style=\"text-align: right;\">\n",
       "      <th></th>\n",
       "      <th>title_imdb</th>\n",
       "      <th>start_year_imdb</th>\n",
       "      <th>end_year_imdb</th>\n",
       "      <th>genre</th>\n",
       "      <th>summary_imdb</th>\n",
       "      <th>rating_imdb</th>\n",
       "      <th>votes</th>\n",
       "      <th>run_time_imdb</th>\n",
       "      <th>actors</th>\n",
       "      <th>title_tvmaze</th>\n",
       "      <th>start_year_tvmaze</th>\n",
       "      <th>end_year_tvmaze</th>\n",
       "      <th>language</th>\n",
       "      <th>run_time_tvmaze</th>\n",
       "      <th>rating_tvmaze</th>\n",
       "      <th>summary_tvmaze</th>\n",
       "      <th>status</th>\n",
       "    </tr>\n",
       "  </thead>\n",
       "  <tbody>\n",
       "    <tr>\n",
       "      <th>0</th>\n",
       "      <td>Masters of the Universe: Revelation</td>\n",
       "      <td>2021</td>\n",
       "      <td>Ongoing</td>\n",
       "      <td>Animation, Action, Adventure</td>\n",
       "      <td>The war for Eternia begins again in what may b...</td>\n",
       "      <td>5.0</td>\n",
       "      <td>17870</td>\n",
       "      <td>25</td>\n",
       "      <td>Chris Wood, Sarah Michelle Gellar, Lena Headey...</td>\n",
       "      <td>Masters of the Universe: Revelation</td>\n",
       "      <td>2021</td>\n",
       "      <td>2021</td>\n",
       "      <td>English</td>\n",
       "      <td>26</td>\n",
       "      <td>6.6</td>\n",
       "      <td>A radical return to Eternia, Masters of the Un...</td>\n",
       "      <td>Ended</td>\n",
       "    </tr>\n",
       "    <tr>\n",
       "      <th>1</th>\n",
       "      <td>The Walking Dead</td>\n",
       "      <td>2010</td>\n",
       "      <td>2022</td>\n",
       "      <td>Drama, Horror, Thriller</td>\n",
       "      <td>Sheriff Deputy Rick Grimes wakes up from a com...</td>\n",
       "      <td>8.2</td>\n",
       "      <td>885805</td>\n",
       "      <td>44</td>\n",
       "      <td>Andrew Lincoln, Norman Reedus, Melissa McBride...</td>\n",
       "      <td>The Walking Dead</td>\n",
       "      <td>2010</td>\n",
       "      <td>2022</td>\n",
       "      <td>English</td>\n",
       "      <td>62</td>\n",
       "      <td>7.9</td>\n",
       "      <td>The Walking Dead tells the story of the months...</td>\n",
       "      <td>Ended</td>\n",
       "    </tr>\n",
       "    <tr>\n",
       "      <th>2</th>\n",
       "      <td>Rick and Morty</td>\n",
       "      <td>2013</td>\n",
       "      <td>Ongoing</td>\n",
       "      <td>Animation, Adventure, Comedy</td>\n",
       "      <td>An animated series that follows the exploits o...</td>\n",
       "      <td>9.2</td>\n",
       "      <td>414849</td>\n",
       "      <td>23</td>\n",
       "      <td>Justin Roiland, Chris Parnell, Spencer Grammer...</td>\n",
       "      <td>Rick and Morty</td>\n",
       "      <td>2013</td>\n",
       "      <td>NaN</td>\n",
       "      <td>English</td>\n",
       "      <td>30</td>\n",
       "      <td>8.8</td>\n",
       "      <td>Rick is a mentally gifted, but sociopathic and...</td>\n",
       "      <td>Running</td>\n",
       "    </tr>\n",
       "  </tbody>\n",
       "</table>\n",
       "</div>"
      ],
      "text/plain": [
       "                            title_imdb start_year_imdb end_year_imdb  \\\n",
       "0  Masters of the Universe: Revelation            2021       Ongoing   \n",
       "1                     The Walking Dead            2010          2022   \n",
       "2                       Rick and Morty            2013       Ongoing   \n",
       "\n",
       "                          genre  \\\n",
       "0  Animation, Action, Adventure   \n",
       "1       Drama, Horror, Thriller   \n",
       "2  Animation, Adventure, Comedy   \n",
       "\n",
       "                                        summary_imdb  rating_imdb   votes  \\\n",
       "0  The war for Eternia begins again in what may b...          5.0   17870   \n",
       "1  Sheriff Deputy Rick Grimes wakes up from a com...          8.2  885805   \n",
       "2  An animated series that follows the exploits o...          9.2  414849   \n",
       "\n",
       "   run_time_imdb                                             actors  \\\n",
       "0             25  Chris Wood, Sarah Michelle Gellar, Lena Headey...   \n",
       "1             44  Andrew Lincoln, Norman Reedus, Melissa McBride...   \n",
       "2             23  Justin Roiland, Chris Parnell, Spencer Grammer...   \n",
       "\n",
       "                          title_tvmaze start_year_tvmaze end_year_tvmaze  \\\n",
       "0  Masters of the Universe: Revelation              2021            2021   \n",
       "1                     The Walking Dead              2010            2022   \n",
       "2                       Rick and Morty              2013             NaN   \n",
       "\n",
       "  language  run_time_tvmaze  rating_tvmaze  \\\n",
       "0  English               26            6.6   \n",
       "1  English               62            7.9   \n",
       "2  English               30            8.8   \n",
       "\n",
       "                                      summary_tvmaze   status  \n",
       "0  A radical return to Eternia, Masters of the Un...    Ended  \n",
       "1  The Walking Dead tells the story of the months...    Ended  \n",
       "2  Rick is a mentally gifted, but sociopathic and...  Running  "
      ]
     },
     "execution_count": 18,
     "metadata": {},
     "output_type": "execute_result"
    }
   ],
   "source": [
    "enriched_data.head(3)"
   ]
  },
  {
   "cell_type": "markdown",
   "id": "e9f06720-995e-449c-9b04-0fe4455e3f95",
   "metadata": {},
   "source": [
    "#### Enrichment\n",
    "The main purpose of enriching the dataset is to update the <code>end_year</code> column, so we will start with that.\n",
    "\n",
    "Set all the entries with <code>Ongoing</code> to be NaN:"
   ]
  },
  {
   "cell_type": "code",
   "execution_count": 19,
   "id": "f8354783-43fa-4f28-9005-12ca18cdba27",
   "metadata": {},
   "outputs": [],
   "source": [
    "enriched_data.loc[enriched_data[\"end_year_imdb\"] == \"Ongoing\", \"end_year_imdb\"] = np.nan"
   ]
  },
  {
   "cell_type": "markdown",
   "id": "c14e50ba-f4b4-4f84-abdb-3cf63c6a32b1",
   "metadata": {},
   "source": [
    "Update the missing values in <code>end_year</code> with the ones retrieved from TVMaze. \n",
    "\n",
    "**NOTE**: If the value for <code>end_year</code> is not missing, this value will not be updated even if it is incorrect. This may cause disagreements between <code>end_year</code> and <code>status</code> in some cases, where a TV show that has ended according to the IMDb data is still shown as running based on the TVMaze data. See: *Family Guy* as an example of this behaviour."
   ]
  },
  {
   "cell_type": "code",
   "execution_count": 20,
   "id": "2f002012-e4ec-470d-b040-58b31ad3771a",
   "metadata": {},
   "outputs": [],
   "source": [
    "enriched_data[\"end_year_imdb\"] = enriched_data[\"end_year_imdb\"].fillna(value=enriched_data[\"end_year_tvmaze\"])"
   ]
  },
  {
   "cell_type": "markdown",
   "id": "56529228-906d-4f77-8b63-412428c52e68",
   "metadata": {},
   "source": [
    "##### Status\n",
    "To keep formatting and data types consistent across fields, we can impute <code>status</code> based on <code>end_year</code>.\n",
    "\n",
    "**Note**: This approach simplifies the category somewhat. The TVMaze data has an additional category 'To Be Determined' where there is no <code>end_year</code>, but the show is not necessarily continuing. One possible solution is to drop this column and calculate the status dynamically. However imputing values based on <code>end_year</code> is the most practical approach and conserves the most data.\n",
    "\n",
    "First, check the how much data overwriting 'To Be Determined' would affect:"
   ]
  },
  {
   "cell_type": "code",
   "execution_count": 21,
   "id": "af94b714-13c9-4a4f-934b-4c7efddce1f7",
   "metadata": {},
   "outputs": [
    {
     "data": {
      "text/plain": [
       "status\n",
       "Ended               1094\n",
       "To Be Determined     149\n",
       "Running              134\n",
       "Name: count, dtype: int64"
      ]
     },
     "execution_count": 21,
     "metadata": {},
     "output_type": "execute_result"
    }
   ],
   "source": [
    "enriched_data[\"status\"].value_counts()"
   ]
  },
  {
   "cell_type": "markdown",
   "id": "5ccd4c71-ca64-4419-9dbc-20ec042fee1e",
   "metadata": {},
   "source": [
    "Out of the non-missing data, 149 out of 1377 (or 10.8%) is 'To Be Determined'. This is quite a sizeable proportion of the data, so we should continue with the imputation strategy:"
   ]
  },
  {
   "cell_type": "code",
   "execution_count": 22,
   "id": "9bf85f76-c1bc-46fd-93d5-5ba22ffbd41f",
   "metadata": {},
   "outputs": [],
   "source": [
    "enriched_data.loc[(enriched_data[\"end_year_imdb\"].isna()) & (enriched_data[\"status\"].isna()), \"status\"] = \"Running\"\n",
    "enriched_data.loc[(~enriched_data[\"end_year_imdb\"].isna()) & (enriched_data[\"status\"].isna()), \"status\"] = \"Ended\"\n"
   ]
  },
  {
   "cell_type": "markdown",
   "id": "508b7673-52df-4e7d-b5c6-cbbaad8388f4",
   "metadata": {},
   "source": [
    "##### Runtime\n",
    "Take the opportunity to update values for <code>run_time</code>. This will reinstate the extreme values removed earlier, if they were indeed correct."
   ]
  },
  {
   "cell_type": "code",
   "execution_count": 23,
   "id": "f2e4d474-2919-4c14-9cfa-697033b886ac",
   "metadata": {},
   "outputs": [],
   "source": [
    "enriched_data[\"run_time_imdb\"] = enriched_data[\"run_time_imdb\"].fillna(value=enriched_data[\"run_time_tvmaze\"])"
   ]
  },
  {
   "cell_type": "markdown",
   "id": "d708b36d-7573-4944-9540-62a20571c6f1",
   "metadata": {},
   "source": [
    "#### Clean up\n",
    "Finally, rename the original columns back to their original names:"
   ]
  },
  {
   "cell_type": "code",
   "execution_count": 24,
   "id": "d88fec06-6e11-4ba2-b584-833c6a75ff0e",
   "metadata": {},
   "outputs": [],
   "source": [
    "new_names = {\n",
    "    \"title_imdb\": \"title\",\n",
    "    \"start_year_imdb\": \"start_year\",\n",
    "    \"end_year_imdb\": \"end_year\",\n",
    "    \"run_time_imdb\": \"run_time\"\n",
    "}\n",
    "\n",
    "enriched_data = enriched_data.rename(new_names, axis=1)"
   ]
  },
  {
   "cell_type": "markdown",
   "id": "82040daa-d776-42ef-8c0b-90fd039463c5",
   "metadata": {},
   "source": [
    "Select and order the remaining columns."
   ]
  },
  {
   "cell_type": "code",
   "execution_count": 25,
   "id": "acc93456-dac3-40f0-8ed5-45ec1744b8b7",
   "metadata": {},
   "outputs": [],
   "source": [
    "ordered_columns = [\n",
    "    \"title\",\n",
    "    \"start_year\",\n",
    "    \"end_year\",\n",
    "    \"genre\",\n",
    "    \"summary_tvmaze\",\n",
    "    \"summary_imdb\",\n",
    "    \"rating_tvmaze\",\n",
    "    \"rating_imdb\",\n",
    "    \"votes\",\n",
    "    \"run_time\",\n",
    "    \"language\",\n",
    "    \"actors\",\n",
    "    \"status\"\n",
    "]\n",
    "\n",
    "enriched_data = enriched_data.loc[:, ordered_columns]"
   ]
  },
  {
   "cell_type": "markdown",
   "id": "257a91b5-d6fe-4d36-b353-bddba3bb7dfc",
   "metadata": {},
   "source": [
    "### Enrichment summary\n",
    "\n",
    "Check the changes made to the data frame:\n",
    "\n"
   ]
  },
  {
   "cell_type": "code",
   "execution_count": 26,
   "id": "f04e9de8-e142-456e-aad4-1e7ea925c81e",
   "metadata": {},
   "outputs": [
    {
     "data": {
      "text/html": [
       "<div>\n",
       "<style scoped>\n",
       "    .dataframe tbody tr th:only-of-type {\n",
       "        vertical-align: middle;\n",
       "    }\n",
       "\n",
       "    .dataframe tbody tr th {\n",
       "        vertical-align: top;\n",
       "    }\n",
       "\n",
       "    .dataframe thead th {\n",
       "        text-align: right;\n",
       "    }\n",
       "</style>\n",
       "<table border=\"1\" class=\"dataframe\">\n",
       "  <thead>\n",
       "    <tr style=\"text-align: right;\">\n",
       "      <th></th>\n",
       "      <th>title</th>\n",
       "      <th>start_year</th>\n",
       "      <th>end_year</th>\n",
       "      <th>genre</th>\n",
       "      <th>summary_tvmaze</th>\n",
       "      <th>summary_imdb</th>\n",
       "      <th>rating_tvmaze</th>\n",
       "      <th>rating_imdb</th>\n",
       "      <th>votes</th>\n",
       "      <th>run_time</th>\n",
       "      <th>language</th>\n",
       "      <th>actors</th>\n",
       "      <th>status</th>\n",
       "    </tr>\n",
       "  </thead>\n",
       "  <tbody>\n",
       "    <tr>\n",
       "      <th>0</th>\n",
       "      <td>Masters of the Universe: Revelation</td>\n",
       "      <td>2021</td>\n",
       "      <td>2021</td>\n",
       "      <td>Animation, Action, Adventure</td>\n",
       "      <td>A radical return to Eternia, Masters of the Un...</td>\n",
       "      <td>The war for Eternia begins again in what may b...</td>\n",
       "      <td>6.6</td>\n",
       "      <td>5.0</td>\n",
       "      <td>17870</td>\n",
       "      <td>25</td>\n",
       "      <td>English</td>\n",
       "      <td>Chris Wood, Sarah Michelle Gellar, Lena Headey...</td>\n",
       "      <td>Ended</td>\n",
       "    </tr>\n",
       "    <tr>\n",
       "      <th>1</th>\n",
       "      <td>The Walking Dead</td>\n",
       "      <td>2010</td>\n",
       "      <td>2022</td>\n",
       "      <td>Drama, Horror, Thriller</td>\n",
       "      <td>The Walking Dead tells the story of the months...</td>\n",
       "      <td>Sheriff Deputy Rick Grimes wakes up from a com...</td>\n",
       "      <td>7.9</td>\n",
       "      <td>8.2</td>\n",
       "      <td>885805</td>\n",
       "      <td>44</td>\n",
       "      <td>English</td>\n",
       "      <td>Andrew Lincoln, Norman Reedus, Melissa McBride...</td>\n",
       "      <td>Ended</td>\n",
       "    </tr>\n",
       "    <tr>\n",
       "      <th>2</th>\n",
       "      <td>Rick and Morty</td>\n",
       "      <td>2013</td>\n",
       "      <td>NaN</td>\n",
       "      <td>Animation, Adventure, Comedy</td>\n",
       "      <td>Rick is a mentally gifted, but sociopathic and...</td>\n",
       "      <td>An animated series that follows the exploits o...</td>\n",
       "      <td>8.8</td>\n",
       "      <td>9.2</td>\n",
       "      <td>414849</td>\n",
       "      <td>23</td>\n",
       "      <td>English</td>\n",
       "      <td>Justin Roiland, Chris Parnell, Spencer Grammer...</td>\n",
       "      <td>Running</td>\n",
       "    </tr>\n",
       "    <tr>\n",
       "      <th>3</th>\n",
       "      <td>Outer Banks</td>\n",
       "      <td>2020</td>\n",
       "      <td>NaN</td>\n",
       "      <td>Action, Crime, Drama</td>\n",
       "      <td>On an island of haves and have-nots, teen John...</td>\n",
       "      <td>A group of teenagers from the wrong side of th...</td>\n",
       "      <td>7.0</td>\n",
       "      <td>7.6</td>\n",
       "      <td>25858</td>\n",
       "      <td>50</td>\n",
       "      <td>English</td>\n",
       "      <td>Chase Stokes, Madelyn Cline, Madison Bailey, J...</td>\n",
       "      <td>Running</td>\n",
       "    </tr>\n",
       "    <tr>\n",
       "      <th>4</th>\n",
       "      <td>Dexter</td>\n",
       "      <td>2006</td>\n",
       "      <td>2013</td>\n",
       "      <td>Crime, Drama, Mystery</td>\n",
       "      <td>He's smart, he's good looking, and he's got a ...</td>\n",
       "      <td>By day, mild-mannered Dexter is a blood-spatte...</td>\n",
       "      <td>8.4</td>\n",
       "      <td>8.6</td>\n",
       "      <td>665387</td>\n",
       "      <td>53</td>\n",
       "      <td>English</td>\n",
       "      <td>Michael C. Hall, Jennifer Carpenter, David Zay...</td>\n",
       "      <td>Ended</td>\n",
       "    </tr>\n",
       "  </tbody>\n",
       "</table>\n",
       "</div>"
      ],
      "text/plain": [
       "                                 title start_year end_year  \\\n",
       "0  Masters of the Universe: Revelation       2021     2021   \n",
       "1                     The Walking Dead       2010     2022   \n",
       "2                       Rick and Morty       2013      NaN   \n",
       "3                          Outer Banks       2020      NaN   \n",
       "4                               Dexter       2006     2013   \n",
       "\n",
       "                          genre  \\\n",
       "0  Animation, Action, Adventure   \n",
       "1       Drama, Horror, Thriller   \n",
       "2  Animation, Adventure, Comedy   \n",
       "3          Action, Crime, Drama   \n",
       "4         Crime, Drama, Mystery   \n",
       "\n",
       "                                      summary_tvmaze  \\\n",
       "0  A radical return to Eternia, Masters of the Un...   \n",
       "1  The Walking Dead tells the story of the months...   \n",
       "2  Rick is a mentally gifted, but sociopathic and...   \n",
       "3  On an island of haves and have-nots, teen John...   \n",
       "4  He's smart, he's good looking, and he's got a ...   \n",
       "\n",
       "                                        summary_imdb  rating_tvmaze  \\\n",
       "0  The war for Eternia begins again in what may b...            6.6   \n",
       "1  Sheriff Deputy Rick Grimes wakes up from a com...            7.9   \n",
       "2  An animated series that follows the exploits o...            8.8   \n",
       "3  A group of teenagers from the wrong side of th...            7.0   \n",
       "4  By day, mild-mannered Dexter is a blood-spatte...            8.4   \n",
       "\n",
       "   rating_imdb   votes  run_time language  \\\n",
       "0          5.0   17870        25  English   \n",
       "1          8.2  885805        44  English   \n",
       "2          9.2  414849        23  English   \n",
       "3          7.6   25858        50  English   \n",
       "4          8.6  665387        53  English   \n",
       "\n",
       "                                              actors   status  \n",
       "0  Chris Wood, Sarah Michelle Gellar, Lena Headey...    Ended  \n",
       "1  Andrew Lincoln, Norman Reedus, Melissa McBride...    Ended  \n",
       "2  Justin Roiland, Chris Parnell, Spencer Grammer...  Running  \n",
       "3  Chase Stokes, Madelyn Cline, Madison Bailey, J...  Running  \n",
       "4  Michael C. Hall, Jennifer Carpenter, David Zay...    Ended  "
      ]
     },
     "execution_count": 26,
     "metadata": {},
     "output_type": "execute_result"
    }
   ],
   "source": [
    "enriched_data.head()"
   ]
  },
  {
   "cell_type": "markdown",
   "id": "fe39cf90-4263-41dd-9935-db9ca211cbb6",
   "metadata": {},
   "source": [
    "In this part, we constructed an API to obtain data from an external source that could be used to enhance the underlying data. We used the new data frame to fill in missing values and add additional columns that may be useful in further analysis.\n",
    "\n",
    "The ETL pipeline can be adapted to retrieve information about different shows, or to run on a schedule by using a data orchestration tool such as <i>Apache Airflow</i>.\n",
    "\n",
    "**Note I**: the goal of this part was to enhance the original data, not replace it. Therefore only missing data was added to the original data frame and new columns added to the original columns.\n",
    "\n",
    "**Note II**: I have noticed that some missing entries may be found with some modifications:\n",
    "\n",
    "There are two many cases for these:\n",
    "\n",
    "**Firstly, the title in the IMDb dataset is too different from the title in the TVMaze dataset.**\n",
    "\n",
    "For example, in the original dataset we have <i>NCIS: Naval Criminal Investigation Service</i>. This title does not appear in the TVMaze database, however <i>NCIS</i> does. This title and others may be found if we clipped titles that contained <code>:</code> to just the first part of their title. However, this may have unintended consequences, so both versions should be tried to be sure.\n",
    "\n",
    "**Secondly, the start years differ between the datasets**\n",
    "\n",
    "<i>Adventure Time</i> exists in both datasets, but haven't been matched because <code>start_year</code> differs (2010 vs 2008). This can be addressed by allowing more 'fuzzy' matching on <code>start_year</code>. As before, this may lead to unintended consequences, so fuzzy matches should be checked before continuing.\n",
    "\n",
    "Overall, a decent amount of data has been found, and can be adequately used for future analysis.\n",
    "\n",
    "\n",
    "Save the newly enhanced and updated data frame as <code>stage4_enriched_serial_data.csv</code>. This file will be used in the next part, <i>data normalisation</i>."
   ]
  },
  {
   "cell_type": "code",
   "execution_count": 27,
   "id": "19d44071-6ff1-4298-b94f-3434fab23487",
   "metadata": {
    "editable": true,
    "slideshow": {
     "slide_type": ""
    },
    "tags": []
   },
   "outputs": [],
   "source": [
    "enriched_data.to_csv(\"../data/interim/stage4_enriched_serial_data.csv\", index=False)"
   ]
  },
  {
   "cell_type": "markdown",
   "id": "5d2d8479-1a9b-44ac-910f-e74aa0a1851d",
   "metadata": {},
   "source": [
    "### Navigation\n",
    "**Previous book**: <a href='./03_data_subsetting.ipynb'>[Data Subsetting]</a>\n",
    "\n",
    "**Next book**: <a href='./05_normalisation.ipynb'>[Normalisation]</a>"
   ]
  }
 ],
 "metadata": {
  "kernelspec": {
   "display_name": "Python 3 (ipykernel)",
   "language": "python",
   "name": "python3"
  },
  "language_info": {
   "codemirror_mode": {
    "name": "ipython",
    "version": 3
   },
   "file_extension": ".py",
   "mimetype": "text/x-python",
   "name": "python",
   "nbconvert_exporter": "python",
   "pygments_lexer": "ipython3",
   "version": "3.10.11"
  }
 },
 "nbformat": 4,
 "nbformat_minor": 5
}
